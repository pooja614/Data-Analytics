{
 "cells": [
  {
   "cell_type": "markdown",
   "id": "92cb830f",
   "metadata": {},
   "source": [
    "# RFM Customer Segmentation and CLV\n",
    "\n",
    "As per <a href = \"https://clevertap.com/blog/rfm-analysis/\">blog</a>, <br>\n",
    "* RFM stands for recency, frequency and monetary value corresponding to a customer trait. <br>\n",
    "* They indicate customers' behaviour in pruchases which can be utilized for business decisions. <br>\n",
    "* Frequency and monetary value affects customer's life time value (CLV) and recency affects retention rate. \n"
   ]
  },
  {
   "cell_type": "markdown",
   "id": "76689295",
   "metadata": {},
   "source": [
    "### About the data \n",
    "\n",
    "The data is obtained from <a href = \"https://www.kaggle.com/datasets/carrie1/ecommerce-data\">kaggle.<a>\n",
    "* InvoiceNo: Invoice number. A 6-digit integral number uniquely assigned to each transaction. If this code starts with the letter 'c', it indicates a cancellation. \n",
    "* StockCode: Product (item) code. A 5-digit integral number uniquely assigned to each distinct product.\n",
    "* Description: Product (item) name.\n",
    "* Quantity: The quantities of each product (item) per transaction. \n",
    "* InvoiceDate: Inovice date and time. The day and time when a transaction was generated \n",
    "* UnitPrice: Product price per unit in sterling \n",
    "* CustomerID: A 5-digit integral number uniquely assigned to each customer. \n",
    "* Country: The name of the country where a customer resides."
   ]
  },
  {
   "cell_type": "markdown",
   "id": "9060c077",
   "metadata": {},
   "source": [
    "### Data Preparation"
   ]
  },
  {
   "cell_type": "code",
   "execution_count": 1,
   "id": "d852261d",
   "metadata": {},
   "outputs": [],
   "source": [
    "import numpy as np \n",
    "import matplotlib.pyplot as plt \n",
    "import pandas as pd  \n",
    "import seaborn as sns\n",
    "df = pd.read_csv('retail_data.csv', encoding=\"ISO-8859-1\")"
   ]
  },
  {
   "cell_type": "code",
   "execution_count": 29,
   "id": "0b947aee",
   "metadata": {},
   "outputs": [
    {
     "data": {
      "text/html": [
       "<div>\n",
       "<style scoped>\n",
       "    .dataframe tbody tr th:only-of-type {\n",
       "        vertical-align: middle;\n",
       "    }\n",
       "\n",
       "    .dataframe tbody tr th {\n",
       "        vertical-align: top;\n",
       "    }\n",
       "\n",
       "    .dataframe thead th {\n",
       "        text-align: right;\n",
       "    }\n",
       "</style>\n",
       "<table border=\"1\" class=\"dataframe\">\n",
       "  <thead>\n",
       "    <tr style=\"text-align: right;\">\n",
       "      <th></th>\n",
       "      <th>InvoiceNo</th>\n",
       "      <th>StockCode</th>\n",
       "      <th>Description</th>\n",
       "      <th>Quantity</th>\n",
       "      <th>InvoiceDate</th>\n",
       "      <th>UnitPrice</th>\n",
       "      <th>CustomerID</th>\n",
       "      <th>Country</th>\n",
       "    </tr>\n",
       "  </thead>\n",
       "  <tbody>\n",
       "    <tr>\n",
       "      <th>0</th>\n",
       "      <td>536365</td>\n",
       "      <td>85123A</td>\n",
       "      <td>WHITE HANGING HEART T-LIGHT HOLDER</td>\n",
       "      <td>6</td>\n",
       "      <td>12/1/2010 8:26</td>\n",
       "      <td>2.55</td>\n",
       "      <td>17850.0</td>\n",
       "      <td>United Kingdom</td>\n",
       "    </tr>\n",
       "    <tr>\n",
       "      <th>1</th>\n",
       "      <td>536365</td>\n",
       "      <td>71053</td>\n",
       "      <td>WHITE METAL LANTERN</td>\n",
       "      <td>6</td>\n",
       "      <td>12/1/2010 8:26</td>\n",
       "      <td>3.39</td>\n",
       "      <td>17850.0</td>\n",
       "      <td>United Kingdom</td>\n",
       "    </tr>\n",
       "    <tr>\n",
       "      <th>2</th>\n",
       "      <td>536365</td>\n",
       "      <td>84406B</td>\n",
       "      <td>CREAM CUPID HEARTS COAT HANGER</td>\n",
       "      <td>8</td>\n",
       "      <td>12/1/2010 8:26</td>\n",
       "      <td>2.75</td>\n",
       "      <td>17850.0</td>\n",
       "      <td>United Kingdom</td>\n",
       "    </tr>\n",
       "    <tr>\n",
       "      <th>3</th>\n",
       "      <td>536365</td>\n",
       "      <td>84029G</td>\n",
       "      <td>KNITTED UNION FLAG HOT WATER BOTTLE</td>\n",
       "      <td>6</td>\n",
       "      <td>12/1/2010 8:26</td>\n",
       "      <td>3.39</td>\n",
       "      <td>17850.0</td>\n",
       "      <td>United Kingdom</td>\n",
       "    </tr>\n",
       "    <tr>\n",
       "      <th>4</th>\n",
       "      <td>536365</td>\n",
       "      <td>84029E</td>\n",
       "      <td>RED WOOLLY HOTTIE WHITE HEART.</td>\n",
       "      <td>6</td>\n",
       "      <td>12/1/2010 8:26</td>\n",
       "      <td>3.39</td>\n",
       "      <td>17850.0</td>\n",
       "      <td>United Kingdom</td>\n",
       "    </tr>\n",
       "  </tbody>\n",
       "</table>\n",
       "</div>"
      ],
      "text/plain": [
       "  InvoiceNo StockCode                          Description  Quantity  \\\n",
       "0    536365    85123A   WHITE HANGING HEART T-LIGHT HOLDER         6   \n",
       "1    536365     71053                  WHITE METAL LANTERN         6   \n",
       "2    536365    84406B       CREAM CUPID HEARTS COAT HANGER         8   \n",
       "3    536365    84029G  KNITTED UNION FLAG HOT WATER BOTTLE         6   \n",
       "4    536365    84029E       RED WOOLLY HOTTIE WHITE HEART.         6   \n",
       "\n",
       "      InvoiceDate  UnitPrice  CustomerID         Country  \n",
       "0  12/1/2010 8:26       2.55     17850.0  United Kingdom  \n",
       "1  12/1/2010 8:26       3.39     17850.0  United Kingdom  \n",
       "2  12/1/2010 8:26       2.75     17850.0  United Kingdom  \n",
       "3  12/1/2010 8:26       3.39     17850.0  United Kingdom  \n",
       "4  12/1/2010 8:26       3.39     17850.0  United Kingdom  "
      ]
     },
     "execution_count": 29,
     "metadata": {},
     "output_type": "execute_result"
    }
   ],
   "source": [
    "df.head()"
   ]
  },
  {
   "cell_type": "code",
   "execution_count": 28,
   "id": "897f093b",
   "metadata": {},
   "outputs": [
    {
     "name": "stdout",
     "output_type": "stream",
     "text": [
      "(541909, 8)\n",
      "------------------------------------------------------------\n",
      "<class 'pandas.core.frame.DataFrame'>\n",
      "RangeIndex: 541909 entries, 0 to 541908\n",
      "Data columns (total 8 columns):\n",
      " #   Column       Non-Null Count   Dtype  \n",
      "---  ------       --------------   -----  \n",
      " 0   InvoiceNo    541909 non-null  object \n",
      " 1   StockCode    541909 non-null  object \n",
      " 2   Description  540455 non-null  object \n",
      " 3   Quantity     541909 non-null  int64  \n",
      " 4   InvoiceDate  541909 non-null  object \n",
      " 5   UnitPrice    541909 non-null  float64\n",
      " 6   CustomerID   406829 non-null  float64\n",
      " 7   Country      541909 non-null  object \n",
      "dtypes: float64(2), int64(1), object(5)\n",
      "memory usage: 33.1+ MB\n",
      "None\n",
      "------------------------------------------------------------\n",
      "InvoiceNo                                  536365\n",
      "StockCode                                  85123A\n",
      "Description    WHITE HANGING HEART T-LIGHT HOLDER\n",
      "Quantity                                        6\n",
      "InvoiceDate                        12/1/2010 8:26\n",
      "UnitPrice                                    2.55\n",
      "CustomerID                                17850.0\n",
      "Country                            United Kingdom\n",
      "Name: 0, dtype: object\n",
      "------------------------------------------------------------\n"
     ]
    }
   ],
   "source": [
    "def visualization():\n",
    "    print(df.shape)\n",
    "    print('------------------------------------------------------------')\n",
    "    print(df.info())         \n",
    "    print('------------------------------------------------------------')\n",
    "    print(df.iloc[0])\n",
    "    print('------------------------------------------------------------')\n",
    "\n",
    "visualization()"
   ]
  },
  {
   "cell_type": "code",
   "execution_count": 30,
   "id": "5c373f80",
   "metadata": {},
   "outputs": [
    {
     "data": {
      "text/plain": [
       "InvoiceNo           0\n",
       "StockCode           0\n",
       "Description      1454\n",
       "Quantity            0\n",
       "InvoiceDate         0\n",
       "UnitPrice           0\n",
       "CustomerID     135080\n",
       "Country             0\n",
       "dtype: int64"
      ]
     },
     "execution_count": 30,
     "metadata": {},
     "output_type": "execute_result"
    }
   ],
   "source": [
    "df.isnull().sum()"
   ]
  },
  {
   "cell_type": "code",
   "execution_count": 2,
   "id": "99fca18d",
   "metadata": {},
   "outputs": [],
   "source": [
    "df.dropna(subset=['CustomerID'],how='all',inplace=True)"
   ]
  },
  {
   "cell_type": "code",
   "execution_count": 3,
   "id": "8cf5fbde",
   "metadata": {},
   "outputs": [
    {
     "data": {
      "text/plain": [
       "InvoiceNo      0\n",
       "StockCode      0\n",
       "Description    0\n",
       "Quantity       0\n",
       "InvoiceDate    0\n",
       "UnitPrice      0\n",
       "CustomerID     0\n",
       "Country        0\n",
       "dtype: int64"
      ]
     },
     "execution_count": 3,
     "metadata": {},
     "output_type": "execute_result"
    }
   ],
   "source": [
    "df.isnull().sum()"
   ]
  },
  {
   "cell_type": "code",
   "execution_count": 39,
   "id": "d02202f5",
   "metadata": {},
   "outputs": [
    {
     "data": {
      "text/html": [
       "<div>\n",
       "<style scoped>\n",
       "    .dataframe tbody tr th:only-of-type {\n",
       "        vertical-align: middle;\n",
       "    }\n",
       "\n",
       "    .dataframe tbody tr th {\n",
       "        vertical-align: top;\n",
       "    }\n",
       "\n",
       "    .dataframe thead th {\n",
       "        text-align: right;\n",
       "    }\n",
       "</style>\n",
       "<table border=\"1\" class=\"dataframe\">\n",
       "  <thead>\n",
       "    <tr style=\"text-align: right;\">\n",
       "      <th></th>\n",
       "      <th>Quantity</th>\n",
       "      <th>UnitPrice</th>\n",
       "    </tr>\n",
       "  </thead>\n",
       "  <tbody>\n",
       "    <tr>\n",
       "      <th>count</th>\n",
       "      <td>406829.000000</td>\n",
       "      <td>406829.000000</td>\n",
       "    </tr>\n",
       "    <tr>\n",
       "      <th>mean</th>\n",
       "      <td>12.061303</td>\n",
       "      <td>3.460471</td>\n",
       "    </tr>\n",
       "    <tr>\n",
       "      <th>std</th>\n",
       "      <td>248.693370</td>\n",
       "      <td>69.315162</td>\n",
       "    </tr>\n",
       "    <tr>\n",
       "      <th>min</th>\n",
       "      <td>-80995.000000</td>\n",
       "      <td>0.000000</td>\n",
       "    </tr>\n",
       "    <tr>\n",
       "      <th>25%</th>\n",
       "      <td>2.000000</td>\n",
       "      <td>1.250000</td>\n",
       "    </tr>\n",
       "    <tr>\n",
       "      <th>50%</th>\n",
       "      <td>5.000000</td>\n",
       "      <td>1.950000</td>\n",
       "    </tr>\n",
       "    <tr>\n",
       "      <th>75%</th>\n",
       "      <td>12.000000</td>\n",
       "      <td>3.750000</td>\n",
       "    </tr>\n",
       "    <tr>\n",
       "      <th>max</th>\n",
       "      <td>80995.000000</td>\n",
       "      <td>38970.000000</td>\n",
       "    </tr>\n",
       "  </tbody>\n",
       "</table>\n",
       "</div>"
      ],
      "text/plain": [
       "            Quantity      UnitPrice\n",
       "count  406829.000000  406829.000000\n",
       "mean       12.061303       3.460471\n",
       "std       248.693370      69.315162\n",
       "min    -80995.000000       0.000000\n",
       "25%         2.000000       1.250000\n",
       "50%         5.000000       1.950000\n",
       "75%        12.000000       3.750000\n",
       "max     80995.000000   38970.000000"
      ]
     },
     "execution_count": 39,
     "metadata": {},
     "output_type": "execute_result"
    }
   ],
   "source": [
    "df[['Quantity', 'UnitPrice']].describe()"
   ]
  },
  {
   "cell_type": "code",
   "execution_count": 40,
   "id": "8533f55f",
   "metadata": {},
   "outputs": [
    {
     "data": {
      "text/html": [
       "<div>\n",
       "<style scoped>\n",
       "    .dataframe tbody tr th:only-of-type {\n",
       "        vertical-align: middle;\n",
       "    }\n",
       "\n",
       "    .dataframe tbody tr th {\n",
       "        vertical-align: top;\n",
       "    }\n",
       "\n",
       "    .dataframe thead th {\n",
       "        text-align: right;\n",
       "    }\n",
       "</style>\n",
       "<table border=\"1\" class=\"dataframe\">\n",
       "  <thead>\n",
       "    <tr style=\"text-align: right;\">\n",
       "      <th></th>\n",
       "      <th>InvoiceNo</th>\n",
       "      <th>StockCode</th>\n",
       "      <th>Description</th>\n",
       "      <th>Quantity</th>\n",
       "      <th>InvoiceDate</th>\n",
       "      <th>UnitPrice</th>\n",
       "      <th>CustomerID</th>\n",
       "      <th>Country</th>\n",
       "    </tr>\n",
       "  </thead>\n",
       "  <tbody>\n",
       "    <tr>\n",
       "      <th>141</th>\n",
       "      <td>C536379</td>\n",
       "      <td>D</td>\n",
       "      <td>Discount</td>\n",
       "      <td>-1</td>\n",
       "      <td>12/1/2010 9:41</td>\n",
       "      <td>27.50</td>\n",
       "      <td>14527.0</td>\n",
       "      <td>United Kingdom</td>\n",
       "    </tr>\n",
       "    <tr>\n",
       "      <th>154</th>\n",
       "      <td>C536383</td>\n",
       "      <td>35004C</td>\n",
       "      <td>SET OF 3 COLOURED  FLYING DUCKS</td>\n",
       "      <td>-1</td>\n",
       "      <td>12/1/2010 9:49</td>\n",
       "      <td>4.65</td>\n",
       "      <td>15311.0</td>\n",
       "      <td>United Kingdom</td>\n",
       "    </tr>\n",
       "    <tr>\n",
       "      <th>235</th>\n",
       "      <td>C536391</td>\n",
       "      <td>22556</td>\n",
       "      <td>PLASTERS IN TIN CIRCUS PARADE</td>\n",
       "      <td>-12</td>\n",
       "      <td>12/1/2010 10:24</td>\n",
       "      <td>1.65</td>\n",
       "      <td>17548.0</td>\n",
       "      <td>United Kingdom</td>\n",
       "    </tr>\n",
       "    <tr>\n",
       "      <th>236</th>\n",
       "      <td>C536391</td>\n",
       "      <td>21984</td>\n",
       "      <td>PACK OF 12 PINK PAISLEY TISSUES</td>\n",
       "      <td>-24</td>\n",
       "      <td>12/1/2010 10:24</td>\n",
       "      <td>0.29</td>\n",
       "      <td>17548.0</td>\n",
       "      <td>United Kingdom</td>\n",
       "    </tr>\n",
       "    <tr>\n",
       "      <th>237</th>\n",
       "      <td>C536391</td>\n",
       "      <td>21983</td>\n",
       "      <td>PACK OF 12 BLUE PAISLEY TISSUES</td>\n",
       "      <td>-24</td>\n",
       "      <td>12/1/2010 10:24</td>\n",
       "      <td>0.29</td>\n",
       "      <td>17548.0</td>\n",
       "      <td>United Kingdom</td>\n",
       "    </tr>\n",
       "    <tr>\n",
       "      <th>...</th>\n",
       "      <td>...</td>\n",
       "      <td>...</td>\n",
       "      <td>...</td>\n",
       "      <td>...</td>\n",
       "      <td>...</td>\n",
       "      <td>...</td>\n",
       "      <td>...</td>\n",
       "      <td>...</td>\n",
       "    </tr>\n",
       "    <tr>\n",
       "      <th>540449</th>\n",
       "      <td>C581490</td>\n",
       "      <td>23144</td>\n",
       "      <td>ZINC T-LIGHT HOLDER STARS SMALL</td>\n",
       "      <td>-11</td>\n",
       "      <td>12/9/2011 9:57</td>\n",
       "      <td>0.83</td>\n",
       "      <td>14397.0</td>\n",
       "      <td>United Kingdom</td>\n",
       "    </tr>\n",
       "    <tr>\n",
       "      <th>541541</th>\n",
       "      <td>C581499</td>\n",
       "      <td>M</td>\n",
       "      <td>Manual</td>\n",
       "      <td>-1</td>\n",
       "      <td>12/9/2011 10:28</td>\n",
       "      <td>224.69</td>\n",
       "      <td>15498.0</td>\n",
       "      <td>United Kingdom</td>\n",
       "    </tr>\n",
       "    <tr>\n",
       "      <th>541715</th>\n",
       "      <td>C581568</td>\n",
       "      <td>21258</td>\n",
       "      <td>VICTORIAN SEWING BOX LARGE</td>\n",
       "      <td>-5</td>\n",
       "      <td>12/9/2011 11:57</td>\n",
       "      <td>10.95</td>\n",
       "      <td>15311.0</td>\n",
       "      <td>United Kingdom</td>\n",
       "    </tr>\n",
       "    <tr>\n",
       "      <th>541716</th>\n",
       "      <td>C581569</td>\n",
       "      <td>84978</td>\n",
       "      <td>HANGING HEART JAR T-LIGHT HOLDER</td>\n",
       "      <td>-1</td>\n",
       "      <td>12/9/2011 11:58</td>\n",
       "      <td>1.25</td>\n",
       "      <td>17315.0</td>\n",
       "      <td>United Kingdom</td>\n",
       "    </tr>\n",
       "    <tr>\n",
       "      <th>541717</th>\n",
       "      <td>C581569</td>\n",
       "      <td>20979</td>\n",
       "      <td>36 PENCILS TUBE RED RETROSPOT</td>\n",
       "      <td>-5</td>\n",
       "      <td>12/9/2011 11:58</td>\n",
       "      <td>1.25</td>\n",
       "      <td>17315.0</td>\n",
       "      <td>United Kingdom</td>\n",
       "    </tr>\n",
       "  </tbody>\n",
       "</table>\n",
       "<p>8905 rows × 8 columns</p>\n",
       "</div>"
      ],
      "text/plain": [
       "       InvoiceNo StockCode                       Description  Quantity  \\\n",
       "141      C536379         D                          Discount        -1   \n",
       "154      C536383    35004C   SET OF 3 COLOURED  FLYING DUCKS        -1   \n",
       "235      C536391     22556    PLASTERS IN TIN CIRCUS PARADE        -12   \n",
       "236      C536391     21984  PACK OF 12 PINK PAISLEY TISSUES        -24   \n",
       "237      C536391     21983  PACK OF 12 BLUE PAISLEY TISSUES        -24   \n",
       "...          ...       ...                               ...       ...   \n",
       "540449   C581490     23144   ZINC T-LIGHT HOLDER STARS SMALL       -11   \n",
       "541541   C581499         M                            Manual        -1   \n",
       "541715   C581568     21258        VICTORIAN SEWING BOX LARGE        -5   \n",
       "541716   C581569     84978  HANGING HEART JAR T-LIGHT HOLDER        -1   \n",
       "541717   C581569     20979     36 PENCILS TUBE RED RETROSPOT        -5   \n",
       "\n",
       "            InvoiceDate  UnitPrice  CustomerID         Country  \n",
       "141      12/1/2010 9:41      27.50     14527.0  United Kingdom  \n",
       "154      12/1/2010 9:49       4.65     15311.0  United Kingdom  \n",
       "235     12/1/2010 10:24       1.65     17548.0  United Kingdom  \n",
       "236     12/1/2010 10:24       0.29     17548.0  United Kingdom  \n",
       "237     12/1/2010 10:24       0.29     17548.0  United Kingdom  \n",
       "...                 ...        ...         ...             ...  \n",
       "540449   12/9/2011 9:57       0.83     14397.0  United Kingdom  \n",
       "541541  12/9/2011 10:28     224.69     15498.0  United Kingdom  \n",
       "541715  12/9/2011 11:57      10.95     15311.0  United Kingdom  \n",
       "541716  12/9/2011 11:58       1.25     17315.0  United Kingdom  \n",
       "541717  12/9/2011 11:58       1.25     17315.0  United Kingdom  \n",
       "\n",
       "[8905 rows x 8 columns]"
      ]
     },
     "execution_count": 40,
     "metadata": {},
     "output_type": "execute_result"
    }
   ],
   "source": [
    "df[df['Quantity'] < 0] "
   ]
  },
  {
   "cell_type": "markdown",
   "id": "930968cd",
   "metadata": {},
   "source": [
    "* Negative Quantities indicates returned items "
   ]
  },
  {
   "cell_type": "code",
   "execution_count": 3,
   "id": "7a7f327b",
   "metadata": {},
   "outputs": [],
   "source": [
    "# Removing returned products (Invoice numbers starting with C) from the data set\n",
    "df = df[~df[\"InvoiceNo\"].str.contains(\"C\", na = False)]"
   ]
  },
  {
   "cell_type": "code",
   "execution_count": 4,
   "id": "59a0cbfd",
   "metadata": {},
   "outputs": [],
   "source": [
    "df['InvoiceDate'] = pd.to_datetime(df['InvoiceDate']) \n",
    "df['date'] = df['InvoiceDate'].dt.strftime('%Y-%m-%d')\n",
    "df['date'] = pd.to_datetime(df['date'])"
   ]
  },
  {
   "cell_type": "markdown",
   "id": "e638015a",
   "metadata": {},
   "source": [
    "## Ranking and KMeans\n",
    "\n",
    "The are 2 methods used here  for RFM customer segmentation. \n",
    "* Ranking method: Here ranks are assigned for RFM values and then the data is segmented based on combined rank values. \n",
    "* KMeans method: KMeans clustering method is used for segmentation. "
   ]
  },
  {
   "cell_type": "markdown",
   "id": "4d81f442",
   "metadata": {},
   "source": [
    "### Recency"
   ]
  },
  {
   "cell_type": "code",
   "execution_count": 5,
   "id": "d391454d",
   "metadata": {},
   "outputs": [
    {
     "data": {
      "text/plain": [
       "Timestamp('2011-12-09 00:00:00')"
      ]
     },
     "execution_count": 5,
     "metadata": {},
     "output_type": "execute_result"
    }
   ],
   "source": [
    "max_date = df['date'].max()\n",
    "max_date"
   ]
  },
  {
   "cell_type": "code",
   "execution_count": 6,
   "id": "49d813c1",
   "metadata": {},
   "outputs": [],
   "source": [
    "# Customer Recency\n",
    "customer_recency = df.groupby('CustomerID').agg(last_date=('date','max')).reset_index()\n",
    "customer_recency['recency'] = max_date - customer_recency['last_date']\n",
    "customer_recency['recency'] = customer_recency['recency'].astype('string').str.replace('days','').astype(int)"
   ]
  },
  {
   "cell_type": "code",
   "execution_count": 11,
   "id": "85e00f18",
   "metadata": {},
   "outputs": [
    {
     "data": {
      "text/html": [
       "<div>\n",
       "<style scoped>\n",
       "    .dataframe tbody tr th:only-of-type {\n",
       "        vertical-align: middle;\n",
       "    }\n",
       "\n",
       "    .dataframe tbody tr th {\n",
       "        vertical-align: top;\n",
       "    }\n",
       "\n",
       "    .dataframe thead th {\n",
       "        text-align: right;\n",
       "    }\n",
       "</style>\n",
       "<table border=\"1\" class=\"dataframe\">\n",
       "  <thead>\n",
       "    <tr style=\"text-align: right;\">\n",
       "      <th></th>\n",
       "      <th>CustomerID</th>\n",
       "      <th>last_date</th>\n",
       "      <th>recency</th>\n",
       "    </tr>\n",
       "  </thead>\n",
       "  <tbody>\n",
       "    <tr>\n",
       "      <th>0</th>\n",
       "      <td>12346.0</td>\n",
       "      <td>2011-01-18</td>\n",
       "      <td>325</td>\n",
       "    </tr>\n",
       "    <tr>\n",
       "      <th>1</th>\n",
       "      <td>12347.0</td>\n",
       "      <td>2011-12-07</td>\n",
       "      <td>2</td>\n",
       "    </tr>\n",
       "    <tr>\n",
       "      <th>2</th>\n",
       "      <td>12348.0</td>\n",
       "      <td>2011-09-25</td>\n",
       "      <td>75</td>\n",
       "    </tr>\n",
       "    <tr>\n",
       "      <th>3</th>\n",
       "      <td>12349.0</td>\n",
       "      <td>2011-11-21</td>\n",
       "      <td>18</td>\n",
       "    </tr>\n",
       "    <tr>\n",
       "      <th>4</th>\n",
       "      <td>12350.0</td>\n",
       "      <td>2011-02-02</td>\n",
       "      <td>310</td>\n",
       "    </tr>\n",
       "  </tbody>\n",
       "</table>\n",
       "</div>"
      ],
      "text/plain": [
       "   CustomerID  last_date  recency\n",
       "0     12346.0 2011-01-18      325\n",
       "1     12347.0 2011-12-07        2\n",
       "2     12348.0 2011-09-25       75\n",
       "3     12349.0 2011-11-21       18\n",
       "4     12350.0 2011-02-02      310"
      ]
     },
     "execution_count": 11,
     "metadata": {},
     "output_type": "execute_result"
    }
   ],
   "source": [
    "customer_recency.head()"
   ]
  },
  {
   "cell_type": "markdown",
   "id": "4b28a44b",
   "metadata": {},
   "source": [
    "### Frequency"
   ]
  },
  {
   "cell_type": "code",
   "execution_count": 7,
   "id": "3a42da99",
   "metadata": {},
   "outputs": [
    {
     "data": {
      "text/html": [
       "<div>\n",
       "<style scoped>\n",
       "    .dataframe tbody tr th:only-of-type {\n",
       "        vertical-align: middle;\n",
       "    }\n",
       "\n",
       "    .dataframe tbody tr th {\n",
       "        vertical-align: top;\n",
       "    }\n",
       "\n",
       "    .dataframe thead th {\n",
       "        text-align: right;\n",
       "    }\n",
       "</style>\n",
       "<table border=\"1\" class=\"dataframe\">\n",
       "  <thead>\n",
       "    <tr style=\"text-align: right;\">\n",
       "      <th></th>\n",
       "      <th>CustomerID</th>\n",
       "      <th>frequency</th>\n",
       "    </tr>\n",
       "  </thead>\n",
       "  <tbody>\n",
       "    <tr>\n",
       "      <th>0</th>\n",
       "      <td>12346.0</td>\n",
       "      <td>1</td>\n",
       "    </tr>\n",
       "    <tr>\n",
       "      <th>1</th>\n",
       "      <td>12347.0</td>\n",
       "      <td>182</td>\n",
       "    </tr>\n",
       "    <tr>\n",
       "      <th>2</th>\n",
       "      <td>12348.0</td>\n",
       "      <td>31</td>\n",
       "    </tr>\n",
       "    <tr>\n",
       "      <th>3</th>\n",
       "      <td>12349.0</td>\n",
       "      <td>73</td>\n",
       "    </tr>\n",
       "    <tr>\n",
       "      <th>4</th>\n",
       "      <td>12350.0</td>\n",
       "      <td>17</td>\n",
       "    </tr>\n",
       "  </tbody>\n",
       "</table>\n",
       "</div>"
      ],
      "text/plain": [
       "   CustomerID  frequency\n",
       "0     12346.0          1\n",
       "1     12347.0        182\n",
       "2     12348.0         31\n",
       "3     12349.0         73\n",
       "4     12350.0         17"
      ]
     },
     "execution_count": 7,
     "metadata": {},
     "output_type": "execute_result"
    }
   ],
   "source": [
    "freq = df.groupby('CustomerID').date.count().reset_index()\n",
    "freq.columns = ['CustomerID', 'frequency'] \n",
    "freq.head()"
   ]
  },
  {
   "cell_type": "markdown",
   "id": "604da4bd",
   "metadata": {},
   "source": [
    "### Monetary Value"
   ]
  },
  {
   "cell_type": "code",
   "execution_count": 17,
   "id": "67e07637",
   "metadata": {},
   "outputs": [
    {
     "data": {
      "text/html": [
       "<div>\n",
       "<style scoped>\n",
       "    .dataframe tbody tr th:only-of-type {\n",
       "        vertical-align: middle;\n",
       "    }\n",
       "\n",
       "    .dataframe tbody tr th {\n",
       "        vertical-align: top;\n",
       "    }\n",
       "\n",
       "    .dataframe thead th {\n",
       "        text-align: right;\n",
       "    }\n",
       "</style>\n",
       "<table border=\"1\" class=\"dataframe\">\n",
       "  <thead>\n",
       "    <tr style=\"text-align: right;\">\n",
       "      <th></th>\n",
       "      <th>InvoiceNo</th>\n",
       "      <th>StockCode</th>\n",
       "      <th>Description</th>\n",
       "      <th>Quantity</th>\n",
       "      <th>InvoiceDate</th>\n",
       "      <th>UnitPrice</th>\n",
       "      <th>CustomerID</th>\n",
       "      <th>Country</th>\n",
       "      <th>date</th>\n",
       "    </tr>\n",
       "  </thead>\n",
       "  <tbody>\n",
       "    <tr>\n",
       "      <th>0</th>\n",
       "      <td>536365</td>\n",
       "      <td>85123A</td>\n",
       "      <td>WHITE HANGING HEART T-LIGHT HOLDER</td>\n",
       "      <td>6</td>\n",
       "      <td>2010-12-01 08:26:00</td>\n",
       "      <td>2.55</td>\n",
       "      <td>17850.0</td>\n",
       "      <td>United Kingdom</td>\n",
       "      <td>2010-12-01</td>\n",
       "    </tr>\n",
       "    <tr>\n",
       "      <th>1</th>\n",
       "      <td>536365</td>\n",
       "      <td>71053</td>\n",
       "      <td>WHITE METAL LANTERN</td>\n",
       "      <td>6</td>\n",
       "      <td>2010-12-01 08:26:00</td>\n",
       "      <td>3.39</td>\n",
       "      <td>17850.0</td>\n",
       "      <td>United Kingdom</td>\n",
       "      <td>2010-12-01</td>\n",
       "    </tr>\n",
       "    <tr>\n",
       "      <th>2</th>\n",
       "      <td>536365</td>\n",
       "      <td>84406B</td>\n",
       "      <td>CREAM CUPID HEARTS COAT HANGER</td>\n",
       "      <td>8</td>\n",
       "      <td>2010-12-01 08:26:00</td>\n",
       "      <td>2.75</td>\n",
       "      <td>17850.0</td>\n",
       "      <td>United Kingdom</td>\n",
       "      <td>2010-12-01</td>\n",
       "    </tr>\n",
       "  </tbody>\n",
       "</table>\n",
       "</div>"
      ],
      "text/plain": [
       "  InvoiceNo StockCode                         Description  Quantity  \\\n",
       "0    536365    85123A  WHITE HANGING HEART T-LIGHT HOLDER         6   \n",
       "1    536365     71053                 WHITE METAL LANTERN         6   \n",
       "2    536365    84406B      CREAM CUPID HEARTS COAT HANGER         8   \n",
       "\n",
       "          InvoiceDate  UnitPrice  CustomerID         Country       date  \n",
       "0 2010-12-01 08:26:00       2.55     17850.0  United Kingdom 2010-12-01  \n",
       "1 2010-12-01 08:26:00       3.39     17850.0  United Kingdom 2010-12-01  \n",
       "2 2010-12-01 08:26:00       2.75     17850.0  United Kingdom 2010-12-01  "
      ]
     },
     "execution_count": 17,
     "metadata": {},
     "output_type": "execute_result"
    }
   ],
   "source": [
    "df.head(3)"
   ]
  },
  {
   "cell_type": "code",
   "execution_count": 8,
   "id": "c978f0e7",
   "metadata": {},
   "outputs": [],
   "source": [
    "### Revenue Column \n",
    "df['Revenue'] = df['UnitPrice'] * df['Quantity']"
   ]
  },
  {
   "cell_type": "code",
   "execution_count": 20,
   "id": "a0d20ca8",
   "metadata": {},
   "outputs": [
    {
     "data": {
      "text/html": [
       "<div>\n",
       "<style scoped>\n",
       "    .dataframe tbody tr th:only-of-type {\n",
       "        vertical-align: middle;\n",
       "    }\n",
       "\n",
       "    .dataframe tbody tr th {\n",
       "        vertical-align: top;\n",
       "    }\n",
       "\n",
       "    .dataframe thead th {\n",
       "        text-align: right;\n",
       "    }\n",
       "</style>\n",
       "<table border=\"1\" class=\"dataframe\">\n",
       "  <thead>\n",
       "    <tr style=\"text-align: right;\">\n",
       "      <th></th>\n",
       "      <th>InvoiceNo</th>\n",
       "      <th>StockCode</th>\n",
       "      <th>Description</th>\n",
       "      <th>Quantity</th>\n",
       "      <th>InvoiceDate</th>\n",
       "      <th>UnitPrice</th>\n",
       "      <th>CustomerID</th>\n",
       "      <th>Country</th>\n",
       "      <th>date</th>\n",
       "      <th>Revenue</th>\n",
       "    </tr>\n",
       "  </thead>\n",
       "  <tbody>\n",
       "    <tr>\n",
       "      <th>0</th>\n",
       "      <td>536365</td>\n",
       "      <td>85123A</td>\n",
       "      <td>WHITE HANGING HEART T-LIGHT HOLDER</td>\n",
       "      <td>6</td>\n",
       "      <td>2010-12-01 08:26:00</td>\n",
       "      <td>2.55</td>\n",
       "      <td>17850.0</td>\n",
       "      <td>United Kingdom</td>\n",
       "      <td>2010-12-01</td>\n",
       "      <td>15.30</td>\n",
       "    </tr>\n",
       "    <tr>\n",
       "      <th>1</th>\n",
       "      <td>536365</td>\n",
       "      <td>71053</td>\n",
       "      <td>WHITE METAL LANTERN</td>\n",
       "      <td>6</td>\n",
       "      <td>2010-12-01 08:26:00</td>\n",
       "      <td>3.39</td>\n",
       "      <td>17850.0</td>\n",
       "      <td>United Kingdom</td>\n",
       "      <td>2010-12-01</td>\n",
       "      <td>20.34</td>\n",
       "    </tr>\n",
       "    <tr>\n",
       "      <th>2</th>\n",
       "      <td>536365</td>\n",
       "      <td>84406B</td>\n",
       "      <td>CREAM CUPID HEARTS COAT HANGER</td>\n",
       "      <td>8</td>\n",
       "      <td>2010-12-01 08:26:00</td>\n",
       "      <td>2.75</td>\n",
       "      <td>17850.0</td>\n",
       "      <td>United Kingdom</td>\n",
       "      <td>2010-12-01</td>\n",
       "      <td>22.00</td>\n",
       "    </tr>\n",
       "  </tbody>\n",
       "</table>\n",
       "</div>"
      ],
      "text/plain": [
       "  InvoiceNo StockCode                         Description  Quantity  \\\n",
       "0    536365    85123A  WHITE HANGING HEART T-LIGHT HOLDER         6   \n",
       "1    536365     71053                 WHITE METAL LANTERN         6   \n",
       "2    536365    84406B      CREAM CUPID HEARTS COAT HANGER         8   \n",
       "\n",
       "          InvoiceDate  UnitPrice  CustomerID         Country       date  \\\n",
       "0 2010-12-01 08:26:00       2.55     17850.0  United Kingdom 2010-12-01   \n",
       "1 2010-12-01 08:26:00       3.39     17850.0  United Kingdom 2010-12-01   \n",
       "2 2010-12-01 08:26:00       2.75     17850.0  United Kingdom 2010-12-01   \n",
       "\n",
       "   Revenue  \n",
       "0    15.30  \n",
       "1    20.34  \n",
       "2    22.00  "
      ]
     },
     "execution_count": 20,
     "metadata": {},
     "output_type": "execute_result"
    }
   ],
   "source": [
    "df.head(3)"
   ]
  },
  {
   "cell_type": "code",
   "execution_count": 9,
   "id": "d5193886",
   "metadata": {},
   "outputs": [
    {
     "data": {
      "text/html": [
       "<div>\n",
       "<style scoped>\n",
       "    .dataframe tbody tr th:only-of-type {\n",
       "        vertical-align: middle;\n",
       "    }\n",
       "\n",
       "    .dataframe tbody tr th {\n",
       "        vertical-align: top;\n",
       "    }\n",
       "\n",
       "    .dataframe thead th {\n",
       "        text-align: right;\n",
       "    }\n",
       "</style>\n",
       "<table border=\"1\" class=\"dataframe\">\n",
       "  <thead>\n",
       "    <tr style=\"text-align: right;\">\n",
       "      <th></th>\n",
       "      <th>CustomerID</th>\n",
       "      <th>monetary</th>\n",
       "    </tr>\n",
       "  </thead>\n",
       "  <tbody>\n",
       "    <tr>\n",
       "      <th>0</th>\n",
       "      <td>12346.0</td>\n",
       "      <td>77183.600000</td>\n",
       "    </tr>\n",
       "    <tr>\n",
       "      <th>1</th>\n",
       "      <td>12347.0</td>\n",
       "      <td>615.714286</td>\n",
       "    </tr>\n",
       "    <tr>\n",
       "      <th>2</th>\n",
       "      <td>12348.0</td>\n",
       "      <td>449.310000</td>\n",
       "    </tr>\n",
       "    <tr>\n",
       "      <th>3</th>\n",
       "      <td>12349.0</td>\n",
       "      <td>1757.550000</td>\n",
       "    </tr>\n",
       "    <tr>\n",
       "      <th>4</th>\n",
       "      <td>12350.0</td>\n",
       "      <td>334.400000</td>\n",
       "    </tr>\n",
       "  </tbody>\n",
       "</table>\n",
       "</div>"
      ],
      "text/plain": [
       "   CustomerID      monetary\n",
       "0     12346.0  77183.600000\n",
       "1     12347.0    615.714286\n",
       "2     12348.0    449.310000\n",
       "3     12349.0   1757.550000\n",
       "4     12350.0    334.400000"
      ]
     },
     "execution_count": 9,
     "metadata": {},
     "output_type": "execute_result"
    }
   ],
   "source": [
    "monet1 = df.groupby(['CustomerID', 'InvoiceNo']).agg(revenue = ('Revenue', 'sum')).reset_index()\n",
    "monet2 = monet1.groupby('CustomerID').agg(monetary=('revenue','mean')).reset_index()\n",
    "monet2.head()"
   ]
  },
  {
   "cell_type": "code",
   "execution_count": 10,
   "id": "f4d1e6ba",
   "metadata": {},
   "outputs": [],
   "source": [
    "customer_recency['recency_rank'] = customer_recency['recency'].rank(pct=True)\n",
    "freq['frequeny_rank'] = freq['frequency'].rank(ascending=False, pct=True) \n",
    "monet2['monetary_rank'] = monet2['monetary'].rank(ascending=False, pct=True) "
   ]
  },
  {
   "cell_type": "code",
   "execution_count": 24,
   "id": "15a97f6f",
   "metadata": {},
   "outputs": [
    {
     "data": {
      "text/html": [
       "<div>\n",
       "<style scoped>\n",
       "    .dataframe tbody tr th:only-of-type {\n",
       "        vertical-align: middle;\n",
       "    }\n",
       "\n",
       "    .dataframe tbody tr th {\n",
       "        vertical-align: top;\n",
       "    }\n",
       "\n",
       "    .dataframe thead th {\n",
       "        text-align: right;\n",
       "    }\n",
       "</style>\n",
       "<table border=\"1\" class=\"dataframe\">\n",
       "  <thead>\n",
       "    <tr style=\"text-align: right;\">\n",
       "      <th></th>\n",
       "      <th>CustomerID</th>\n",
       "      <th>last_date</th>\n",
       "      <th>recency</th>\n",
       "      <th>recency_rank</th>\n",
       "    </tr>\n",
       "  </thead>\n",
       "  <tbody>\n",
       "    <tr>\n",
       "      <th>0</th>\n",
       "      <td>12346.0</td>\n",
       "      <td>2011-01-18</td>\n",
       "      <td>325</td>\n",
       "      <td>0.962779</td>\n",
       "    </tr>\n",
       "    <tr>\n",
       "      <th>1</th>\n",
       "      <td>12347.0</td>\n",
       "      <td>2011-12-07</td>\n",
       "      <td>2</td>\n",
       "      <td>0.042291</td>\n",
       "    </tr>\n",
       "    <tr>\n",
       "      <th>2</th>\n",
       "      <td>12348.0</td>\n",
       "      <td>2011-09-25</td>\n",
       "      <td>75</td>\n",
       "      <td>0.620880</td>\n",
       "    </tr>\n",
       "  </tbody>\n",
       "</table>\n",
       "</div>"
      ],
      "text/plain": [
       "   CustomerID  last_date  recency  recency_rank\n",
       "0     12346.0 2011-01-18      325      0.962779\n",
       "1     12347.0 2011-12-07        2      0.042291\n",
       "2     12348.0 2011-09-25       75      0.620880"
      ]
     },
     "execution_count": 24,
     "metadata": {},
     "output_type": "execute_result"
    }
   ],
   "source": [
    "customer_recency.head(3)"
   ]
  },
  {
   "cell_type": "code",
   "execution_count": 25,
   "id": "20886a73",
   "metadata": {},
   "outputs": [
    {
     "data": {
      "text/html": [
       "<div>\n",
       "<style scoped>\n",
       "    .dataframe tbody tr th:only-of-type {\n",
       "        vertical-align: middle;\n",
       "    }\n",
       "\n",
       "    .dataframe tbody tr th {\n",
       "        vertical-align: top;\n",
       "    }\n",
       "\n",
       "    .dataframe thead th {\n",
       "        text-align: right;\n",
       "    }\n",
       "</style>\n",
       "<table border=\"1\" class=\"dataframe\">\n",
       "  <thead>\n",
       "    <tr style=\"text-align: right;\">\n",
       "      <th></th>\n",
       "      <th>CustomerID</th>\n",
       "      <th>frequency</th>\n",
       "      <th>frequeny_rank</th>\n",
       "    </tr>\n",
       "  </thead>\n",
       "  <tbody>\n",
       "    <tr>\n",
       "      <th>0</th>\n",
       "      <td>12346.0</td>\n",
       "      <td>1</td>\n",
       "      <td>0.991818</td>\n",
       "    </tr>\n",
       "    <tr>\n",
       "      <th>1</th>\n",
       "      <td>12347.0</td>\n",
       "      <td>182</td>\n",
       "      <td>0.119152</td>\n",
       "    </tr>\n",
       "    <tr>\n",
       "      <th>2</th>\n",
       "      <td>12348.0</td>\n",
       "      <td>31</td>\n",
       "      <td>0.579050</td>\n",
       "    </tr>\n",
       "  </tbody>\n",
       "</table>\n",
       "</div>"
      ],
      "text/plain": [
       "   CustomerID  frequency  frequeny_rank\n",
       "0     12346.0          1       0.991818\n",
       "1     12347.0        182       0.119152\n",
       "2     12348.0         31       0.579050"
      ]
     },
     "execution_count": 25,
     "metadata": {},
     "output_type": "execute_result"
    }
   ],
   "source": [
    "freq.head(3)"
   ]
  },
  {
   "cell_type": "code",
   "execution_count": 11,
   "id": "e05751cf",
   "metadata": {},
   "outputs": [
    {
     "data": {
      "text/html": [
       "<div>\n",
       "<style scoped>\n",
       "    .dataframe tbody tr th:only-of-type {\n",
       "        vertical-align: middle;\n",
       "    }\n",
       "\n",
       "    .dataframe tbody tr th {\n",
       "        vertical-align: top;\n",
       "    }\n",
       "\n",
       "    .dataframe thead th {\n",
       "        text-align: right;\n",
       "    }\n",
       "</style>\n",
       "<table border=\"1\" class=\"dataframe\">\n",
       "  <thead>\n",
       "    <tr style=\"text-align: right;\">\n",
       "      <th></th>\n",
       "      <th>CustomerID</th>\n",
       "      <th>monetary</th>\n",
       "      <th>monetary_rank</th>\n",
       "    </tr>\n",
       "  </thead>\n",
       "  <tbody>\n",
       "    <tr>\n",
       "      <th>0</th>\n",
       "      <td>12346.0</td>\n",
       "      <td>77183.600000</td>\n",
       "      <td>0.000461</td>\n",
       "    </tr>\n",
       "    <tr>\n",
       "      <th>1</th>\n",
       "      <td>12347.0</td>\n",
       "      <td>615.714286</td>\n",
       "      <td>0.119152</td>\n",
       "    </tr>\n",
       "    <tr>\n",
       "      <th>2</th>\n",
       "      <td>12348.0</td>\n",
       "      <td>449.310000</td>\n",
       "      <td>0.229085</td>\n",
       "    </tr>\n",
       "  </tbody>\n",
       "</table>\n",
       "</div>"
      ],
      "text/plain": [
       "   CustomerID      monetary  monetary_rank\n",
       "0     12346.0  77183.600000       0.000461\n",
       "1     12347.0    615.714286       0.119152\n",
       "2     12348.0    449.310000       0.229085"
      ]
     },
     "execution_count": 11,
     "metadata": {},
     "output_type": "execute_result"
    }
   ],
   "source": [
    "monet2.head(3)"
   ]
  },
  {
   "cell_type": "code",
   "execution_count": 12,
   "id": "1b074068",
   "metadata": {},
   "outputs": [],
   "source": [
    "all_data = pd.merge(customer_recency, freq, how='left', on='CustomerID') \n",
    "all_data = pd.merge(all_data, monet2, how='left', on='CustomerID')"
   ]
  },
  {
   "cell_type": "code",
   "execution_count": 30,
   "id": "552457fc",
   "metadata": {},
   "outputs": [
    {
     "data": {
      "text/html": [
       "<div>\n",
       "<style scoped>\n",
       "    .dataframe tbody tr th:only-of-type {\n",
       "        vertical-align: middle;\n",
       "    }\n",
       "\n",
       "    .dataframe tbody tr th {\n",
       "        vertical-align: top;\n",
       "    }\n",
       "\n",
       "    .dataframe thead th {\n",
       "        text-align: right;\n",
       "    }\n",
       "</style>\n",
       "<table border=\"1\" class=\"dataframe\">\n",
       "  <thead>\n",
       "    <tr style=\"text-align: right;\">\n",
       "      <th></th>\n",
       "      <th>CustomerID</th>\n",
       "      <th>last_date</th>\n",
       "      <th>recency</th>\n",
       "      <th>recency_rank</th>\n",
       "      <th>frequency</th>\n",
       "      <th>frequeny_rank</th>\n",
       "      <th>monetary</th>\n",
       "      <th>monetary_rank</th>\n",
       "    </tr>\n",
       "  </thead>\n",
       "  <tbody>\n",
       "    <tr>\n",
       "      <th>0</th>\n",
       "      <td>12346.0</td>\n",
       "      <td>2011-01-18</td>\n",
       "      <td>325</td>\n",
       "      <td>0.962779</td>\n",
       "      <td>1</td>\n",
       "      <td>0.991818</td>\n",
       "      <td>77183.600000</td>\n",
       "      <td>0.000461</td>\n",
       "    </tr>\n",
       "    <tr>\n",
       "      <th>1</th>\n",
       "      <td>12347.0</td>\n",
       "      <td>2011-12-07</td>\n",
       "      <td>2</td>\n",
       "      <td>0.042291</td>\n",
       "      <td>182</td>\n",
       "      <td>0.119152</td>\n",
       "      <td>615.714286</td>\n",
       "      <td>0.119152</td>\n",
       "    </tr>\n",
       "    <tr>\n",
       "      <th>2</th>\n",
       "      <td>12348.0</td>\n",
       "      <td>2011-09-25</td>\n",
       "      <td>75</td>\n",
       "      <td>0.620880</td>\n",
       "      <td>31</td>\n",
       "      <td>0.579050</td>\n",
       "      <td>449.310000</td>\n",
       "      <td>0.229085</td>\n",
       "    </tr>\n",
       "  </tbody>\n",
       "</table>\n",
       "</div>"
      ],
      "text/plain": [
       "   CustomerID  last_date  recency  recency_rank  frequency  frequeny_rank  \\\n",
       "0     12346.0 2011-01-18      325      0.962779          1       0.991818   \n",
       "1     12347.0 2011-12-07        2      0.042291        182       0.119152   \n",
       "2     12348.0 2011-09-25       75      0.620880         31       0.579050   \n",
       "\n",
       "       monetary  monetary_rank  \n",
       "0  77183.600000       0.000461  \n",
       "1    615.714286       0.119152  \n",
       "2    449.310000       0.229085  "
      ]
     },
     "execution_count": 30,
     "metadata": {},
     "output_type": "execute_result"
    }
   ],
   "source": [
    "all_data.head(3)"
   ]
  },
  {
   "cell_type": "code",
   "execution_count": 13,
   "id": "7cadfdfd",
   "metadata": {},
   "outputs": [],
   "source": [
    "bins = [0, 0.5, 1]\n",
    "names = ['1','2']"
   ]
  },
  {
   "cell_type": "code",
   "execution_count": 14,
   "id": "378a7cf0",
   "metadata": {},
   "outputs": [],
   "source": [
    "final = pd.DataFrame(customer_recency['CustomerID'])  \n",
    "final['frequency'] = pd.cut(freq['frequeny_rank'], bins, labels=names).astype('string')\n",
    "final['recency'] = pd.cut(customer_recency['recency_rank'], bins, labels=names).astype('string')\n",
    "final['monetary'] = pd.cut(monet2['monetary_rank'], bins, labels=names).astype('string')\n",
    "final['rec_freq_mone'] = final['recency'] + final['frequency'] + final['monetary']\n",
    "all_data['recency_frequency_monetary'] = final['rec_freq_mone']"
   ]
  },
  {
   "cell_type": "code",
   "execution_count": 33,
   "id": "43540e36",
   "metadata": {},
   "outputs": [
    {
     "data": {
      "text/html": [
       "<div>\n",
       "<style scoped>\n",
       "    .dataframe tbody tr th:only-of-type {\n",
       "        vertical-align: middle;\n",
       "    }\n",
       "\n",
       "    .dataframe tbody tr th {\n",
       "        vertical-align: top;\n",
       "    }\n",
       "\n",
       "    .dataframe thead th {\n",
       "        text-align: right;\n",
       "    }\n",
       "</style>\n",
       "<table border=\"1\" class=\"dataframe\">\n",
       "  <thead>\n",
       "    <tr style=\"text-align: right;\">\n",
       "      <th></th>\n",
       "      <th>CustomerID</th>\n",
       "      <th>last_date</th>\n",
       "      <th>recency</th>\n",
       "      <th>recency_rank</th>\n",
       "      <th>frequency</th>\n",
       "      <th>frequeny_rank</th>\n",
       "      <th>monetary</th>\n",
       "      <th>monetary_rank</th>\n",
       "      <th>recency_frequency_monetary</th>\n",
       "    </tr>\n",
       "  </thead>\n",
       "  <tbody>\n",
       "    <tr>\n",
       "      <th>0</th>\n",
       "      <td>12346.0</td>\n",
       "      <td>2011-01-18</td>\n",
       "      <td>325</td>\n",
       "      <td>0.962779</td>\n",
       "      <td>1</td>\n",
       "      <td>0.991818</td>\n",
       "      <td>77183.600000</td>\n",
       "      <td>0.000461</td>\n",
       "      <td>221</td>\n",
       "    </tr>\n",
       "    <tr>\n",
       "      <th>1</th>\n",
       "      <td>12347.0</td>\n",
       "      <td>2011-12-07</td>\n",
       "      <td>2</td>\n",
       "      <td>0.042291</td>\n",
       "      <td>182</td>\n",
       "      <td>0.119152</td>\n",
       "      <td>615.714286</td>\n",
       "      <td>0.119152</td>\n",
       "      <td>111</td>\n",
       "    </tr>\n",
       "    <tr>\n",
       "      <th>2</th>\n",
       "      <td>12348.0</td>\n",
       "      <td>2011-09-25</td>\n",
       "      <td>75</td>\n",
       "      <td>0.620880</td>\n",
       "      <td>31</td>\n",
       "      <td>0.579050</td>\n",
       "      <td>449.310000</td>\n",
       "      <td>0.229085</td>\n",
       "      <td>221</td>\n",
       "    </tr>\n",
       "  </tbody>\n",
       "</table>\n",
       "</div>"
      ],
      "text/plain": [
       "   CustomerID  last_date  recency  recency_rank  frequency  frequeny_rank  \\\n",
       "0     12346.0 2011-01-18      325      0.962779          1       0.991818   \n",
       "1     12347.0 2011-12-07        2      0.042291        182       0.119152   \n",
       "2     12348.0 2011-09-25       75      0.620880         31       0.579050   \n",
       "\n",
       "       monetary  monetary_rank recency_frequency_monetary  \n",
       "0  77183.600000       0.000461                        221  \n",
       "1    615.714286       0.119152                        111  \n",
       "2    449.310000       0.229085                        221  "
      ]
     },
     "execution_count": 33,
     "metadata": {},
     "output_type": "execute_result"
    }
   ],
   "source": [
    "all_data.head(3)"
   ]
  },
  {
   "cell_type": "markdown",
   "id": "18198317",
   "metadata": {},
   "source": [
    "### Segments \n",
    "\n",
    "We create segments based on RFM values and bins. "
   ]
  },
  {
   "cell_type": "code",
   "execution_count": 27,
   "id": "8062c6f2",
   "metadata": {},
   "outputs": [],
   "source": [
    "# Mapping of Segments \n",
    "seg_map = {\n",
    "    \n",
    "    r'111':'Core', \n",
    "    r'112':'Loyal',\n",
    "    r'211':'To be Retained',\n",
    "    r'122':'New Customers', \n",
    "    r'212':'At Risk',\n",
    "    r'221':'Luxury',\n",
    "    r'222':'Challenge',\n",
    "    r'121':'Personalized'\n",
    "    \n",
    "} \n",
    "\n",
    "all_data['Segment'] = all_data['recency_frequency_monetary'].replace(seg_map, regex=True)"
   ]
  },
  {
   "cell_type": "code",
   "execution_count": 28,
   "id": "48bddbf6",
   "metadata": {},
   "outputs": [
    {
     "data": {
      "text/html": [
       "<div>\n",
       "<style scoped>\n",
       "    .dataframe tbody tr th:only-of-type {\n",
       "        vertical-align: middle;\n",
       "    }\n",
       "\n",
       "    .dataframe tbody tr th {\n",
       "        vertical-align: top;\n",
       "    }\n",
       "\n",
       "    .dataframe thead th {\n",
       "        text-align: right;\n",
       "    }\n",
       "</style>\n",
       "<table border=\"1\" class=\"dataframe\">\n",
       "  <thead>\n",
       "    <tr style=\"text-align: right;\">\n",
       "      <th></th>\n",
       "      <th>CustomerID</th>\n",
       "      <th>last_date</th>\n",
       "      <th>recency</th>\n",
       "      <th>recency_rank</th>\n",
       "      <th>frequency</th>\n",
       "      <th>frequeny_rank</th>\n",
       "      <th>monetary</th>\n",
       "      <th>monetary_rank</th>\n",
       "      <th>recency_frequency_monetary</th>\n",
       "      <th>Segment</th>\n",
       "      <th>cluster</th>\n",
       "    </tr>\n",
       "  </thead>\n",
       "  <tbody>\n",
       "    <tr>\n",
       "      <th>0</th>\n",
       "      <td>12346.0</td>\n",
       "      <td>2011-01-18</td>\n",
       "      <td>325</td>\n",
       "      <td>0.962779</td>\n",
       "      <td>1</td>\n",
       "      <td>0.991818</td>\n",
       "      <td>77183.600000</td>\n",
       "      <td>0.000461</td>\n",
       "      <td>221</td>\n",
       "      <td>Luxury</td>\n",
       "      <td>1</td>\n",
       "    </tr>\n",
       "    <tr>\n",
       "      <th>1</th>\n",
       "      <td>12347.0</td>\n",
       "      <td>2011-12-07</td>\n",
       "      <td>2</td>\n",
       "      <td>0.042291</td>\n",
       "      <td>182</td>\n",
       "      <td>0.119152</td>\n",
       "      <td>615.714286</td>\n",
       "      <td>0.119152</td>\n",
       "      <td>111</td>\n",
       "      <td>Core</td>\n",
       "      <td>0</td>\n",
       "    </tr>\n",
       "    <tr>\n",
       "      <th>2</th>\n",
       "      <td>12348.0</td>\n",
       "      <td>2011-09-25</td>\n",
       "      <td>75</td>\n",
       "      <td>0.620880</td>\n",
       "      <td>31</td>\n",
       "      <td>0.579050</td>\n",
       "      <td>449.310000</td>\n",
       "      <td>0.229085</td>\n",
       "      <td>221</td>\n",
       "      <td>Luxury</td>\n",
       "      <td>0</td>\n",
       "    </tr>\n",
       "  </tbody>\n",
       "</table>\n",
       "</div>"
      ],
      "text/plain": [
       "   CustomerID  last_date  recency  recency_rank  frequency  frequeny_rank  \\\n",
       "0     12346.0 2011-01-18      325      0.962779          1       0.991818   \n",
       "1     12347.0 2011-12-07        2      0.042291        182       0.119152   \n",
       "2     12348.0 2011-09-25       75      0.620880         31       0.579050   \n",
       "\n",
       "       monetary  monetary_rank recency_frequency_monetary Segment  cluster  \n",
       "0  77183.600000       0.000461                        221  Luxury        1  \n",
       "1    615.714286       0.119152                        111    Core        0  \n",
       "2    449.310000       0.229085                        221  Luxury        0  "
      ]
     },
     "execution_count": 28,
     "metadata": {},
     "output_type": "execute_result"
    }
   ],
   "source": [
    "all_data.head(3)"
   ]
  },
  {
   "cell_type": "code",
   "execution_count": 29,
   "id": "e98ae6d1",
   "metadata": {},
   "outputs": [
    {
     "data": {
      "text/plain": [
       "[Text(0, 0, 'Luxury'),\n",
       " Text(1, 0, 'Core'),\n",
       " Text(2, 0, 'Challenge'),\n",
       " Text(3, 0, 'To be Retained'),\n",
       " Text(4, 0, 'Personalized'),\n",
       " Text(5, 0, 'New Customers'),\n",
       " Text(6, 0, 'Loyal'),\n",
       " Text(7, 0, 'At Risk')]"
      ]
     },
     "execution_count": 29,
     "metadata": {},
     "output_type": "execute_result"
    },
    {
     "data": {
      "image/png": "[encoded data removed]",
      "text/plain": [
       "<Figure size 640x480 with 1 Axes>"
      ]
     },
     "metadata": {},
     "output_type": "display_data"
    }
   ],
   "source": [
    "sns.color_palette(\"Set2\")\n",
    "fig = sns.countplot(x='Segment', data=all_data, palette = \"Paired\");\n",
    "sns.color_palette(\"Set2\")\n",
    "fig.set_xticklabels(fig.get_xticklabels(), rotation=45)"
   ]
  },
  {
   "cell_type": "markdown",
   "id": "f2af3473",
   "metadata": {},
   "source": [
    "* There are more challenging customers. \n",
    "* There are customers who are risk of loosing. \n",
    "* Different customer segment requires different personalized advertising tactics and offers to increase customer retention and sales. \n",
    "\n",
    "### KMeans Algorithm"
   ]
  },
  {
   "cell_type": "code",
   "execution_count": 18,
   "id": "6e125034",
   "metadata": {},
   "outputs": [],
   "source": [
    "from sklearn.cluster import KMeans"
   ]
  },
  {
   "cell_type": "markdown",
   "id": "122707a6",
   "metadata": {},
   "source": [
    "Initially we asssume for 3 clusters later finf optimal number of cluster using elbow method. "
   ]
  },
  {
   "cell_type": "code",
   "execution_count": 19,
   "id": "e60dd6cb",
   "metadata": {},
   "outputs": [
    {
     "name": "stderr",
     "output_type": "stream",
     "text": [
      "C:\\Users\\pooja\\AppData\\Local\\Temp\\ipykernel_14152\\1389698379.py:4: SettingWithCopyWarning: \n",
      "A value is trying to be set on a copy of a slice from a DataFrame.\n",
      "Try using .loc[row_indexer,col_indexer] = value instead\n",
      "\n",
      "See the caveats in the documentation: https://pandas.pydata.org/pandas-docs/stable/user_guide/indexing.html#returning-a-view-versus-a-copy\n",
      "  X['centroids']=fitting\n"
     ]
    }
   ],
   "source": [
    "X= all_data[['frequency','monetary','recency']]\n",
    "km= KMeans(n_clusters=3,n_init= 10,max_iter=300,tol=0.0001)\n",
    "fitting= km.fit_predict(X)\n",
    "X['centroids']=fitting"
   ]
  },
  {
   "cell_type": "code",
   "execution_count": 20,
   "id": "cfb48da2",
   "metadata": {},
   "outputs": [
    {
     "name": "stderr",
     "output_type": "stream",
     "text": [
      "C:\\ProgramData\\anaconda3\\Lib\\site-packages\\seaborn\\axisgrid.py:118: UserWarning: The figure layout has changed to tight\n",
      "  self._figure.tight_layout(*args, **kwargs)\n"
     ]
    },
    {
     "data": {
      "text/plain": [
       "<seaborn.axisgrid.PairGrid at 0x1f04da30f50>"
      ]
     },
     "execution_count": 20,
     "metadata": {},
     "output_type": "execute_result"
    },
    {
     "data": {
      "image/png": "[encoded data removed]",
      "text/plain": [
       "<Figure size 825.361x750 with 12 Axes>"
      ]
     },
     "metadata": {},
     "output_type": "display_data"
    }
   ],
   "source": [
    "sns.pairplot(data=X,hue='centroids',palette = \"Set2\")"
   ]
  },
  {
   "cell_type": "markdown",
   "id": "9c4e13c0",
   "metadata": {},
   "source": [
    "* Low monetary, high recency are grouped for cluster 0\n",
    "* High momnetary is categorized in cluster 2. "
   ]
  },
  {
   "cell_type": "code",
   "execution_count": 21,
   "id": "20695e5f",
   "metadata": {},
   "outputs": [],
   "source": [
    "sse= []\n",
    "\n",
    "for k in range(1,11):\n",
    "    kmeans= KMeans(n_clusters=k,n_init= 10,max_iter=300,tol=0.0001)\n",
    "    a= kmeans.fit(X)\n",
    "    sse.append(a.inertia_)"
   ]
  },
  {
   "cell_type": "code",
   "execution_count": 22,
   "id": "d11d6104",
   "metadata": {},
   "outputs": [
    {
     "data": {
      "text/plain": [
       "[<matplotlib.lines.Line2D at 0x1f05099fc10>]"
      ]
     },
     "execution_count": 22,
     "metadata": {},
     "output_type": "execute_result"
    },
    {
     "data": {
      "image/png": "[encoded data removed]",
      "text/plain": [
       "<Figure size 640x480 with 1 Axes>"
      ]
     },
     "metadata": {},
     "output_type": "display_data"
    }
   ],
   "source": [
    "plt.plot(range(1,11),sse)"
   ]
  },
  {
   "cell_type": "code",
   "execution_count": 23,
   "id": "19873851",
   "metadata": {},
   "outputs": [
    {
     "data": {
      "text/plain": [
       "array([1, 0, 0, ..., 0, 0, 0])"
      ]
     },
     "execution_count": 23,
     "metadata": {},
     "output_type": "execute_result"
    }
   ],
   "source": [
    "# # 3 Clusters  \n",
    "km.labels_"
   ]
  },
  {
   "cell_type": "code",
   "execution_count": 24,
   "id": "07e40f74",
   "metadata": {},
   "outputs": [],
   "source": [
    "all_data['cluster'] = km.labels_"
   ]
  },
  {
   "cell_type": "code",
   "execution_count": 30,
   "id": "1806b644",
   "metadata": {},
   "outputs": [
    {
     "data": {
      "text/html": [
       "<div>\n",
       "<style scoped>\n",
       "    .dataframe tbody tr th:only-of-type {\n",
       "        vertical-align: middle;\n",
       "    }\n",
       "\n",
       "    .dataframe tbody tr th {\n",
       "        vertical-align: top;\n",
       "    }\n",
       "\n",
       "    .dataframe thead th {\n",
       "        text-align: right;\n",
       "    }\n",
       "</style>\n",
       "<table border=\"1\" class=\"dataframe\">\n",
       "  <thead>\n",
       "    <tr style=\"text-align: right;\">\n",
       "      <th></th>\n",
       "      <th>CustomerID</th>\n",
       "      <th>last_date</th>\n",
       "      <th>recency</th>\n",
       "      <th>recency_rank</th>\n",
       "      <th>frequency</th>\n",
       "      <th>frequeny_rank</th>\n",
       "      <th>monetary</th>\n",
       "      <th>monetary_rank</th>\n",
       "      <th>recency_frequency_monetary</th>\n",
       "      <th>Segment</th>\n",
       "      <th>cluster</th>\n",
       "    </tr>\n",
       "  </thead>\n",
       "  <tbody>\n",
       "    <tr>\n",
       "      <th>0</th>\n",
       "      <td>12346.0</td>\n",
       "      <td>2011-01-18</td>\n",
       "      <td>325</td>\n",
       "      <td>0.962779</td>\n",
       "      <td>1</td>\n",
       "      <td>0.991818</td>\n",
       "      <td>77183.600000</td>\n",
       "      <td>0.000461</td>\n",
       "      <td>221</td>\n",
       "      <td>Luxury</td>\n",
       "      <td>1</td>\n",
       "    </tr>\n",
       "    <tr>\n",
       "      <th>1</th>\n",
       "      <td>12347.0</td>\n",
       "      <td>2011-12-07</td>\n",
       "      <td>2</td>\n",
       "      <td>0.042291</td>\n",
       "      <td>182</td>\n",
       "      <td>0.119152</td>\n",
       "      <td>615.714286</td>\n",
       "      <td>0.119152</td>\n",
       "      <td>111</td>\n",
       "      <td>Core</td>\n",
       "      <td>0</td>\n",
       "    </tr>\n",
       "    <tr>\n",
       "      <th>2</th>\n",
       "      <td>12348.0</td>\n",
       "      <td>2011-09-25</td>\n",
       "      <td>75</td>\n",
       "      <td>0.620880</td>\n",
       "      <td>31</td>\n",
       "      <td>0.579050</td>\n",
       "      <td>449.310000</td>\n",
       "      <td>0.229085</td>\n",
       "      <td>221</td>\n",
       "      <td>Luxury</td>\n",
       "      <td>0</td>\n",
       "    </tr>\n",
       "  </tbody>\n",
       "</table>\n",
       "</div>"
      ],
      "text/plain": [
       "   CustomerID  last_date  recency  recency_rank  frequency  frequeny_rank  \\\n",
       "0     12346.0 2011-01-18      325      0.962779          1       0.991818   \n",
       "1     12347.0 2011-12-07        2      0.042291        182       0.119152   \n",
       "2     12348.0 2011-09-25       75      0.620880         31       0.579050   \n",
       "\n",
       "       monetary  monetary_rank recency_frequency_monetary Segment  cluster  \n",
       "0  77183.600000       0.000461                        221  Luxury        1  \n",
       "1    615.714286       0.119152                        111    Core        0  \n",
       "2    449.310000       0.229085                        221  Luxury        0  "
      ]
     },
     "execution_count": 30,
     "metadata": {},
     "output_type": "execute_result"
    }
   ],
   "source": [
    "all_data.head(3)"
   ]
  },
  {
   "cell_type": "markdown",
   "id": "ade03eb2",
   "metadata": {},
   "source": [
    "### Features of Clusters"
   ]
  },
  {
   "cell_type": "code",
   "execution_count": 31,
   "id": "883134fb",
   "metadata": {},
   "outputs": [
    {
     "data": {
      "image/png": "[encoded data removed]",
      "text/plain": [
       "<Figure size 2400x600 with 3 Axes>"
      ]
     },
     "metadata": {},
     "output_type": "display_data"
    }
   ],
   "source": [
    "fig, axes = plt.subplots(1,3 , figsize=(24,6))\n",
    "axes = axes.flatten()\n",
    "features = ['recency','frequency','monetary']\n",
    "for i in range(len(features)):\n",
    "    sns.boxplot(x ='cluster', y = features[i], data=all_data, ax=axes[i] )"
   ]
  },
  {
   "cell_type": "markdown",
   "id": "9f875ffe",
   "metadata": {},
   "source": [
    "* Cluster 1 is categorized by more recency, less frequency and high monetory. \n",
    "* Cluster 2 has lower recency, higher frequency. \n",
    "* Cluster 0 has lower to medium recency, slightly more frequency. "
   ]
  },
  {
   "cell_type": "markdown",
   "id": "a053234e",
   "metadata": {},
   "source": [
    "## Customer Lifetime Value"
   ]
  },
  {
   "cell_type": "markdown",
   "id": "4f343093",
   "metadata": {},
   "source": [
    "* Customer life time value is a measurement of how valuable a customer is to the company, not just on a purchase-by-purchase basis but across entire customer relationships.\n",
    "* ustomer lifetime value is the total worth to a business of a customer over the whole period of their relationship with the brand. \n",
    "* It is more costly to acquire new prospects than to retain existing ones. \n",
    "<br>\n",
    "reference: <a href= \"https://www.qualtrics.com/au/experience-management/customer/customer-lifetime-value/\">qualtrics</a>"
   ]
  },
  {
   "cell_type": "code",
   "execution_count": 34,
   "id": "d1b25168",
   "metadata": {},
   "outputs": [],
   "source": [
    "bins = [0, 0.35, 0.75, 1]\n",
    "names = ['3','2', '1'] \n",
    "\n",
    "final_clv = pd.DataFrame(customer_recency['CustomerID'])  \n",
    "final_clv['frequency'] = pd.cut(freq['frequeny_rank'], bins, labels=names).astype('string')\n",
    "final_clv['recency'] = pd.cut(customer_recency['recency_rank'], bins, labels=names).astype('string')\n",
    "final_clv['monetary'] = pd.cut(monet2['monetary_rank'], bins, labels=names).astype('string')\n",
    "final_clv['rec_freq_mone'] = final_clv['recency'].astype('int64') + final_clv['frequency'].astype('int64') + final_clv['monetary'].astype('int64')\n",
    "all_data['CLV_Overall_Score'] = final_clv['rec_freq_mone']"
   ]
  },
  {
   "cell_type": "code",
   "execution_count": 35,
   "id": "869eac93",
   "metadata": {},
   "outputs": [
    {
     "data": {
      "text/html": [
       "<div>\n",
       "<style scoped>\n",
       "    .dataframe tbody tr th:only-of-type {\n",
       "        vertical-align: middle;\n",
       "    }\n",
       "\n",
       "    .dataframe tbody tr th {\n",
       "        vertical-align: top;\n",
       "    }\n",
       "\n",
       "    .dataframe thead th {\n",
       "        text-align: right;\n",
       "    }\n",
       "</style>\n",
       "<table border=\"1\" class=\"dataframe\">\n",
       "  <thead>\n",
       "    <tr style=\"text-align: right;\">\n",
       "      <th></th>\n",
       "      <th>CustomerID</th>\n",
       "      <th>last_date</th>\n",
       "      <th>recency</th>\n",
       "      <th>recency_rank</th>\n",
       "      <th>frequency</th>\n",
       "      <th>frequeny_rank</th>\n",
       "      <th>monetary</th>\n",
       "      <th>monetary_rank</th>\n",
       "      <th>recency_frequency_monetary</th>\n",
       "      <th>Segment</th>\n",
       "      <th>cluster</th>\n",
       "      <th>CLV_RFM</th>\n",
       "      <th>CLV_Overall_Score</th>\n",
       "    </tr>\n",
       "  </thead>\n",
       "  <tbody>\n",
       "    <tr>\n",
       "      <th>0</th>\n",
       "      <td>12346.0</td>\n",
       "      <td>2011-01-18</td>\n",
       "      <td>325</td>\n",
       "      <td>0.962779</td>\n",
       "      <td>1</td>\n",
       "      <td>0.991818</td>\n",
       "      <td>77183.600000</td>\n",
       "      <td>0.000461</td>\n",
       "      <td>221</td>\n",
       "      <td>Luxury</td>\n",
       "      <td>1</td>\n",
       "      <td>113</td>\n",
       "      <td>5</td>\n",
       "    </tr>\n",
       "    <tr>\n",
       "      <th>1</th>\n",
       "      <td>12347.0</td>\n",
       "      <td>2011-12-07</td>\n",
       "      <td>2</td>\n",
       "      <td>0.042291</td>\n",
       "      <td>182</td>\n",
       "      <td>0.119152</td>\n",
       "      <td>615.714286</td>\n",
       "      <td>0.119152</td>\n",
       "      <td>111</td>\n",
       "      <td>Core</td>\n",
       "      <td>0</td>\n",
       "      <td>333</td>\n",
       "      <td>9</td>\n",
       "    </tr>\n",
       "    <tr>\n",
       "      <th>2</th>\n",
       "      <td>12348.0</td>\n",
       "      <td>2011-09-25</td>\n",
       "      <td>75</td>\n",
       "      <td>0.620880</td>\n",
       "      <td>31</td>\n",
       "      <td>0.579050</td>\n",
       "      <td>449.310000</td>\n",
       "      <td>0.229085</td>\n",
       "      <td>221</td>\n",
       "      <td>Luxury</td>\n",
       "      <td>0</td>\n",
       "      <td>223</td>\n",
       "      <td>7</td>\n",
       "    </tr>\n",
       "    <tr>\n",
       "      <th>3</th>\n",
       "      <td>12349.0</td>\n",
       "      <td>2011-11-21</td>\n",
       "      <td>18</td>\n",
       "      <td>0.260544</td>\n",
       "      <td>73</td>\n",
       "      <td>0.334524</td>\n",
       "      <td>1757.550000</td>\n",
       "      <td>0.014750</td>\n",
       "      <td>111</td>\n",
       "      <td>Core</td>\n",
       "      <td>0</td>\n",
       "      <td>333</td>\n",
       "      <td>9</td>\n",
       "    </tr>\n",
       "    <tr>\n",
       "      <th>4</th>\n",
       "      <td>12350.0</td>\n",
       "      <td>2011-02-02</td>\n",
       "      <td>310</td>\n",
       "      <td>0.947799</td>\n",
       "      <td>17</td>\n",
       "      <td>0.750979</td>\n",
       "      <td>334.400000</td>\n",
       "      <td>0.403088</td>\n",
       "      <td>221</td>\n",
       "      <td>Luxury</td>\n",
       "      <td>0</td>\n",
       "      <td>112</td>\n",
       "      <td>4</td>\n",
       "    </tr>\n",
       "    <tr>\n",
       "      <th>...</th>\n",
       "      <td>...</td>\n",
       "      <td>...</td>\n",
       "      <td>...</td>\n",
       "      <td>...</td>\n",
       "      <td>...</td>\n",
       "      <td>...</td>\n",
       "      <td>...</td>\n",
       "      <td>...</td>\n",
       "      <td>...</td>\n",
       "      <td>...</td>\n",
       "      <td>...</td>\n",
       "      <td>...</td>\n",
       "      <td>...</td>\n",
       "    </tr>\n",
       "    <tr>\n",
       "      <th>4334</th>\n",
       "      <td>18280.0</td>\n",
       "      <td>2011-03-07</td>\n",
       "      <td>277</td>\n",
       "      <td>0.918414</td>\n",
       "      <td>10</td>\n",
       "      <td>0.856764</td>\n",
       "      <td>180.600000</td>\n",
       "      <td>0.744872</td>\n",
       "      <td>222</td>\n",
       "      <td>Challenge</td>\n",
       "      <td>0</td>\n",
       "      <td>112</td>\n",
       "      <td>4</td>\n",
       "    </tr>\n",
       "    <tr>\n",
       "      <th>4335</th>\n",
       "      <td>18281.0</td>\n",
       "      <td>2011-06-12</td>\n",
       "      <td>180</td>\n",
       "      <td>0.802028</td>\n",
       "      <td>7</td>\n",
       "      <td>0.906430</td>\n",
       "      <td>80.820000</td>\n",
       "      <td>0.961051</td>\n",
       "      <td>222</td>\n",
       "      <td>Challenge</td>\n",
       "      <td>0</td>\n",
       "      <td>111</td>\n",
       "      <td>3</td>\n",
       "    </tr>\n",
       "    <tr>\n",
       "      <th>4336</th>\n",
       "      <td>18282.0</td>\n",
       "      <td>2011-12-02</td>\n",
       "      <td>7</td>\n",
       "      <td>0.115349</td>\n",
       "      <td>12</td>\n",
       "      <td>0.823001</td>\n",
       "      <td>89.025000</td>\n",
       "      <td>0.953676</td>\n",
       "      <td>122</td>\n",
       "      <td>New Customers</td>\n",
       "      <td>0</td>\n",
       "      <td>311</td>\n",
       "      <td>5</td>\n",
       "    </tr>\n",
       "    <tr>\n",
       "      <th>4337</th>\n",
       "      <td>18283.0</td>\n",
       "      <td>2011-12-06</td>\n",
       "      <td>3</td>\n",
       "      <td>0.063494</td>\n",
       "      <td>756</td>\n",
       "      <td>0.006914</td>\n",
       "      <td>130.930000</td>\n",
       "      <td>0.873934</td>\n",
       "      <td>112</td>\n",
       "      <td>Loyal</td>\n",
       "      <td>0</td>\n",
       "      <td>331</td>\n",
       "      <td>7</td>\n",
       "    </tr>\n",
       "    <tr>\n",
       "      <th>4338</th>\n",
       "      <td>18287.0</td>\n",
       "      <td>2011-10-28</td>\n",
       "      <td>42</td>\n",
       "      <td>0.457018</td>\n",
       "      <td>70</td>\n",
       "      <td>0.345241</td>\n",
       "      <td>612.426667</td>\n",
       "      <td>0.120765</td>\n",
       "      <td>111</td>\n",
       "      <td>Core</td>\n",
       "      <td>0</td>\n",
       "      <td>233</td>\n",
       "      <td>8</td>\n",
       "    </tr>\n",
       "  </tbody>\n",
       "</table>\n",
       "<p>4339 rows × 13 columns</p>\n",
       "</div>"
      ],
      "text/plain": [
       "      CustomerID  last_date  recency  recency_rank  frequency  frequeny_rank  \\\n",
       "0        12346.0 2011-01-18      325      0.962779          1       0.991818   \n",
       "1        12347.0 2011-12-07        2      0.042291        182       0.119152   \n",
       "2        12348.0 2011-09-25       75      0.620880         31       0.579050   \n",
       "3        12349.0 2011-11-21       18      0.260544         73       0.334524   \n",
       "4        12350.0 2011-02-02      310      0.947799         17       0.750979   \n",
       "...          ...        ...      ...           ...        ...            ...   \n",
       "4334     18280.0 2011-03-07      277      0.918414         10       0.856764   \n",
       "4335     18281.0 2011-06-12      180      0.802028          7       0.906430   \n",
       "4336     18282.0 2011-12-02        7      0.115349         12       0.823001   \n",
       "4337     18283.0 2011-12-06        3      0.063494        756       0.006914   \n",
       "4338     18287.0 2011-10-28       42      0.457018         70       0.345241   \n",
       "\n",
       "          monetary  monetary_rank recency_frequency_monetary        Segment  \\\n",
       "0     77183.600000       0.000461                        221         Luxury   \n",
       "1       615.714286       0.119152                        111           Core   \n",
       "2       449.310000       0.229085                        221         Luxury   \n",
       "3      1757.550000       0.014750                        111           Core   \n",
       "4       334.400000       0.403088                        221         Luxury   \n",
       "...            ...            ...                        ...            ...   \n",
       "4334    180.600000       0.744872                        222      Challenge   \n",
       "4335     80.820000       0.961051                        222      Challenge   \n",
       "4336     89.025000       0.953676                        122  New Customers   \n",
       "4337    130.930000       0.873934                        112          Loyal   \n",
       "4338    612.426667       0.120765                        111           Core   \n",
       "\n",
       "      cluster CLV_RFM  CLV_Overall_Score  \n",
       "0           1     113                  5  \n",
       "1           0     333                  9  \n",
       "2           0     223                  7  \n",
       "3           0     333                  9  \n",
       "4           0     112                  4  \n",
       "...       ...     ...                ...  \n",
       "4334        0     112                  4  \n",
       "4335        0     111                  3  \n",
       "4336        0     311                  5  \n",
       "4337        0     331                  7  \n",
       "4338        0     233                  8  \n",
       "\n",
       "[4339 rows x 13 columns]"
      ]
     },
     "execution_count": 35,
     "metadata": {},
     "output_type": "execute_result"
    }
   ],
   "source": [
    "all_data"
   ]
  },
  {
   "cell_type": "markdown",
   "id": "226d727e",
   "metadata": {},
   "source": [
    "### Life Time Value"
   ]
  },
  {
   "cell_type": "code",
   "execution_count": 36,
   "id": "24e20518",
   "metadata": {},
   "outputs": [],
   "source": [
    "### getting life time value\n",
    "ltv= df.groupby('CustomerID')['Revenue'].sum().reset_index()\n",
    "ltv.columns=['CustomerID','ltv']"
   ]
  },
  {
   "cell_type": "code",
   "execution_count": 37,
   "id": "1cde8be3",
   "metadata": {},
   "outputs": [
    {
     "data": {
      "text/plain": [
       "<Axes: ylabel='Frequency'>"
      ]
     },
     "execution_count": 37,
     "metadata": {},
     "output_type": "execute_result"
    },
    {
     "data": {
      "image/png": "[encoded data removed]",
      "text/plain": [
       "<Figure size 640x480 with 1 Axes>"
      ]
     },
     "metadata": {},
     "output_type": "display_data"
    }
   ],
   "source": [
    "ltv.ltv.plot(kind='hist')"
   ]
  },
  {
   "cell_type": "code",
   "execution_count": 38,
   "id": "16f83032",
   "metadata": {},
   "outputs": [
    {
     "data": {
      "text/plain": [
       "<Axes: ylabel='ltv'>"
      ]
     },
     "execution_count": 38,
     "metadata": {},
     "output_type": "execute_result"
    },
    {
     "data": {
      "image/png": "[encoded data removed]",
      "text/plain": [
       "<Figure size 640x480 with 1 Axes>"
      ]
     },
     "metadata": {},
     "output_type": "display_data"
    }
   ],
   "source": [
    "sns.boxplot(y='ltv',data=ltv)"
   ]
  },
  {
   "cell_type": "markdown",
   "id": "3e32ab5b",
   "metadata": {},
   "source": [
    "* As there are many outliers boxplot is shrinked. \n",
    "###### Remove outlier"
   ]
  },
  {
   "cell_type": "code",
   "execution_count": 39,
   "id": "66482f50",
   "metadata": {},
   "outputs": [
    {
     "data": {
      "text/plain": [
       "44"
      ]
     },
     "execution_count": 39,
     "metadata": {},
     "output_type": "execute_result"
    }
   ],
   "source": [
    "outliers_removed= ltv[ltv.ltv <= ltv.ltv.quantile(0.99)]\n",
    "len(ltv)-len(outliers_removed)"
   ]
  },
  {
   "cell_type": "code",
   "execution_count": 40,
   "id": "27b75bd4",
   "metadata": {},
   "outputs": [
    {
     "data": {
      "text/plain": [
       "<Axes: ylabel='ltv'>"
      ]
     },
     "execution_count": 40,
     "metadata": {},
     "output_type": "execute_result"
    },
    {
     "data": {
      "image/png": "[encoded data removed]",
      "text/plain": [
       "<Figure size 640x480 with 1 Axes>"
      ]
     },
     "metadata": {},
     "output_type": "display_data"
    }
   ],
   "source": [
    "sns.boxplot(y='ltv',data=outliers_removed)"
   ]
  },
  {
   "cell_type": "markdown",
   "id": "6ed8f213",
   "metadata": {},
   "source": [
    "### Modelling"
   ]
  },
  {
   "cell_type": "code",
   "execution_count": 41,
   "id": "fcde55d7",
   "metadata": {},
   "outputs": [
    {
     "name": "stderr",
     "output_type": "stream",
     "text": [
      "C:\\Users\\pooja\\AppData\\Local\\Temp\\ipykernel_14152\\1853511650.py:4: SettingWithCopyWarning: \n",
      "A value is trying to be set on a copy of a slice from a DataFrame.\n",
      "Try using .loc[row_indexer,col_indexer] = value instead\n",
      "\n",
      "See the caveats in the documentation: https://pandas.pydata.org/pandas-docs/stable/user_guide/indexing.html#returning-a-view-versus-a-copy\n",
      "  outliers_removed['clusters']=fitting\n"
     ]
    }
   ],
   "source": [
    "from sklearn.cluster import KMeans\n",
    "km= KMeans(n_clusters=3,n_init=10,max_iter=300)\n",
    "fitting= km.fit_predict(outliers_removed[['ltv']])\n",
    "outliers_removed['clusters']=fitting"
   ]
  },
  {
   "cell_type": "code",
   "execution_count": 42,
   "id": "9f903617",
   "metadata": {},
   "outputs": [
    {
     "data": {
      "text/html": [
       "<div>\n",
       "<style scoped>\n",
       "    .dataframe tbody tr th:only-of-type {\n",
       "        vertical-align: middle;\n",
       "    }\n",
       "\n",
       "    .dataframe tbody tr th {\n",
       "        vertical-align: top;\n",
       "    }\n",
       "\n",
       "    .dataframe thead th {\n",
       "        text-align: right;\n",
       "    }\n",
       "</style>\n",
       "<table border=\"1\" class=\"dataframe\">\n",
       "  <thead>\n",
       "    <tr style=\"text-align: right;\">\n",
       "      <th></th>\n",
       "      <th>CustomerID</th>\n",
       "      <th>ltv</th>\n",
       "      <th>clusters</th>\n",
       "    </tr>\n",
       "  </thead>\n",
       "  <tbody>\n",
       "    <tr>\n",
       "      <th>1</th>\n",
       "      <td>12347.0</td>\n",
       "      <td>4310.00</td>\n",
       "      <td>1</td>\n",
       "    </tr>\n",
       "    <tr>\n",
       "      <th>2</th>\n",
       "      <td>12348.0</td>\n",
       "      <td>1797.24</td>\n",
       "      <td>0</td>\n",
       "    </tr>\n",
       "    <tr>\n",
       "      <th>3</th>\n",
       "      <td>12349.0</td>\n",
       "      <td>1757.55</td>\n",
       "      <td>0</td>\n",
       "    </tr>\n",
       "    <tr>\n",
       "      <th>4</th>\n",
       "      <td>12350.0</td>\n",
       "      <td>334.40</td>\n",
       "      <td>0</td>\n",
       "    </tr>\n",
       "    <tr>\n",
       "      <th>5</th>\n",
       "      <td>12352.0</td>\n",
       "      <td>2506.04</td>\n",
       "      <td>1</td>\n",
       "    </tr>\n",
       "    <tr>\n",
       "      <th>...</th>\n",
       "      <td>...</td>\n",
       "      <td>...</td>\n",
       "      <td>...</td>\n",
       "    </tr>\n",
       "    <tr>\n",
       "      <th>4334</th>\n",
       "      <td>18280.0</td>\n",
       "      <td>180.60</td>\n",
       "      <td>0</td>\n",
       "    </tr>\n",
       "    <tr>\n",
       "      <th>4335</th>\n",
       "      <td>18281.0</td>\n",
       "      <td>80.82</td>\n",
       "      <td>0</td>\n",
       "    </tr>\n",
       "    <tr>\n",
       "      <th>4336</th>\n",
       "      <td>18282.0</td>\n",
       "      <td>178.05</td>\n",
       "      <td>0</td>\n",
       "    </tr>\n",
       "    <tr>\n",
       "      <th>4337</th>\n",
       "      <td>18283.0</td>\n",
       "      <td>2094.88</td>\n",
       "      <td>0</td>\n",
       "    </tr>\n",
       "    <tr>\n",
       "      <th>4338</th>\n",
       "      <td>18287.0</td>\n",
       "      <td>1837.28</td>\n",
       "      <td>0</td>\n",
       "    </tr>\n",
       "  </tbody>\n",
       "</table>\n",
       "<p>4295 rows × 3 columns</p>\n",
       "</div>"
      ],
      "text/plain": [
       "      CustomerID      ltv  clusters\n",
       "1        12347.0  4310.00         1\n",
       "2        12348.0  1797.24         0\n",
       "3        12349.0  1757.55         0\n",
       "4        12350.0   334.40         0\n",
       "5        12352.0  2506.04         1\n",
       "...          ...      ...       ...\n",
       "4334     18280.0   180.60         0\n",
       "4335     18281.0    80.82         0\n",
       "4336     18282.0   178.05         0\n",
       "4337     18283.0  2094.88         0\n",
       "4338     18287.0  1837.28         0\n",
       "\n",
       "[4295 rows x 3 columns]"
      ]
     },
     "execution_count": 42,
     "metadata": {},
     "output_type": "execute_result"
    }
   ],
   "source": [
    "outliers_removed"
   ]
  },
  {
   "cell_type": "code",
   "execution_count": 43,
   "id": "e516138d",
   "metadata": {},
   "outputs": [
    {
     "data": {
      "text/plain": [
       "clusters\n",
       "0      689.389981\n",
       "1     3854.752513\n",
       "2    11427.182941\n",
       "Name: ltv, dtype: float64"
      ]
     },
     "execution_count": 43,
     "metadata": {},
     "output_type": "execute_result"
    }
   ],
   "source": [
    "outliers_removed.groupby('clusters')['ltv'].mean()"
   ]
  },
  {
   "cell_type": "code",
   "execution_count": 44,
   "id": "a8b5407a",
   "metadata": {},
   "outputs": [
    {
     "name": "stderr",
     "output_type": "stream",
     "text": [
      "C:\\Users\\pooja\\AppData\\Local\\Temp\\ipykernel_14152\\630351260.py:1: SettingWithCopyWarning: \n",
      "A value is trying to be set on a copy of a slice from a DataFrame.\n",
      "Try using .loc[row_indexer,col_indexer] = value instead\n",
      "\n",
      "See the caveats in the documentation: https://pandas.pydata.org/pandas-docs/stable/user_guide/indexing.html#returning-a-view-versus-a-copy\n",
      "  outliers_removed['clusters']=outliers_removed['clusters'].astype('string')\n"
     ]
    }
   ],
   "source": [
    "outliers_removed['clusters']=outliers_removed['clusters'].astype('string')"
   ]
  },
  {
   "cell_type": "code",
   "execution_count": 45,
   "id": "372af2c5",
   "metadata": {},
   "outputs": [],
   "source": [
    "ltv_mapping= {'0':'Low_ltv','1': 'Mid_ltv','2':'High_ltv'}"
   ]
  },
  {
   "cell_type": "code",
   "execution_count": 46,
   "id": "26dd61b4",
   "metadata": {},
   "outputs": [
    {
     "name": "stderr",
     "output_type": "stream",
     "text": [
      "C:\\Users\\pooja\\AppData\\Local\\Temp\\ipykernel_14152\\1897572708.py:1: SettingWithCopyWarning: \n",
      "A value is trying to be set on a copy of a slice from a DataFrame.\n",
      "Try using .loc[row_indexer,col_indexer] = value instead\n",
      "\n",
      "See the caveats in the documentation: https://pandas.pydata.org/pandas-docs/stable/user_guide/indexing.html#returning-a-view-versus-a-copy\n",
      "  outliers_removed['clusters']=outliers_removed['clusters'].map(ltv_mapping)\n"
     ]
    }
   ],
   "source": [
    "outliers_removed['clusters']=outliers_removed['clusters'].map(ltv_mapping)"
   ]
  },
  {
   "cell_type": "code",
   "execution_count": 48,
   "id": "35a32847",
   "metadata": {},
   "outputs": [
    {
     "data": {
      "text/html": [
       "<div>\n",
       "<style scoped>\n",
       "    .dataframe tbody tr th:only-of-type {\n",
       "        vertical-align: middle;\n",
       "    }\n",
       "\n",
       "    .dataframe tbody tr th {\n",
       "        vertical-align: top;\n",
       "    }\n",
       "\n",
       "    .dataframe thead th {\n",
       "        text-align: right;\n",
       "    }\n",
       "</style>\n",
       "<table border=\"1\" class=\"dataframe\">\n",
       "  <thead>\n",
       "    <tr style=\"text-align: right;\">\n",
       "      <th></th>\n",
       "      <th>CustomerID</th>\n",
       "      <th>ltv</th>\n",
       "      <th>clusters</th>\n",
       "    </tr>\n",
       "  </thead>\n",
       "  <tbody>\n",
       "    <tr>\n",
       "      <th>1</th>\n",
       "      <td>12347.0</td>\n",
       "      <td>4310.00</td>\n",
       "      <td>Mid_ltv</td>\n",
       "    </tr>\n",
       "    <tr>\n",
       "      <th>2</th>\n",
       "      <td>12348.0</td>\n",
       "      <td>1797.24</td>\n",
       "      <td>Low_ltv</td>\n",
       "    </tr>\n",
       "    <tr>\n",
       "      <th>3</th>\n",
       "      <td>12349.0</td>\n",
       "      <td>1757.55</td>\n",
       "      <td>Low_ltv</td>\n",
       "    </tr>\n",
       "    <tr>\n",
       "      <th>4</th>\n",
       "      <td>12350.0</td>\n",
       "      <td>334.40</td>\n",
       "      <td>Low_ltv</td>\n",
       "    </tr>\n",
       "    <tr>\n",
       "      <th>5</th>\n",
       "      <td>12352.0</td>\n",
       "      <td>2506.04</td>\n",
       "      <td>Mid_ltv</td>\n",
       "    </tr>\n",
       "    <tr>\n",
       "      <th>...</th>\n",
       "      <td>...</td>\n",
       "      <td>...</td>\n",
       "      <td>...</td>\n",
       "    </tr>\n",
       "    <tr>\n",
       "      <th>4334</th>\n",
       "      <td>18280.0</td>\n",
       "      <td>180.60</td>\n",
       "      <td>Low_ltv</td>\n",
       "    </tr>\n",
       "    <tr>\n",
       "      <th>4335</th>\n",
       "      <td>18281.0</td>\n",
       "      <td>80.82</td>\n",
       "      <td>Low_ltv</td>\n",
       "    </tr>\n",
       "    <tr>\n",
       "      <th>4336</th>\n",
       "      <td>18282.0</td>\n",
       "      <td>178.05</td>\n",
       "      <td>Low_ltv</td>\n",
       "    </tr>\n",
       "    <tr>\n",
       "      <th>4337</th>\n",
       "      <td>18283.0</td>\n",
       "      <td>2094.88</td>\n",
       "      <td>Low_ltv</td>\n",
       "    </tr>\n",
       "    <tr>\n",
       "      <th>4338</th>\n",
       "      <td>18287.0</td>\n",
       "      <td>1837.28</td>\n",
       "      <td>Low_ltv</td>\n",
       "    </tr>\n",
       "  </tbody>\n",
       "</table>\n",
       "<p>4295 rows × 3 columns</p>\n",
       "</div>"
      ],
      "text/plain": [
       "      CustomerID      ltv clusters\n",
       "1        12347.0  4310.00  Mid_ltv\n",
       "2        12348.0  1797.24  Low_ltv\n",
       "3        12349.0  1757.55  Low_ltv\n",
       "4        12350.0   334.40  Low_ltv\n",
       "5        12352.0  2506.04  Mid_ltv\n",
       "...          ...      ...      ...\n",
       "4334     18280.0   180.60  Low_ltv\n",
       "4335     18281.0    80.82  Low_ltv\n",
       "4336     18282.0   178.05  Low_ltv\n",
       "4337     18283.0  2094.88  Low_ltv\n",
       "4338     18287.0  1837.28  Low_ltv\n",
       "\n",
       "[4295 rows x 3 columns]"
      ]
     },
     "execution_count": 48,
     "metadata": {},
     "output_type": "execute_result"
    }
   ],
   "source": [
    "outliers_removed"
   ]
  },
  {
   "cell_type": "markdown",
   "id": "65972ed8",
   "metadata": {},
   "source": [
    "##### Create dataframe of relevant columns"
   ]
  },
  {
   "cell_type": "code",
   "execution_count": 50,
   "id": "5873bf15",
   "metadata": {},
   "outputs": [],
   "source": [
    "rr_Data = all_data.loc[:,['CustomerID','recency','frequency','monetary']]"
   ]
  },
  {
   "cell_type": "code",
   "execution_count": 64,
   "id": "d37b744b",
   "metadata": {},
   "outputs": [],
   "source": [
    "joined_data = pd.merge(outliers_removed[['CustomerID','clusters']],all_data,\n",
    "                      how='left',on= 'CustomerID')"
   ]
  },
  {
   "cell_type": "code",
   "execution_count": 65,
   "id": "c6ba9ed4",
   "metadata": {},
   "outputs": [
    {
     "data": {
      "text/html": [
       "<div>\n",
       "<style scoped>\n",
       "    .dataframe tbody tr th:only-of-type {\n",
       "        vertical-align: middle;\n",
       "    }\n",
       "\n",
       "    .dataframe tbody tr th {\n",
       "        vertical-align: top;\n",
       "    }\n",
       "\n",
       "    .dataframe thead th {\n",
       "        text-align: right;\n",
       "    }\n",
       "</style>\n",
       "<table border=\"1\" class=\"dataframe\">\n",
       "  <thead>\n",
       "    <tr style=\"text-align: right;\">\n",
       "      <th></th>\n",
       "      <th>CustomerID</th>\n",
       "      <th>clusters</th>\n",
       "      <th>last_date</th>\n",
       "      <th>recency</th>\n",
       "      <th>recency_rank</th>\n",
       "      <th>frequency</th>\n",
       "      <th>frequeny_rank</th>\n",
       "      <th>monetary</th>\n",
       "      <th>monetary_rank</th>\n",
       "      <th>recency_frequency_monetary</th>\n",
       "      <th>Segment</th>\n",
       "      <th>cluster</th>\n",
       "      <th>CLV_RFM</th>\n",
       "      <th>CLV_Overall_Score</th>\n",
       "    </tr>\n",
       "  </thead>\n",
       "  <tbody>\n",
       "    <tr>\n",
       "      <th>0</th>\n",
       "      <td>12347.0</td>\n",
       "      <td>Mid_ltv</td>\n",
       "      <td>2011-12-07</td>\n",
       "      <td>2</td>\n",
       "      <td>0.042291</td>\n",
       "      <td>182</td>\n",
       "      <td>0.119152</td>\n",
       "      <td>615.714286</td>\n",
       "      <td>0.119152</td>\n",
       "      <td>111</td>\n",
       "      <td>Core</td>\n",
       "      <td>0</td>\n",
       "      <td>333</td>\n",
       "      <td>9</td>\n",
       "    </tr>\n",
       "    <tr>\n",
       "      <th>1</th>\n",
       "      <td>12348.0</td>\n",
       "      <td>Low_ltv</td>\n",
       "      <td>2011-09-25</td>\n",
       "      <td>75</td>\n",
       "      <td>0.620880</td>\n",
       "      <td>31</td>\n",
       "      <td>0.579050</td>\n",
       "      <td>449.310000</td>\n",
       "      <td>0.229085</td>\n",
       "      <td>221</td>\n",
       "      <td>Luxury</td>\n",
       "      <td>0</td>\n",
       "      <td>223</td>\n",
       "      <td>7</td>\n",
       "    </tr>\n",
       "    <tr>\n",
       "      <th>2</th>\n",
       "      <td>12349.0</td>\n",
       "      <td>Low_ltv</td>\n",
       "      <td>2011-11-21</td>\n",
       "      <td>18</td>\n",
       "      <td>0.260544</td>\n",
       "      <td>73</td>\n",
       "      <td>0.334524</td>\n",
       "      <td>1757.550000</td>\n",
       "      <td>0.014750</td>\n",
       "      <td>111</td>\n",
       "      <td>Core</td>\n",
       "      <td>0</td>\n",
       "      <td>333</td>\n",
       "      <td>9</td>\n",
       "    </tr>\n",
       "    <tr>\n",
       "      <th>3</th>\n",
       "      <td>12350.0</td>\n",
       "      <td>Low_ltv</td>\n",
       "      <td>2011-02-02</td>\n",
       "      <td>310</td>\n",
       "      <td>0.947799</td>\n",
       "      <td>17</td>\n",
       "      <td>0.750979</td>\n",
       "      <td>334.400000</td>\n",
       "      <td>0.403088</td>\n",
       "      <td>221</td>\n",
       "      <td>Luxury</td>\n",
       "      <td>0</td>\n",
       "      <td>112</td>\n",
       "      <td>4</td>\n",
       "    </tr>\n",
       "    <tr>\n",
       "      <th>4</th>\n",
       "      <td>12352.0</td>\n",
       "      <td>Mid_ltv</td>\n",
       "      <td>2011-11-03</td>\n",
       "      <td>36</td>\n",
       "      <td>0.423485</td>\n",
       "      <td>85</td>\n",
       "      <td>0.294768</td>\n",
       "      <td>313.255000</td>\n",
       "      <td>0.450565</td>\n",
       "      <td>111</td>\n",
       "      <td>Core</td>\n",
       "      <td>0</td>\n",
       "      <td>232</td>\n",
       "      <td>7</td>\n",
       "    </tr>\n",
       "    <tr>\n",
       "      <th>...</th>\n",
       "      <td>...</td>\n",
       "      <td>...</td>\n",
       "      <td>...</td>\n",
       "      <td>...</td>\n",
       "      <td>...</td>\n",
       "      <td>...</td>\n",
       "      <td>...</td>\n",
       "      <td>...</td>\n",
       "      <td>...</td>\n",
       "      <td>...</td>\n",
       "      <td>...</td>\n",
       "      <td>...</td>\n",
       "      <td>...</td>\n",
       "      <td>...</td>\n",
       "    </tr>\n",
       "    <tr>\n",
       "      <th>4290</th>\n",
       "      <td>18280.0</td>\n",
       "      <td>Low_ltv</td>\n",
       "      <td>2011-03-07</td>\n",
       "      <td>277</td>\n",
       "      <td>0.918414</td>\n",
       "      <td>10</td>\n",
       "      <td>0.856764</td>\n",
       "      <td>180.600000</td>\n",
       "      <td>0.744872</td>\n",
       "      <td>222</td>\n",
       "      <td>Challenge</td>\n",
       "      <td>0</td>\n",
       "      <td>112</td>\n",
       "      <td>4</td>\n",
       "    </tr>\n",
       "    <tr>\n",
       "      <th>4291</th>\n",
       "      <td>18281.0</td>\n",
       "      <td>Low_ltv</td>\n",
       "      <td>2011-06-12</td>\n",
       "      <td>180</td>\n",
       "      <td>0.802028</td>\n",
       "      <td>7</td>\n",
       "      <td>0.906430</td>\n",
       "      <td>80.820000</td>\n",
       "      <td>0.961051</td>\n",
       "      <td>222</td>\n",
       "      <td>Challenge</td>\n",
       "      <td>0</td>\n",
       "      <td>111</td>\n",
       "      <td>3</td>\n",
       "    </tr>\n",
       "    <tr>\n",
       "      <th>4292</th>\n",
       "      <td>18282.0</td>\n",
       "      <td>Low_ltv</td>\n",
       "      <td>2011-12-02</td>\n",
       "      <td>7</td>\n",
       "      <td>0.115349</td>\n",
       "      <td>12</td>\n",
       "      <td>0.823001</td>\n",
       "      <td>89.025000</td>\n",
       "      <td>0.953676</td>\n",
       "      <td>122</td>\n",
       "      <td>New Customers</td>\n",
       "      <td>0</td>\n",
       "      <td>311</td>\n",
       "      <td>5</td>\n",
       "    </tr>\n",
       "    <tr>\n",
       "      <th>4293</th>\n",
       "      <td>18283.0</td>\n",
       "      <td>Low_ltv</td>\n",
       "      <td>2011-12-06</td>\n",
       "      <td>3</td>\n",
       "      <td>0.063494</td>\n",
       "      <td>756</td>\n",
       "      <td>0.006914</td>\n",
       "      <td>130.930000</td>\n",
       "      <td>0.873934</td>\n",
       "      <td>112</td>\n",
       "      <td>Loyal</td>\n",
       "      <td>0</td>\n",
       "      <td>331</td>\n",
       "      <td>7</td>\n",
       "    </tr>\n",
       "    <tr>\n",
       "      <th>4294</th>\n",
       "      <td>18287.0</td>\n",
       "      <td>Low_ltv</td>\n",
       "      <td>2011-10-28</td>\n",
       "      <td>42</td>\n",
       "      <td>0.457018</td>\n",
       "      <td>70</td>\n",
       "      <td>0.345241</td>\n",
       "      <td>612.426667</td>\n",
       "      <td>0.120765</td>\n",
       "      <td>111</td>\n",
       "      <td>Core</td>\n",
       "      <td>0</td>\n",
       "      <td>233</td>\n",
       "      <td>8</td>\n",
       "    </tr>\n",
       "  </tbody>\n",
       "</table>\n",
       "<p>4295 rows × 14 columns</p>\n",
       "</div>"
      ],
      "text/plain": [
       "      CustomerID clusters  last_date  recency  recency_rank  frequency  \\\n",
       "0        12347.0  Mid_ltv 2011-12-07        2      0.042291        182   \n",
       "1        12348.0  Low_ltv 2011-09-25       75      0.620880         31   \n",
       "2        12349.0  Low_ltv 2011-11-21       18      0.260544         73   \n",
       "3        12350.0  Low_ltv 2011-02-02      310      0.947799         17   \n",
       "4        12352.0  Mid_ltv 2011-11-03       36      0.423485         85   \n",
       "...          ...      ...        ...      ...           ...        ...   \n",
       "4290     18280.0  Low_ltv 2011-03-07      277      0.918414         10   \n",
       "4291     18281.0  Low_ltv 2011-06-12      180      0.802028          7   \n",
       "4292     18282.0  Low_ltv 2011-12-02        7      0.115349         12   \n",
       "4293     18283.0  Low_ltv 2011-12-06        3      0.063494        756   \n",
       "4294     18287.0  Low_ltv 2011-10-28       42      0.457018         70   \n",
       "\n",
       "      frequeny_rank     monetary  monetary_rank recency_frequency_monetary  \\\n",
       "0          0.119152   615.714286       0.119152                        111   \n",
       "1          0.579050   449.310000       0.229085                        221   \n",
       "2          0.334524  1757.550000       0.014750                        111   \n",
       "3          0.750979   334.400000       0.403088                        221   \n",
       "4          0.294768   313.255000       0.450565                        111   \n",
       "...             ...          ...            ...                        ...   \n",
       "4290       0.856764   180.600000       0.744872                        222   \n",
       "4291       0.906430    80.820000       0.961051                        222   \n",
       "4292       0.823001    89.025000       0.953676                        122   \n",
       "4293       0.006914   130.930000       0.873934                        112   \n",
       "4294       0.345241   612.426667       0.120765                        111   \n",
       "\n",
       "            Segment  cluster CLV_RFM  CLV_Overall_Score  \n",
       "0              Core        0     333                  9  \n",
       "1            Luxury        0     223                  7  \n",
       "2              Core        0     333                  9  \n",
       "3            Luxury        0     112                  4  \n",
       "4              Core        0     232                  7  \n",
       "...             ...      ...     ...                ...  \n",
       "4290      Challenge        0     112                  4  \n",
       "4291      Challenge        0     111                  3  \n",
       "4292  New Customers        0     311                  5  \n",
       "4293          Loyal        0     331                  7  \n",
       "4294           Core        0     233                  8  \n",
       "\n",
       "[4295 rows x 14 columns]"
      ]
     },
     "execution_count": 65,
     "metadata": {},
     "output_type": "execute_result"
    }
   ],
   "source": [
    "joined_data"
   ]
  },
  {
   "cell_type": "code",
   "execution_count": 66,
   "id": "c1b72e44",
   "metadata": {},
   "outputs": [
    {
     "data": {
      "text/html": [
       "<div>\n",
       "<style scoped>\n",
       "    .dataframe tbody tr th:only-of-type {\n",
       "        vertical-align: middle;\n",
       "    }\n",
       "\n",
       "    .dataframe tbody tr th {\n",
       "        vertical-align: top;\n",
       "    }\n",
       "\n",
       "    .dataframe thead th {\n",
       "        text-align: right;\n",
       "    }\n",
       "</style>\n",
       "<table border=\"1\" class=\"dataframe\">\n",
       "  <thead>\n",
       "    <tr style=\"text-align: right;\">\n",
       "      <th></th>\n",
       "      <th>clusters</th>\n",
       "      <th>recency</th>\n",
       "      <th>frequency</th>\n",
       "      <th>monetary</th>\n",
       "      <th>CLV_RFM</th>\n",
       "      <th>CLV_Overall_Score</th>\n",
       "    </tr>\n",
       "  </thead>\n",
       "  <tbody>\n",
       "    <tr>\n",
       "      <th>0</th>\n",
       "      <td>Mid_ltv</td>\n",
       "      <td>2</td>\n",
       "      <td>182</td>\n",
       "      <td>615.714286</td>\n",
       "      <td>333</td>\n",
       "      <td>9</td>\n",
       "    </tr>\n",
       "    <tr>\n",
       "      <th>1</th>\n",
       "      <td>Low_ltv</td>\n",
       "      <td>75</td>\n",
       "      <td>31</td>\n",
       "      <td>449.310000</td>\n",
       "      <td>223</td>\n",
       "      <td>7</td>\n",
       "    </tr>\n",
       "    <tr>\n",
       "      <th>2</th>\n",
       "      <td>Low_ltv</td>\n",
       "      <td>18</td>\n",
       "      <td>73</td>\n",
       "      <td>1757.550000</td>\n",
       "      <td>333</td>\n",
       "      <td>9</td>\n",
       "    </tr>\n",
       "    <tr>\n",
       "      <th>3</th>\n",
       "      <td>Low_ltv</td>\n",
       "      <td>310</td>\n",
       "      <td>17</td>\n",
       "      <td>334.400000</td>\n",
       "      <td>112</td>\n",
       "      <td>4</td>\n",
       "    </tr>\n",
       "    <tr>\n",
       "      <th>4</th>\n",
       "      <td>Mid_ltv</td>\n",
       "      <td>36</td>\n",
       "      <td>85</td>\n",
       "      <td>313.255000</td>\n",
       "      <td>232</td>\n",
       "      <td>7</td>\n",
       "    </tr>\n",
       "    <tr>\n",
       "      <th>...</th>\n",
       "      <td>...</td>\n",
       "      <td>...</td>\n",
       "      <td>...</td>\n",
       "      <td>...</td>\n",
       "      <td>...</td>\n",
       "      <td>...</td>\n",
       "    </tr>\n",
       "    <tr>\n",
       "      <th>4290</th>\n",
       "      <td>Low_ltv</td>\n",
       "      <td>277</td>\n",
       "      <td>10</td>\n",
       "      <td>180.600000</td>\n",
       "      <td>112</td>\n",
       "      <td>4</td>\n",
       "    </tr>\n",
       "    <tr>\n",
       "      <th>4291</th>\n",
       "      <td>Low_ltv</td>\n",
       "      <td>180</td>\n",
       "      <td>7</td>\n",
       "      <td>80.820000</td>\n",
       "      <td>111</td>\n",
       "      <td>3</td>\n",
       "    </tr>\n",
       "    <tr>\n",
       "      <th>4292</th>\n",
       "      <td>Low_ltv</td>\n",
       "      <td>7</td>\n",
       "      <td>12</td>\n",
       "      <td>89.025000</td>\n",
       "      <td>311</td>\n",
       "      <td>5</td>\n",
       "    </tr>\n",
       "    <tr>\n",
       "      <th>4293</th>\n",
       "      <td>Low_ltv</td>\n",
       "      <td>3</td>\n",
       "      <td>756</td>\n",
       "      <td>130.930000</td>\n",
       "      <td>331</td>\n",
       "      <td>7</td>\n",
       "    </tr>\n",
       "    <tr>\n",
       "      <th>4294</th>\n",
       "      <td>Low_ltv</td>\n",
       "      <td>42</td>\n",
       "      <td>70</td>\n",
       "      <td>612.426667</td>\n",
       "      <td>233</td>\n",
       "      <td>8</td>\n",
       "    </tr>\n",
       "  </tbody>\n",
       "</table>\n",
       "<p>4295 rows × 6 columns</p>\n",
       "</div>"
      ],
      "text/plain": [
       "     clusters  recency  frequency     monetary CLV_RFM  CLV_Overall_Score\n",
       "0     Mid_ltv        2        182   615.714286     333                  9\n",
       "1     Low_ltv       75         31   449.310000     223                  7\n",
       "2     Low_ltv       18         73  1757.550000     333                  9\n",
       "3     Low_ltv      310         17   334.400000     112                  4\n",
       "4     Mid_ltv       36         85   313.255000     232                  7\n",
       "...       ...      ...        ...          ...     ...                ...\n",
       "4290  Low_ltv      277         10   180.600000     112                  4\n",
       "4291  Low_ltv      180          7    80.820000     111                  3\n",
       "4292  Low_ltv        7         12    89.025000     311                  5\n",
       "4293  Low_ltv        3        756   130.930000     331                  7\n",
       "4294  Low_ltv       42         70   612.426667     233                  8\n",
       "\n",
       "[4295 rows x 6 columns]"
      ]
     },
     "execution_count": 66,
     "metadata": {},
     "output_type": "execute_result"
    }
   ],
   "source": [
    "joined_data.drop(['CustomerID','last_date','recency_rank','frequeny_rank',\n",
    "                  'monetary_rank',\n",
    "                  'recency_frequency_monetary','Segment',\n",
    "                  'cluster'],\n",
    "                  axis=1, inplace=True) \n",
    "\n",
    "joined_data"
   ]
  },
  {
   "cell_type": "markdown",
   "id": "ee63a33b",
   "metadata": {},
   "source": [
    "##### Seperate recency, frequency, monetary values for modelling. "
   ]
  },
  {
   "cell_type": "code",
   "execution_count": 71,
   "id": "1d2f3d40",
   "metadata": {},
   "outputs": [],
   "source": [
    "joined_data['recency_groups']= joined_data['CLV_RFM'].str.slice(0,1,1).astype('int64')\n",
    "joined_data['frequency_groups']= joined_data['CLV_RFM'].str.slice(1,2,1).astype('int64')\n",
    "joined_data['monetary_groups']= joined_data['CLV_RFM'].str.slice(2,3,1).astype('int64')"
   ]
  },
  {
   "cell_type": "code",
   "execution_count": 73,
   "id": "33602ccb",
   "metadata": {},
   "outputs": [],
   "source": [
    "joined_data.drop('CLV_RFM',axis=1)\n",
    "X_1= pd.get_dummies(joined_data.drop('clusters',axis=1))\n",
    "columns=X_1.columns\n",
    "X=X_1.values\n",
    "y= joined_data['clusters'].values "
   ]
  },
  {
   "cell_type": "code",
   "execution_count": 55,
   "id": "6f8c67bf",
   "metadata": {},
   "outputs": [],
   "source": [
    "from sklearn.model_selection import cross_val_score\n",
    "from sklearn.model_selection import RepeatedStratifiedKFold\n",
    "from sklearn.linear_model import LogisticRegression\n",
    "from sklearn.tree import DecisionTreeClassifier\n",
    "from sklearn.ensemble import RandomForestClassifier\n",
    "from sklearn.model_selection import RandomizedSearchCV"
   ]
  },
  {
   "cell_type": "code",
   "execution_count": 90,
   "id": "795bbd3a",
   "metadata": {},
   "outputs": [
    {
     "data": {
      "text/plain": [
       "(4295, 4295, 859.0, 3436)"
      ]
     },
     "execution_count": 90,
     "metadata": {},
     "output_type": "execute_result"
    }
   ],
   "source": [
    "len(X), len(y), 0.2*4295, 4295-859"
   ]
  },
  {
   "cell_type": "code",
   "execution_count": 134,
   "id": "c2ab79ac",
   "metadata": {},
   "outputs": [
    {
     "data": {
      "text/plain": [
       "Index(['recency', 'frequency', 'monetary', 'CLV_Overall_Score',\n",
       "       'recency_groups', 'frequency_groups', 'monetary_groups', 'CLV_RFM_111',\n",
       "       'CLV_RFM_112', 'CLV_RFM_113', 'CLV_RFM_121', 'CLV_RFM_122',\n",
       "       'CLV_RFM_123', 'CLV_RFM_131', 'CLV_RFM_132', 'CLV_RFM_133',\n",
       "       'CLV_RFM_211', 'CLV_RFM_212', 'CLV_RFM_213', 'CLV_RFM_221',\n",
       "       'CLV_RFM_222', 'CLV_RFM_223', 'CLV_RFM_231', 'CLV_RFM_232',\n",
       "       'CLV_RFM_233', 'CLV_RFM_311', 'CLV_RFM_312', 'CLV_RFM_313',\n",
       "       'CLV_RFM_321', 'CLV_RFM_322', 'CLV_RFM_323', 'CLV_RFM_331',\n",
       "       'CLV_RFM_332', 'CLV_RFM_333'],\n",
       "      dtype='object')"
      ]
     },
     "execution_count": 134,
     "metadata": {},
     "output_type": "execute_result"
    }
   ],
   "source": [
    "columns"
   ]
  },
  {
   "cell_type": "code",
   "execution_count": 93,
   "id": "f4bb8de2",
   "metadata": {},
   "outputs": [
    {
     "name": "stdout",
     "output_type": "stream",
     "text": [
      "[0, 1, 2, 3]\n"
     ]
    }
   ],
   "source": [
    "a = [0,1,2,3,4,5]\n",
    "print(a[:4])"
   ]
  },
  {
   "cell_type": "code",
   "execution_count": 94,
   "id": "e73693f3",
   "metadata": {},
   "outputs": [],
   "source": [
    "X, Y, x, y = X[:3436], y[:3436], X[3437:], y[3437:]"
   ]
  },
  {
   "cell_type": "code",
   "execution_count": 96,
   "id": "30845f04",
   "metadata": {},
   "outputs": [],
   "source": [
    "model_tree= DecisionTreeClassifier()\n",
    "cv= RepeatedStratifiedKFold(n_splits=3,n_repeats=3,random_state=1)\n",
    "scores= cross_val_score(model_tree,X,Y,scoring='accuracy',cv=cv)          "
   ]
  },
  {
   "cell_type": "code",
   "execution_count": 97,
   "id": "ef467da5",
   "metadata": {},
   "outputs": [
    {
     "data": {
      "text/plain": [
       "0.8480772731853004"
      ]
     },
     "execution_count": 97,
     "metadata": {},
     "output_type": "execute_result"
    }
   ],
   "source": [
    "scores.mean()"
   ]
  },
  {
   "cell_type": "markdown",
   "id": "0740920c",
   "metadata": {},
   "source": [
    "##### Parametric Search"
   ]
  },
  {
   "cell_type": "code",
   "execution_count": 95,
   "id": "4011b43b",
   "metadata": {},
   "outputs": [
    {
     "data": {
      "text/html": [
       "<style>#sk-container-id-3 {color: black;}#sk-container-id-3 pre{padding: 0;}#sk-container-id-3 div.sk-toggleable {background-color: white;}#sk-container-id-3 label.sk-toggleable__label {cursor: pointer;display: block;width: 100%;margin-bottom: 0;padding: 0.3em;box-sizing: border-box;text-align: center;}#sk-container-id-3 label.sk-toggleable__label-arrow:before {content: \"▸\";float: left;margin-right: 0.25em;color: #696969;}#sk-container-id-3 label.sk-toggleable__label-arrow:hover:before {color: black;}#sk-container-id-3 div.sk-estimator:hover label.sk-toggleable__label-arrow:before {color: black;}#sk-container-id-3 div.sk-toggleable__content {max-height: 0;max-width: 0;overflow: hidden;text-align: left;background-color: #f0f8ff;}#sk-container-id-3 div.sk-toggleable__content pre {margin: 0.2em;color: black;border-radius: 0.25em;background-color: #f0f8ff;}#sk-container-id-3 input.sk-toggleable__control:checked~div.sk-toggleable__content {max-height: 200px;max-width: 100%;overflow: auto;}#sk-container-id-3 input.sk-toggleable__control:checked~label.sk-toggleable__label-arrow:before {content: \"▾\";}#sk-container-id-3 div.sk-estimator input.sk-toggleable__control:checked~label.sk-toggleable__label {background-color: #d4ebff;}#sk-container-id-3 div.sk-label input.sk-toggleable__control:checked~label.sk-toggleable__label {background-color: #d4ebff;}#sk-container-id-3 input.sk-hidden--visually {border: 0;clip: rect(1px 1px 1px 1px);clip: rect(1px, 1px, 1px, 1px);height: 1px;margin: -1px;overflow: hidden;padding: 0;position: absolute;width: 1px;}#sk-container-id-3 div.sk-estimator {font-family: monospace;background-color: #f0f8ff;border: 1px dotted black;border-radius: 0.25em;box-sizing: border-box;margin-bottom: 0.5em;}#sk-container-id-3 div.sk-estimator:hover {background-color: #d4ebff;}#sk-container-id-3 div.sk-parallel-item::after {content: \"\";width: 100%;border-bottom: 1px solid gray;flex-grow: 1;}#sk-container-id-3 div.sk-label:hover label.sk-toggleable__label {background-color: #d4ebff;}#sk-container-id-3 div.sk-serial::before {content: \"\";position: absolute;border-left: 1px solid gray;box-sizing: border-box;top: 0;bottom: 0;left: 50%;z-index: 0;}#sk-container-id-3 div.sk-serial {display: flex;flex-direction: column;align-items: center;background-color: white;padding-right: 0.2em;padding-left: 0.2em;position: relative;}#sk-container-id-3 div.sk-item {position: relative;z-index: 1;}#sk-container-id-3 div.sk-parallel {display: flex;align-items: stretch;justify-content: center;background-color: white;position: relative;}#sk-container-id-3 div.sk-item::before, #sk-container-id-3 div.sk-parallel-item::before {content: \"\";position: absolute;border-left: 1px solid gray;box-sizing: border-box;top: 0;bottom: 0;left: 50%;z-index: -1;}#sk-container-id-3 div.sk-parallel-item {display: flex;flex-direction: column;z-index: 1;position: relative;background-color: white;}#sk-container-id-3 div.sk-parallel-item:first-child::after {align-self: flex-end;width: 50%;}#sk-container-id-3 div.sk-parallel-item:last-child::after {align-self: flex-start;width: 50%;}#sk-container-id-3 div.sk-parallel-item:only-child::after {width: 0;}#sk-container-id-3 div.sk-dashed-wrapped {border: 1px dashed gray;margin: 0 0.4em 0.5em 0.4em;box-sizing: border-box;padding-bottom: 0.4em;background-color: white;}#sk-container-id-3 div.sk-label label {font-family: monospace;font-weight: bold;display: inline-block;line-height: 1.2em;}#sk-container-id-3 div.sk-label-container {text-align: center;}#sk-container-id-3 div.sk-container {/* jupyter's `normalize.less` sets `[hidden] { display: none; }` but bootstrap.min.css set `[hidden] { display: none !important; }` so we also need the `!important` here to be able to override the default hidden behavior on the sphinx rendered scikit-learn.org. See: https://github.com/scikit-learn/scikit-learn/issues/21755 */display: inline-block !important;position: relative;}#sk-container-id-3 div.sk-text-repr-fallback {display: none;}</style><div id=\"sk-container-id-3\" class=\"sk-top-container\"><div class=\"sk-text-repr-fallback\"><pre>RandomizedSearchCV(cv=5, estimator=DecisionTreeClassifier(),\n",
       "                   param_distributions={&#x27;criterion&#x27;: [&#x27;gini&#x27;, &#x27;entropy&#x27;],\n",
       "                                        &#x27;max_depth&#x27;: [3, None],\n",
       "                                        &#x27;min_samples_leaf&#x27;: range(1, 9)})</pre><b>In a Jupyter environment, please rerun this cell to show the HTML representation or trust the notebook. <br />On GitHub, the HTML representation is unable to render, please try loading this page with nbviewer.org.</b></div><div class=\"sk-container\" hidden><div class=\"sk-item sk-dashed-wrapped\"><div class=\"sk-label-container\"><div class=\"sk-label sk-toggleable\"><input class=\"sk-toggleable__control sk-hidden--visually\" id=\"sk-estimator-id-7\" type=\"checkbox\" ><label for=\"sk-estimator-id-7\" class=\"sk-toggleable__label sk-toggleable__label-arrow\">RandomizedSearchCV</label><div class=\"sk-toggleable__content\"><pre>RandomizedSearchCV(cv=5, estimator=DecisionTreeClassifier(),\n",
       "                   param_distributions={&#x27;criterion&#x27;: [&#x27;gini&#x27;, &#x27;entropy&#x27;],\n",
       "                                        &#x27;max_depth&#x27;: [3, None],\n",
       "                                        &#x27;min_samples_leaf&#x27;: range(1, 9)})</pre></div></div></div><div class=\"sk-parallel\"><div class=\"sk-parallel-item\"><div class=\"sk-item\"><div class=\"sk-label-container\"><div class=\"sk-label sk-toggleable\"><input class=\"sk-toggleable__control sk-hidden--visually\" id=\"sk-estimator-id-8\" type=\"checkbox\" ><label for=\"sk-estimator-id-8\" class=\"sk-toggleable__label sk-toggleable__label-arrow\">estimator: DecisionTreeClassifier</label><div class=\"sk-toggleable__content\"><pre>DecisionTreeClassifier()</pre></div></div></div><div class=\"sk-serial\"><div class=\"sk-item\"><div class=\"sk-estimator sk-toggleable\"><input class=\"sk-toggleable__control sk-hidden--visually\" id=\"sk-estimator-id-9\" type=\"checkbox\" ><label for=\"sk-estimator-id-9\" class=\"sk-toggleable__label sk-toggleable__label-arrow\">DecisionTreeClassifier</label><div class=\"sk-toggleable__content\"><pre>DecisionTreeClassifier()</pre></div></div></div></div></div></div></div></div></div></div>"
      ],
      "text/plain": [
       "RandomizedSearchCV(cv=5, estimator=DecisionTreeClassifier(),\n",
       "                   param_distributions={'criterion': ['gini', 'entropy'],\n",
       "                                        'max_depth': [3, None],\n",
       "                                        'min_samples_leaf': range(1, 9)})"
      ]
     },
     "execution_count": 95,
     "metadata": {},
     "output_type": "execute_result"
    }
   ],
   "source": [
    "param_dist = {\"max_depth\": [3, None],\n",
    "           \"min_samples_leaf\": range(1,9),\n",
    "             \"criterion\": [\"gini\", \"entropy\"]}\n",
    "\n",
    "\n",
    "tree= DecisionTreeClassifier()\n",
    "rf= RandomForestClassifier()\n",
    "\n",
    "tree_cv= RandomizedSearchCV(tree,param_dist,cv=5)\n",
    "rf_cv= RandomizedSearchCV(rf, param_dist,cv=5)\n",
    "\n",
    "tree_cv.fit(X,Y) "
   ]
  },
  {
   "cell_type": "code",
   "execution_count": 98,
   "id": "b8968c29",
   "metadata": {},
   "outputs": [
    {
     "data": {
      "text/html": [
       "<style>#sk-container-id-4 {color: black;}#sk-container-id-4 pre{padding: 0;}#sk-container-id-4 div.sk-toggleable {background-color: white;}#sk-container-id-4 label.sk-toggleable__label {cursor: pointer;display: block;width: 100%;margin-bottom: 0;padding: 0.3em;box-sizing: border-box;text-align: center;}#sk-container-id-4 label.sk-toggleable__label-arrow:before {content: \"▸\";float: left;margin-right: 0.25em;color: #696969;}#sk-container-id-4 label.sk-toggleable__label-arrow:hover:before {color: black;}#sk-container-id-4 div.sk-estimator:hover label.sk-toggleable__label-arrow:before {color: black;}#sk-container-id-4 div.sk-toggleable__content {max-height: 0;max-width: 0;overflow: hidden;text-align: left;background-color: #f0f8ff;}#sk-container-id-4 div.sk-toggleable__content pre {margin: 0.2em;color: black;border-radius: 0.25em;background-color: #f0f8ff;}#sk-container-id-4 input.sk-toggleable__control:checked~div.sk-toggleable__content {max-height: 200px;max-width: 100%;overflow: auto;}#sk-container-id-4 input.sk-toggleable__control:checked~label.sk-toggleable__label-arrow:before {content: \"▾\";}#sk-container-id-4 div.sk-estimator input.sk-toggleable__control:checked~label.sk-toggleable__label {background-color: #d4ebff;}#sk-container-id-4 div.sk-label input.sk-toggleable__control:checked~label.sk-toggleable__label {background-color: #d4ebff;}#sk-container-id-4 input.sk-hidden--visually {border: 0;clip: rect(1px 1px 1px 1px);clip: rect(1px, 1px, 1px, 1px);height: 1px;margin: -1px;overflow: hidden;padding: 0;position: absolute;width: 1px;}#sk-container-id-4 div.sk-estimator {font-family: monospace;background-color: #f0f8ff;border: 1px dotted black;border-radius: 0.25em;box-sizing: border-box;margin-bottom: 0.5em;}#sk-container-id-4 div.sk-estimator:hover {background-color: #d4ebff;}#sk-container-id-4 div.sk-parallel-item::after {content: \"\";width: 100%;border-bottom: 1px solid gray;flex-grow: 1;}#sk-container-id-4 div.sk-label:hover label.sk-toggleable__label {background-color: #d4ebff;}#sk-container-id-4 div.sk-serial::before {content: \"\";position: absolute;border-left: 1px solid gray;box-sizing: border-box;top: 0;bottom: 0;left: 50%;z-index: 0;}#sk-container-id-4 div.sk-serial {display: flex;flex-direction: column;align-items: center;background-color: white;padding-right: 0.2em;padding-left: 0.2em;position: relative;}#sk-container-id-4 div.sk-item {position: relative;z-index: 1;}#sk-container-id-4 div.sk-parallel {display: flex;align-items: stretch;justify-content: center;background-color: white;position: relative;}#sk-container-id-4 div.sk-item::before, #sk-container-id-4 div.sk-parallel-item::before {content: \"\";position: absolute;border-left: 1px solid gray;box-sizing: border-box;top: 0;bottom: 0;left: 50%;z-index: -1;}#sk-container-id-4 div.sk-parallel-item {display: flex;flex-direction: column;z-index: 1;position: relative;background-color: white;}#sk-container-id-4 div.sk-parallel-item:first-child::after {align-self: flex-end;width: 50%;}#sk-container-id-4 div.sk-parallel-item:last-child::after {align-self: flex-start;width: 50%;}#sk-container-id-4 div.sk-parallel-item:only-child::after {width: 0;}#sk-container-id-4 div.sk-dashed-wrapped {border: 1px dashed gray;margin: 0 0.4em 0.5em 0.4em;box-sizing: border-box;padding-bottom: 0.4em;background-color: white;}#sk-container-id-4 div.sk-label label {font-family: monospace;font-weight: bold;display: inline-block;line-height: 1.2em;}#sk-container-id-4 div.sk-label-container {text-align: center;}#sk-container-id-4 div.sk-container {/* jupyter's `normalize.less` sets `[hidden] { display: none; }` but bootstrap.min.css set `[hidden] { display: none !important; }` so we also need the `!important` here to be able to override the default hidden behavior on the sphinx rendered scikit-learn.org. See: https://github.com/scikit-learn/scikit-learn/issues/21755 */display: inline-block !important;position: relative;}#sk-container-id-4 div.sk-text-repr-fallback {display: none;}</style><div id=\"sk-container-id-4\" class=\"sk-top-container\"><div class=\"sk-text-repr-fallback\"><pre>RandomizedSearchCV(cv=5, estimator=RandomForestClassifier(),\n",
       "                   param_distributions={&#x27;criterion&#x27;: [&#x27;gini&#x27;, &#x27;entropy&#x27;],\n",
       "                                        &#x27;max_depth&#x27;: [3, None],\n",
       "                                        &#x27;min_samples_leaf&#x27;: range(1, 9)})</pre><b>In a Jupyter environment, please rerun this cell to show the HTML representation or trust the notebook. <br />On GitHub, the HTML representation is unable to render, please try loading this page with nbviewer.org.</b></div><div class=\"sk-container\" hidden><div class=\"sk-item sk-dashed-wrapped\"><div class=\"sk-label-container\"><div class=\"sk-label sk-toggleable\"><input class=\"sk-toggleable__control sk-hidden--visually\" id=\"sk-estimator-id-10\" type=\"checkbox\" ><label for=\"sk-estimator-id-10\" class=\"sk-toggleable__label sk-toggleable__label-arrow\">RandomizedSearchCV</label><div class=\"sk-toggleable__content\"><pre>RandomizedSearchCV(cv=5, estimator=RandomForestClassifier(),\n",
       "                   param_distributions={&#x27;criterion&#x27;: [&#x27;gini&#x27;, &#x27;entropy&#x27;],\n",
       "                                        &#x27;max_depth&#x27;: [3, None],\n",
       "                                        &#x27;min_samples_leaf&#x27;: range(1, 9)})</pre></div></div></div><div class=\"sk-parallel\"><div class=\"sk-parallel-item\"><div class=\"sk-item\"><div class=\"sk-label-container\"><div class=\"sk-label sk-toggleable\"><input class=\"sk-toggleable__control sk-hidden--visually\" id=\"sk-estimator-id-11\" type=\"checkbox\" ><label for=\"sk-estimator-id-11\" class=\"sk-toggleable__label sk-toggleable__label-arrow\">estimator: RandomForestClassifier</label><div class=\"sk-toggleable__content\"><pre>RandomForestClassifier()</pre></div></div></div><div class=\"sk-serial\"><div class=\"sk-item\"><div class=\"sk-estimator sk-toggleable\"><input class=\"sk-toggleable__control sk-hidden--visually\" id=\"sk-estimator-id-12\" type=\"checkbox\" ><label for=\"sk-estimator-id-12\" class=\"sk-toggleable__label sk-toggleable__label-arrow\">RandomForestClassifier</label><div class=\"sk-toggleable__content\"><pre>RandomForestClassifier()</pre></div></div></div></div></div></div></div></div></div></div>"
      ],
      "text/plain": [
       "RandomizedSearchCV(cv=5, estimator=RandomForestClassifier(),\n",
       "                   param_distributions={'criterion': ['gini', 'entropy'],\n",
       "                                        'max_depth': [3, None],\n",
       "                                        'min_samples_leaf': range(1, 9)})"
      ]
     },
     "execution_count": 98,
     "metadata": {},
     "output_type": "execute_result"
    }
   ],
   "source": [
    "rf_cv.fit(X,Y)"
   ]
  },
  {
   "cell_type": "code",
   "execution_count": 99,
   "id": "52521192",
   "metadata": {},
   "outputs": [
    {
     "data": {
      "text/plain": [
       "0.888822314748993"
      ]
     },
     "execution_count": 99,
     "metadata": {},
     "output_type": "execute_result"
    }
   ],
   "source": [
    "tree_cv.best_score_"
   ]
  },
  {
   "cell_type": "code",
   "execution_count": 109,
   "id": "92ddda55",
   "metadata": {},
   "outputs": [
    {
     "data": {
      "text/plain": [
       "{'min_samples_leaf': 7, 'max_depth': 3, 'criterion': 'gini'}"
      ]
     },
     "execution_count": 109,
     "metadata": {},
     "output_type": "execute_result"
    }
   ],
   "source": [
    "tree_cv.best_params_"
   ]
  },
  {
   "cell_type": "code",
   "execution_count": 100,
   "id": "6ee9d89f",
   "metadata": {},
   "outputs": [
    {
     "data": {
      "text/plain": [
       "0.8914428252259571"
      ]
     },
     "execution_count": 100,
     "metadata": {},
     "output_type": "execute_result"
    }
   ],
   "source": [
    "rf_cv.best_score_"
   ]
  },
  {
   "cell_type": "code",
   "execution_count": 110,
   "id": "ca986831",
   "metadata": {},
   "outputs": [
    {
     "data": {
      "text/plain": [
       "{'min_samples_leaf': 7, 'max_depth': None, 'criterion': 'gini'}"
      ]
     },
     "execution_count": 110,
     "metadata": {},
     "output_type": "execute_result"
    }
   ],
   "source": [
    "rf_cv.best_params_"
   ]
  },
  {
   "cell_type": "code",
   "execution_count": 101,
   "id": "62e28819",
   "metadata": {},
   "outputs": [],
   "source": [
    "prediction=rf_cv.predict(x)"
   ]
  },
  {
   "cell_type": "code",
   "execution_count": 102,
   "id": "322e3be7",
   "metadata": {},
   "outputs": [],
   "source": [
    "comparison_data= pd.DataFrame({'Actual': y,'Prediction':prediction})"
   ]
  },
  {
   "cell_type": "code",
   "execution_count": 103,
   "id": "5920125d",
   "metadata": {},
   "outputs": [
    {
     "data": {
      "text/html": [
       "<div>\n",
       "<style scoped>\n",
       "    .dataframe tbody tr th:only-of-type {\n",
       "        vertical-align: middle;\n",
       "    }\n",
       "\n",
       "    .dataframe tbody tr th {\n",
       "        vertical-align: top;\n",
       "    }\n",
       "\n",
       "    .dataframe thead th {\n",
       "        text-align: right;\n",
       "    }\n",
       "</style>\n",
       "<table border=\"1\" class=\"dataframe\">\n",
       "  <thead>\n",
       "    <tr style=\"text-align: right;\">\n",
       "      <th></th>\n",
       "      <th>Actual</th>\n",
       "      <th>Prediction</th>\n",
       "    </tr>\n",
       "  </thead>\n",
       "  <tbody>\n",
       "    <tr>\n",
       "      <th>0</th>\n",
       "      <td>Low_ltv</td>\n",
       "      <td>Low_ltv</td>\n",
       "    </tr>\n",
       "    <tr>\n",
       "      <th>1</th>\n",
       "      <td>Low_ltv</td>\n",
       "      <td>Low_ltv</td>\n",
       "    </tr>\n",
       "    <tr>\n",
       "      <th>2</th>\n",
       "      <td>Low_ltv</td>\n",
       "      <td>Low_ltv</td>\n",
       "    </tr>\n",
       "    <tr>\n",
       "      <th>3</th>\n",
       "      <td>Mid_ltv</td>\n",
       "      <td>Mid_ltv</td>\n",
       "    </tr>\n",
       "    <tr>\n",
       "      <th>4</th>\n",
       "      <td>Low_ltv</td>\n",
       "      <td>Low_ltv</td>\n",
       "    </tr>\n",
       "    <tr>\n",
       "      <th>...</th>\n",
       "      <td>...</td>\n",
       "      <td>...</td>\n",
       "    </tr>\n",
       "    <tr>\n",
       "      <th>853</th>\n",
       "      <td>Low_ltv</td>\n",
       "      <td>Low_ltv</td>\n",
       "    </tr>\n",
       "    <tr>\n",
       "      <th>854</th>\n",
       "      <td>Low_ltv</td>\n",
       "      <td>Low_ltv</td>\n",
       "    </tr>\n",
       "    <tr>\n",
       "      <th>855</th>\n",
       "      <td>Low_ltv</td>\n",
       "      <td>Low_ltv</td>\n",
       "    </tr>\n",
       "    <tr>\n",
       "      <th>856</th>\n",
       "      <td>Low_ltv</td>\n",
       "      <td>Low_ltv</td>\n",
       "    </tr>\n",
       "    <tr>\n",
       "      <th>857</th>\n",
       "      <td>Low_ltv</td>\n",
       "      <td>Low_ltv</td>\n",
       "    </tr>\n",
       "  </tbody>\n",
       "</table>\n",
       "<p>858 rows × 2 columns</p>\n",
       "</div>"
      ],
      "text/plain": [
       "      Actual Prediction\n",
       "0    Low_ltv    Low_ltv\n",
       "1    Low_ltv    Low_ltv\n",
       "2    Low_ltv    Low_ltv\n",
       "3    Mid_ltv    Mid_ltv\n",
       "4    Low_ltv    Low_ltv\n",
       "..       ...        ...\n",
       "853  Low_ltv    Low_ltv\n",
       "854  Low_ltv    Low_ltv\n",
       "855  Low_ltv    Low_ltv\n",
       "856  Low_ltv    Low_ltv\n",
       "857  Low_ltv    Low_ltv\n",
       "\n",
       "[858 rows x 2 columns]"
      ]
     },
     "execution_count": 103,
     "metadata": {},
     "output_type": "execute_result"
    }
   ],
   "source": [
    "comparison_data"
   ]
  },
  {
   "cell_type": "code",
   "execution_count": 127,
   "id": "c5e169f7",
   "metadata": {},
   "outputs": [
    {
     "data": {
      "text/html": [
       "<div>\n",
       "<style scoped>\n",
       "    .dataframe tbody tr th:only-of-type {\n",
       "        vertical-align: middle;\n",
       "    }\n",
       "\n",
       "    .dataframe tbody tr th {\n",
       "        vertical-align: top;\n",
       "    }\n",
       "\n",
       "    .dataframe thead th {\n",
       "        text-align: right;\n",
       "    }\n",
       "</style>\n",
       "<table border=\"1\" class=\"dataframe\">\n",
       "  <thead>\n",
       "    <tr style=\"text-align: right;\">\n",
       "      <th></th>\n",
       "      <th>Actual</th>\n",
       "      <th>Prediction</th>\n",
       "      <th>0</th>\n",
       "    </tr>\n",
       "  </thead>\n",
       "  <tbody>\n",
       "    <tr>\n",
       "      <th>0</th>\n",
       "      <td>High_ltv</td>\n",
       "      <td>High_ltv</td>\n",
       "      <td>4</td>\n",
       "    </tr>\n",
       "    <tr>\n",
       "      <th>1</th>\n",
       "      <td>High_ltv</td>\n",
       "      <td>Low_ltv</td>\n",
       "      <td>2</td>\n",
       "    </tr>\n",
       "    <tr>\n",
       "      <th>2</th>\n",
       "      <td>High_ltv</td>\n",
       "      <td>Mid_ltv</td>\n",
       "      <td>9</td>\n",
       "    </tr>\n",
       "    <tr>\n",
       "      <th>3</th>\n",
       "      <td>Low_ltv</td>\n",
       "      <td>Low_ltv</td>\n",
       "      <td>706</td>\n",
       "    </tr>\n",
       "    <tr>\n",
       "      <th>4</th>\n",
       "      <td>Low_ltv</td>\n",
       "      <td>Mid_ltv</td>\n",
       "      <td>22</td>\n",
       "    </tr>\n",
       "    <tr>\n",
       "      <th>5</th>\n",
       "      <td>Mid_ltv</td>\n",
       "      <td>High_ltv</td>\n",
       "      <td>2</td>\n",
       "    </tr>\n",
       "    <tr>\n",
       "      <th>6</th>\n",
       "      <td>Mid_ltv</td>\n",
       "      <td>Low_ltv</td>\n",
       "      <td>50</td>\n",
       "    </tr>\n",
       "    <tr>\n",
       "      <th>7</th>\n",
       "      <td>Mid_ltv</td>\n",
       "      <td>Mid_ltv</td>\n",
       "      <td>63</td>\n",
       "    </tr>\n",
       "  </tbody>\n",
       "</table>\n",
       "</div>"
      ],
      "text/plain": [
       "     Actual Prediction    0\n",
       "0  High_ltv   High_ltv    4\n",
       "1  High_ltv    Low_ltv    2\n",
       "2  High_ltv    Mid_ltv    9\n",
       "3   Low_ltv    Low_ltv  706\n",
       "4   Low_ltv    Mid_ltv   22\n",
       "5   Mid_ltv   High_ltv    2\n",
       "6   Mid_ltv    Low_ltv   50\n",
       "7   Mid_ltv    Mid_ltv   63"
      ]
     },
     "execution_count": 127,
     "metadata": {},
     "output_type": "execute_result"
    }
   ],
   "source": [
    "comparison_data.groupby(['Actual','Prediction']).size().reset_index()"
   ]
  },
  {
   "cell_type": "code",
   "execution_count": 129,
   "id": "7cfc7438",
   "metadata": {},
   "outputs": [
    {
     "data": {
      "text/plain": [
       "0.9009324009324009"
      ]
     },
     "execution_count": 129,
     "metadata": {},
     "output_type": "execute_result"
    }
   ],
   "source": [
    "(comparison_data['Actual'] == comparison_data['Prediction']).mean()"
   ]
  },
  {
   "cell_type": "code",
   "execution_count": 112,
   "id": "dd5fb8c9",
   "metadata": {},
   "outputs": [
    {
     "data": {
      "text/plain": [
       "{'min_samples_leaf': 7, 'max_depth': 3, 'criterion': 'gini'}"
      ]
     },
     "execution_count": 112,
     "metadata": {},
     "output_type": "execute_result"
    }
   ],
   "source": [
    "tree_cv.best_params_"
   ]
  },
  {
   "cell_type": "code",
   "execution_count": 121,
   "id": "09abc85e",
   "metadata": {},
   "outputs": [],
   "source": [
    "best_tree= DecisionTreeClassifier(\n",
    "           max_depth =  3,\n",
    "           min_samples_leaf = 7,\n",
    "           criterion = 'gini'\n",
    "\n",
    ")  \n",
    "\n",
    "best_tree.fit(X,Y)\n",
    "\n",
    "bcv= RepeatedStratifiedKFold(n_splits=3,n_repeats=3,random_state=1)\n",
    "bscores= cross_val_score(best_tree,X,Y,scoring='accuracy',cv=cv)"
   ]
  },
  {
   "cell_type": "code",
   "execution_count": 120,
   "id": "7ba16570",
   "metadata": {},
   "outputs": [
    {
     "data": {
      "text/plain": [
       "array([0.85689354, 0.85502183, 0.82969432, 0.85253054, 0.84803493,\n",
       "       0.84716157, 0.86474695, 0.85065502, 0.82969432])"
      ]
     },
     "execution_count": 120,
     "metadata": {},
     "output_type": "execute_result"
    }
   ],
   "source": [
    "bscores"
   ]
  },
  {
   "cell_type": "markdown",
   "id": "0d253f94",
   "metadata": {},
   "source": [
    "### Feature Importance"
   ]
  },
  {
   "cell_type": "code",
   "execution_count": 125,
   "id": "20c88ad8",
   "metadata": {},
   "outputs": [],
   "source": [
    "importance = best_tree.feature_importances_ "
   ]
  },
  {
   "cell_type": "code",
   "execution_count": 130,
   "id": "47f1d207",
   "metadata": {},
   "outputs": [
    {
     "data": {
      "text/plain": [
       "array([0.        , 0.76398556, 0.17153739, 0.06447705, 0.        ,\n",
       "       0.        , 0.        , 0.        , 0.        , 0.        ,\n",
       "       0.        , 0.        , 0.        , 0.        , 0.        ,\n",
       "       0.        , 0.        , 0.        , 0.        , 0.        ,\n",
       "       0.        , 0.        , 0.        , 0.        , 0.        ,\n",
       "       0.        , 0.        , 0.        , 0.        , 0.        ,\n",
       "       0.        , 0.        , 0.        , 0.        ])"
      ]
     },
     "execution_count": 130,
     "metadata": {},
     "output_type": "execute_result"
    }
   ],
   "source": [
    "importance"
   ]
  },
  {
   "cell_type": "code",
   "execution_count": 135,
   "id": "7a5d6959",
   "metadata": {},
   "outputs": [
    {
     "data": {
      "text/plain": [
       "{'recency': 0.0,\n",
       " 'frequency': 0.763985555951124,\n",
       " 'monetary': 0.17153739347630756,\n",
       " 'CLV_Overall_Score': 0.06447705057256829,\n",
       " 'recency_groups': 0.0,\n",
       " 'frequency_groups': 0.0,\n",
       " 'monetary_groups': 0.0,\n",
       " 'CLV_RFM_111': 0.0,\n",
       " 'CLV_RFM_112': 0.0,\n",
       " 'CLV_RFM_113': 0.0,\n",
       " 'CLV_RFM_121': 0.0,\n",
       " 'CLV_RFM_122': 0.0,\n",
       " 'CLV_RFM_123': 0.0,\n",
       " 'CLV_RFM_131': 0.0,\n",
       " 'CLV_RFM_132': 0.0,\n",
       " 'CLV_RFM_133': 0.0,\n",
       " 'CLV_RFM_211': 0.0,\n",
       " 'CLV_RFM_212': 0.0,\n",
       " 'CLV_RFM_213': 0.0,\n",
       " 'CLV_RFM_221': 0.0,\n",
       " 'CLV_RFM_222': 0.0,\n",
       " 'CLV_RFM_223': 0.0,\n",
       " 'CLV_RFM_231': 0.0,\n",
       " 'CLV_RFM_232': 0.0,\n",
       " 'CLV_RFM_233': 0.0,\n",
       " 'CLV_RFM_311': 0.0,\n",
       " 'CLV_RFM_312': 0.0,\n",
       " 'CLV_RFM_313': 0.0,\n",
       " 'CLV_RFM_321': 0.0,\n",
       " 'CLV_RFM_322': 0.0,\n",
       " 'CLV_RFM_323': 0.0,\n",
       " 'CLV_RFM_331': 0.0,\n",
       " 'CLV_RFM_332': 0.0,\n",
       " 'CLV_RFM_333': 0.0}"
      ]
     },
     "execution_count": 135,
     "metadata": {},
     "output_type": "execute_result"
    }
   ],
   "source": [
    "feature_dict = dict(zip(columns, list(importance)))\n",
    "feature_dict "
   ]
  },
  {
   "cell_type": "code",
   "execution_count": 136,
   "id": "cd7d742b",
   "metadata": {},
   "outputs": [
    {
     "data": {
      "image/png": "[encoded data removed]",
      "text/plain": [
       "<Figure size 640x480 with 1 Axes>"
      ]
     },
     "metadata": {},
     "output_type": "display_data"
    }
   ],
   "source": [
    "sns.set_style('whitegrid')\n",
    "feature_df = pd.DataFrame(feature_dict, index=[0])\n",
    "feature_df.T.plot.bar(title=\"Feature Importance\", legend=False);"
   ]
  },
  {
   "cell_type": "markdown",
   "id": "6155b6ab",
   "metadata": {},
   "source": [
    "* Frequency and monetary scores are impacting the cluster more than recency. "
   ]
  },
  {
   "cell_type": "markdown",
   "id": "ddaa7c72",
   "metadata": {},
   "source": [
    "### References \n",
    "\n",
    "https://www.geeksforgeeks.org/elbow-method-for-optimal-value-of-k-in-kmeans/\n",
    "https://www.kaggle.com/code/yugagrawal95/rfm-analysis \n",
    "https://www.kaggle.com/code/serkangzel/customer-segmentation-with-rfm-analysis "
   ]
  },
  {
   "cell_type": "code",
   "execution_count": null,
   "id": "1fd2ec1b",
   "metadata": {},
   "outputs": [],
   "source": []
  }
 ],
 "metadata": {
  "kernelspec": {
   "display_name": "Python 3 (ipykernel)",
   "language": "python",
   "name": "python3"
  },
  "language_info": {
   "codemirror_mode": {
    "name": "ipython",
    "version": 3
   },
   "file_extension": ".py",
   "mimetype": "text/x-python",
   "name": "python",
   "nbconvert_exporter": "python",
   "pygments_lexer": "ipython3",
   "version": "3.11.5"
  }
 },
 "nbformat": 4,
 "nbformat_minor": 5
}
