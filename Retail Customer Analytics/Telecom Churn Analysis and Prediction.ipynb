{
 "cells": [
  {
   "cell_type": "markdown",
   "id": "745230be",
   "metadata": {},
   "source": []
  },
  {
   "attachments": {},
   "cell_type": "markdown",
   "id": "29b93591",
   "metadata": {},
   "source": [
    "# Churn Analysis And Prediction  \n",
    "\n",
    "The project focuses on analysing data of a telecommunication provider and to predict if the customer churn to other service providers. \n",
    "\n",
    "* The training dataset contains 4250 samples. Each sample contains 19 features and 1 boolean variable \"churn\" which indicates the class of the sample. The 19 input features and 1 target variable are:\n",
    "<br>\n",
    "\n",
    "* \"state\", string. 2-letter code of the US state of customer residence\n",
    "* \"account_length\", numerical. Number of months the customer has been with the current telco provider\n",
    "* \"area_code\", string=\"area_code_AAA\" where AAA = 3 digit area code.\n",
    "* \"international_plan\", (yes/no). The customer has international plan.\n",
    "* \"voice_mail_plan\", (yes/no). The customer has voice mail plan.\n",
    "* \"number_vmail_messages\", numerical. Number of voice-mail messages.\n",
    "* \"total_day_minutes\", numerical. Total minutes of day calls.\n",
    "* \"total_day_calls\", numerical. Total minutes of day calls.\n",
    "* \"total_day_charge\", numerical. Total charge of day calls.\n",
    "* \"total_eve_minutes\", numerical. Total minutes of evening calls.\n",
    "* \"total_eve_calls\", numerical. Total number of evening calls.\n",
    "* \"total_eve_charge\", numerical. Total charge of evening calls.\n",
    "* \"total_night_minutes\", numerical. Total minutes of night calls.\n",
    "* \"total_night_calls\", numerical. Total number of night calls.\n",
    "* \"total_night_charge\", numerical. Total charge of night calls.\n",
    "* \"total_intl_minutes\", numerical. Total minutes of international calls.\n",
    "* \"total_intl_calls\", numerical. Total number of international calls.\n",
    "* \"total_intl_charge\", numerical. Total charge of international calls\n",
    "* \"number_customer_service_calls\", numerical. Number of calls to customer service\n",
    "* \"churn\", (yes/no). Customer churn - target variable. \n"
   ]
  },
  {
   "cell_type": "markdown",
   "id": "6fc43850",
   "metadata": {},
   "source": [
    "### Data Preprocessing and Visualization"
   ]
  },
  {
   "cell_type": "code",
   "execution_count": 3,
   "id": "5ab9b8f6",
   "metadata": {},
   "outputs": [],
   "source": [
    "import pandas as pd\n",
    "import numpy as np\n",
    "import matplotlib.pyplot as plt\n",
    "import seaborn as sns  "
   ]
  },
  {
   "cell_type": "code",
   "execution_count": 4,
   "id": "94acb2bd",
   "metadata": {},
   "outputs": [],
   "source": [
    "df= pd.read_csv('train.csv')\n",
    "test= pd.read_csv('test.csv')"
   ]
  },
  {
   "cell_type": "code",
   "execution_count": 166,
   "id": "beafbdaf",
   "metadata": {},
   "outputs": [
    {
     "data": {
      "text/html": [
       "<div>\n",
       "<style scoped>\n",
       "    .dataframe tbody tr th:only-of-type {\n",
       "        vertical-align: middle;\n",
       "    }\n",
       "\n",
       "    .dataframe tbody tr th {\n",
       "        vertical-align: top;\n",
       "    }\n",
       "\n",
       "    .dataframe thead th {\n",
       "        text-align: right;\n",
       "    }\n",
       "</style>\n",
       "<table border=\"1\" class=\"dataframe\">\n",
       "  <thead>\n",
       "    <tr style=\"text-align: right;\">\n",
       "      <th></th>\n",
       "      <th>state</th>\n",
       "      <th>account_length</th>\n",
       "      <th>area_code</th>\n",
       "      <th>international_plan</th>\n",
       "      <th>voice_mail_plan</th>\n",
       "      <th>number_vmail_messages</th>\n",
       "      <th>total_day_minutes</th>\n",
       "      <th>total_day_calls</th>\n",
       "      <th>total_day_charge</th>\n",
       "      <th>total_eve_minutes</th>\n",
       "      <th>total_eve_calls</th>\n",
       "      <th>total_eve_charge</th>\n",
       "      <th>total_night_minutes</th>\n",
       "      <th>total_night_calls</th>\n",
       "      <th>total_night_charge</th>\n",
       "      <th>total_intl_minutes</th>\n",
       "      <th>total_intl_calls</th>\n",
       "      <th>total_intl_charge</th>\n",
       "      <th>number_customer_service_calls</th>\n",
       "      <th>churn</th>\n",
       "    </tr>\n",
       "  </thead>\n",
       "  <tbody>\n",
       "    <tr>\n",
       "      <th>0</th>\n",
       "      <td>OH</td>\n",
       "      <td>107</td>\n",
       "      <td>area_code_415</td>\n",
       "      <td>no</td>\n",
       "      <td>yes</td>\n",
       "      <td>26</td>\n",
       "      <td>161.6</td>\n",
       "      <td>123</td>\n",
       "      <td>27.47</td>\n",
       "      <td>195.5</td>\n",
       "      <td>103</td>\n",
       "      <td>16.62</td>\n",
       "      <td>254.4</td>\n",
       "      <td>103</td>\n",
       "      <td>11.45</td>\n",
       "      <td>13.7</td>\n",
       "      <td>3</td>\n",
       "      <td>3.70</td>\n",
       "      <td>1</td>\n",
       "      <td>no</td>\n",
       "    </tr>\n",
       "    <tr>\n",
       "      <th>1</th>\n",
       "      <td>NJ</td>\n",
       "      <td>137</td>\n",
       "      <td>area_code_415</td>\n",
       "      <td>no</td>\n",
       "      <td>no</td>\n",
       "      <td>0</td>\n",
       "      <td>243.4</td>\n",
       "      <td>114</td>\n",
       "      <td>41.38</td>\n",
       "      <td>121.2</td>\n",
       "      <td>110</td>\n",
       "      <td>10.30</td>\n",
       "      <td>162.6</td>\n",
       "      <td>104</td>\n",
       "      <td>7.32</td>\n",
       "      <td>12.2</td>\n",
       "      <td>5</td>\n",
       "      <td>3.29</td>\n",
       "      <td>0</td>\n",
       "      <td>no</td>\n",
       "    </tr>\n",
       "    <tr>\n",
       "      <th>2</th>\n",
       "      <td>OH</td>\n",
       "      <td>84</td>\n",
       "      <td>area_code_408</td>\n",
       "      <td>yes</td>\n",
       "      <td>no</td>\n",
       "      <td>0</td>\n",
       "      <td>299.4</td>\n",
       "      <td>71</td>\n",
       "      <td>50.90</td>\n",
       "      <td>61.9</td>\n",
       "      <td>88</td>\n",
       "      <td>5.26</td>\n",
       "      <td>196.9</td>\n",
       "      <td>89</td>\n",
       "      <td>8.86</td>\n",
       "      <td>6.6</td>\n",
       "      <td>7</td>\n",
       "      <td>1.78</td>\n",
       "      <td>2</td>\n",
       "      <td>no</td>\n",
       "    </tr>\n",
       "    <tr>\n",
       "      <th>3</th>\n",
       "      <td>OK</td>\n",
       "      <td>75</td>\n",
       "      <td>area_code_415</td>\n",
       "      <td>yes</td>\n",
       "      <td>no</td>\n",
       "      <td>0</td>\n",
       "      <td>166.7</td>\n",
       "      <td>113</td>\n",
       "      <td>28.34</td>\n",
       "      <td>148.3</td>\n",
       "      <td>122</td>\n",
       "      <td>12.61</td>\n",
       "      <td>186.9</td>\n",
       "      <td>121</td>\n",
       "      <td>8.41</td>\n",
       "      <td>10.1</td>\n",
       "      <td>3</td>\n",
       "      <td>2.73</td>\n",
       "      <td>3</td>\n",
       "      <td>no</td>\n",
       "    </tr>\n",
       "    <tr>\n",
       "      <th>4</th>\n",
       "      <td>MA</td>\n",
       "      <td>121</td>\n",
       "      <td>area_code_510</td>\n",
       "      <td>no</td>\n",
       "      <td>yes</td>\n",
       "      <td>24</td>\n",
       "      <td>218.2</td>\n",
       "      <td>88</td>\n",
       "      <td>37.09</td>\n",
       "      <td>348.5</td>\n",
       "      <td>108</td>\n",
       "      <td>29.62</td>\n",
       "      <td>212.6</td>\n",
       "      <td>118</td>\n",
       "      <td>9.57</td>\n",
       "      <td>7.5</td>\n",
       "      <td>7</td>\n",
       "      <td>2.03</td>\n",
       "      <td>3</td>\n",
       "      <td>no</td>\n",
       "    </tr>\n",
       "  </tbody>\n",
       "</table>\n",
       "</div>"
      ],
      "text/plain": [
       "  state  account_length      area_code international_plan voice_mail_plan  \\\n",
       "0    OH             107  area_code_415                 no             yes   \n",
       "1    NJ             137  area_code_415                 no              no   \n",
       "2    OH              84  area_code_408                yes              no   \n",
       "3    OK              75  area_code_415                yes              no   \n",
       "4    MA             121  area_code_510                 no             yes   \n",
       "\n",
       "   number_vmail_messages  total_day_minutes  total_day_calls  \\\n",
       "0                     26              161.6              123   \n",
       "1                      0              243.4              114   \n",
       "2                      0              299.4               71   \n",
       "3                      0              166.7              113   \n",
       "4                     24              218.2               88   \n",
       "\n",
       "   total_day_charge  total_eve_minutes  total_eve_calls  total_eve_charge  \\\n",
       "0             27.47              195.5              103             16.62   \n",
       "1             41.38              121.2              110             10.30   \n",
       "2             50.90               61.9               88              5.26   \n",
       "3             28.34              148.3              122             12.61   \n",
       "4             37.09              348.5              108             29.62   \n",
       "\n",
       "   total_night_minutes  total_night_calls  total_night_charge  \\\n",
       "0                254.4                103               11.45   \n",
       "1                162.6                104                7.32   \n",
       "2                196.9                 89                8.86   \n",
       "3                186.9                121                8.41   \n",
       "4                212.6                118                9.57   \n",
       "\n",
       "   total_intl_minutes  total_intl_calls  total_intl_charge  \\\n",
       "0                13.7                 3               3.70   \n",
       "1                12.2                 5               3.29   \n",
       "2                 6.6                 7               1.78   \n",
       "3                10.1                 3               2.73   \n",
       "4                 7.5                 7               2.03   \n",
       "\n",
       "   number_customer_service_calls churn  \n",
       "0                              1    no  \n",
       "1                              0    no  \n",
       "2                              2    no  \n",
       "3                              3    no  \n",
       "4                              3    no  "
      ]
     },
     "execution_count": 166,
     "metadata": {},
     "output_type": "execute_result"
    }
   ],
   "source": [
    "df.head()"
   ]
  },
  {
   "cell_type": "code",
   "execution_count": 130,
   "id": "95f03699",
   "metadata": {},
   "outputs": [
    {
     "name": "stdout",
     "output_type": "stream",
     "text": [
      "(4250, 20)\n",
      "------------------------------------------------------------\n",
      "<class 'pandas.core.frame.DataFrame'>\n",
      "RangeIndex: 4250 entries, 0 to 4249\n",
      "Data columns (total 20 columns):\n",
      " #   Column                         Non-Null Count  Dtype  \n",
      "---  ------                         --------------  -----  \n",
      " 0   state                          4250 non-null   object \n",
      " 1   account_length                 4250 non-null   int64  \n",
      " 2   area_code                      4250 non-null   object \n",
      " 3   international_plan             4250 non-null   object \n",
      " 4   voice_mail_plan                4250 non-null   object \n",
      " 5   number_vmail_messages          4250 non-null   int64  \n",
      " 6   total_day_minutes              4250 non-null   float64\n",
      " 7   total_day_calls                4250 non-null   int64  \n",
      " 8   total_day_charge               4250 non-null   float64\n",
      " 9   total_eve_minutes              4250 non-null   float64\n",
      " 10  total_eve_calls                4250 non-null   int64  \n",
      " 11  total_eve_charge               4250 non-null   float64\n",
      " 12  total_night_minutes            4250 non-null   float64\n",
      " 13  total_night_calls              4250 non-null   int64  \n",
      " 14  total_night_charge             4250 non-null   float64\n",
      " 15  total_intl_minutes             4250 non-null   float64\n",
      " 16  total_intl_calls               4250 non-null   int64  \n",
      " 17  total_intl_charge              4250 non-null   float64\n",
      " 18  number_customer_service_calls  4250 non-null   int64  \n",
      " 19  churn                          4250 non-null   object \n",
      "dtypes: float64(8), int64(7), object(5)\n",
      "memory usage: 664.2+ KB\n",
      "None\n",
      "------------------------------------------------------------\n",
      "state                                       OH\n",
      "account_length                             107\n",
      "area_code                        area_code_415\n",
      "international_plan                          no\n",
      "voice_mail_plan                            yes\n",
      "number_vmail_messages                       26\n",
      "total_day_minutes                        161.6\n",
      "total_day_calls                            123\n",
      "total_day_charge                         27.47\n",
      "total_eve_minutes                        195.5\n",
      "total_eve_calls                            103\n",
      "total_eve_charge                         16.62\n",
      "total_night_minutes                      254.4\n",
      "total_night_calls                          103\n",
      "total_night_charge                       11.45\n",
      "total_intl_minutes                        13.7\n",
      "total_intl_calls                             3\n",
      "total_intl_charge                          3.7\n",
      "number_customer_service_calls                1\n",
      "churn                                       no\n",
      "Name: 0, dtype: object\n",
      "------------------------------------------------------------\n"
     ]
    }
   ],
   "source": [
    "def visualization():\n",
    "    print(df.shape)\n",
    "    print('------------------------------------------------------------')\n",
    "    print(df.info())         \n",
    "    print('------------------------------------------------------------')\n",
    "    print(df.iloc[0])\n",
    "    print('------------------------------------------------------------')\n",
    "\n",
    "visualization()"
   ]
  },
  {
   "cell_type": "code",
   "execution_count": 5,
   "id": "59a603ea",
   "metadata": {},
   "outputs": [
    {
     "data": {
      "text/plain": [
       "0"
      ]
     },
     "execution_count": 5,
     "metadata": {},
     "output_type": "execute_result"
    }
   ],
   "source": [
    "df.duplicated().sum()"
   ]
  },
  {
   "cell_type": "code",
   "execution_count": 132,
   "id": "e13d48a6",
   "metadata": {},
   "outputs": [
    {
     "data": {
      "text/plain": [
       "id                               0\n",
       "state                            0\n",
       "account_length                   0\n",
       "area_code                        0\n",
       "international_plan               0\n",
       "voice_mail_plan                  0\n",
       "number_vmail_messages            0\n",
       "total_day_minutes                0\n",
       "total_day_calls                  0\n",
       "total_day_charge                 0\n",
       "total_eve_minutes                0\n",
       "total_eve_calls                  0\n",
       "total_eve_charge                 0\n",
       "total_night_minutes              0\n",
       "total_night_calls                0\n",
       "total_night_charge               0\n",
       "total_intl_minutes               0\n",
       "total_intl_calls                 0\n",
       "total_intl_charge                0\n",
       "number_customer_service_calls    0\n",
       "dtype: int64"
      ]
     },
     "execution_count": 132,
     "metadata": {},
     "output_type": "execute_result"
    }
   ],
   "source": [
    "# df.TotalCharges.value_counts() \n",
    "test.isnull().sum()"
   ]
  },
  {
   "cell_type": "markdown",
   "id": "c1a79c3f",
   "metadata": {},
   "source": [
    "##### change datatype"
   ]
  },
  {
   "cell_type": "code",
   "execution_count": 6,
   "id": "063af8b0",
   "metadata": {},
   "outputs": [],
   "source": [
    "df.area_code= df.area_code.astype('category')\n",
    "test.area_code= test.area_code.astype('category')\n",
    "df['state']=df['state'].astype('category')\n",
    "test['state']=test['state'].astype('category')"
   ]
  },
  {
   "cell_type": "markdown",
   "id": "08e82f08",
   "metadata": {},
   "source": [
    "##### change YES NO to binary values"
   ]
  },
  {
   "cell_type": "code",
   "execution_count": 7,
   "id": "d6e6afc0",
   "metadata": {},
   "outputs": [],
   "source": [
    "yes_binary= {'yes':'1','no': '0'} \n",
    "df['international_plan']=df['international_plan'].map(yes_binary).astype('int64')\n",
    "test['international_plan']=test['international_plan'].map(yes_binary).astype('int64')\n",
    "df['voice_mail_plan']=df['voice_mail_plan'].map(yes_binary).astype('int64')\n",
    "test['voice_mail_plan']=test['voice_mail_plan'].map(yes_binary).astype('int64')"
   ]
  },
  {
   "cell_type": "code",
   "execution_count": 48,
   "id": "8f49aaff",
   "metadata": {},
   "outputs": [
    {
     "data": {
      "text/plain": [
       "state                            0\n",
       "account_length                   0\n",
       "area_code                        0\n",
       "international_plan               0\n",
       "voice_mail_plan                  0\n",
       "number_vmail_messages            0\n",
       "total_day_minutes                0\n",
       "total_day_calls                  0\n",
       "total_day_charge                 0\n",
       "total_eve_minutes                0\n",
       "total_eve_calls                  0\n",
       "total_eve_charge                 0\n",
       "total_night_minutes              0\n",
       "total_night_calls                0\n",
       "total_night_charge               0\n",
       "total_intl_minutes               0\n",
       "total_intl_calls                 0\n",
       "total_intl_charge                0\n",
       "number_customer_service_calls    0\n",
       "churn                            0\n",
       "dtype: int64"
      ]
     },
     "execution_count": 48,
     "metadata": {},
     "output_type": "execute_result"
    }
   ],
   "source": [
    "df.isnull().sum()"
   ]
  },
  {
   "cell_type": "code",
   "execution_count": 8,
   "id": "85a5490b",
   "metadata": {},
   "outputs": [
    {
     "name": "stdout",
     "output_type": "stream",
     "text": [
      "17 , 3\n"
     ]
    }
   ],
   "source": [
    "num_cols = df._get_numeric_data().columns\n",
    "cate_cols = list(set(df.columns)-set(num_cols))\n",
    "print(len(num_cols),\",\", len(cate_cols))"
   ]
  },
  {
   "cell_type": "code",
   "execution_count": 11,
   "id": "9a2c5493",
   "metadata": {},
   "outputs": [
    {
     "data": {
      "text/plain": [
       "Index(['account_length', 'international_plan', 'voice_mail_plan',\n",
       "       'number_vmail_messages', 'total_day_minutes', 'total_day_calls',\n",
       "       'total_day_charge', 'total_eve_minutes', 'total_eve_calls',\n",
       "       'total_eve_charge', 'total_night_minutes', 'total_night_calls',\n",
       "       'total_night_charge', 'total_intl_minutes', 'total_intl_calls',\n",
       "       'total_intl_charge', 'number_customer_service_calls'],\n",
       "      dtype='object')"
      ]
     },
     "execution_count": 11,
     "metadata": {},
     "output_type": "execute_result"
    }
   ],
   "source": [
    "num_cols"
   ]
  },
  {
   "cell_type": "code",
   "execution_count": 9,
   "id": "df4cd19a",
   "metadata": {},
   "outputs": [],
   "source": [
    "df['churn']=df['churn'].map(yes_binary).astype('int64') "
   ]
  },
  {
   "cell_type": "code",
   "execution_count": 23,
   "id": "7556e003",
   "metadata": {},
   "outputs": [
    {
     "name": "stderr",
     "output_type": "stream",
     "text": [
      "C:\\ProgramData\\anaconda3\\Lib\\site-packages\\seaborn\\axisgrid.py:118: UserWarning: The figure layout has changed to tight\n",
      "  self._figure.tight_layout(*args, **kwargs)\n"
     ]
    },
    {
     "data": {
      "image/png": "[encoded data removed]",
      "text/plain": [
       "<Figure size 611.111x300 with 2 Axes>"
      ]
     },
     "metadata": {},
     "output_type": "display_data"
    }
   ],
   "source": [
    "p= sns.FacetGrid(df,col='churn')\n",
    "p.map(plt.hist,'number_customer_service_calls',alpha=0.6)      \n",
    "p.add_legend()                                \n",
    "plt.show()"
   ]
  },
  {
   "cell_type": "markdown",
   "id": "405f569e",
   "metadata": {},
   "source": [
    "#### Boxplot"
   ]
  },
  {
   "cell_type": "code",
   "execution_count": 22,
   "id": "a4e3d73a",
   "metadata": {},
   "outputs": [
    {
     "data": {
      "image/png": "[encoded data removed]",
      "text/plain": [
       "<Figure size 2400x1800 with 15 Axes>"
      ]
     },
     "metadata": {},
     "output_type": "display_data"
    }
   ],
   "source": [
    "fig, axes = plt.subplots(5,3 , figsize=(24,18))           \n",
    "axes = axes.flatten()\n",
    "features = num_cols                              \n",
    "for i in range(len(features)):\n",
    "    sns.boxplot(x='churn',y= features[i],data= df,ax=axes[i])\n",
    "plt.show()"
   ]
  },
  {
   "cell_type": "code",
   "execution_count": 138,
   "id": "ab196db0",
   "metadata": {},
   "outputs": [
    {
     "data": {
      "image/png": "[encoded data removed]",
      "text/plain": [
       "<Figure size 1000x600 with 2 Axes>"
      ]
     },
     "metadata": {},
     "output_type": "display_data"
    }
   ],
   "source": [
    "plt.figure(figsize=(10,6))\n",
    "plt.title('Correlation Matrix', fontsize=10)\n",
    "sns.heatmap(df[num_cols].corr(), cmap='Blues')\n",
    "plt.show()"
   ]
  },
  {
   "cell_type": "markdown",
   "id": "eedcd102",
   "metadata": {},
   "source": [
    "* There is no significant correlation between any feautures"
   ]
  },
  {
   "cell_type": "code",
   "execution_count": 31,
   "id": "9baaf82e",
   "metadata": {},
   "outputs": [
    {
     "name": "stderr",
     "output_type": "stream",
     "text": [
      "C:\\ProgramData\\anaconda3\\Lib\\site-packages\\seaborn\\axisgrid.py:118: UserWarning: The figure layout has changed to tight\n",
      "  self._figure.tight_layout(*args, **kwargs)\n"
     ]
    },
    {
     "data": {
      "image/png": "[encoded data removed]",
      "text/plain": [
       "<Figure size 611.111x300 with 2 Axes>"
      ]
     },
     "metadata": {},
     "output_type": "display_data"
    }
   ],
   "source": [
    "p= sns.FacetGrid(df,col='churn')\n",
    "p.map(plt.hist,'total_day_charge',alpha=0.6)      \n",
    "p.add_legend()                                \n",
    "plt.show()"
   ]
  },
  {
   "cell_type": "markdown",
   "id": "9051e587",
   "metadata": {},
   "source": [
    "#### State Wise Churn Rate"
   ]
  },
  {
   "cell_type": "code",
   "execution_count": 139,
   "id": "b7b198be",
   "metadata": {},
   "outputs": [],
   "source": [
    "churn_rate = df.groupby('state').agg(total=('churn', 'size'), churned=('churn', 'sum')).reset_index()"
   ]
  },
  {
   "cell_type": "code",
   "execution_count": 140,
   "id": "69293ccc",
   "metadata": {},
   "outputs": [
    {
     "data": {
      "text/html": [
       "<div>\n",
       "<style scoped>\n",
       "    .dataframe tbody tr th:only-of-type {\n",
       "        vertical-align: middle;\n",
       "    }\n",
       "\n",
       "    .dataframe tbody tr th {\n",
       "        vertical-align: top;\n",
       "    }\n",
       "\n",
       "    .dataframe thead th {\n",
       "        text-align: right;\n",
       "    }\n",
       "</style>\n",
       "<table border=\"1\" class=\"dataframe\">\n",
       "  <thead>\n",
       "    <tr style=\"text-align: right;\">\n",
       "      <th></th>\n",
       "      <th>state</th>\n",
       "      <th>total</th>\n",
       "      <th>churned</th>\n",
       "      <th>rate</th>\n",
       "    </tr>\n",
       "  </thead>\n",
       "  <tbody>\n",
       "    <tr>\n",
       "      <th>31</th>\n",
       "      <td>NJ</td>\n",
       "      <td>96</td>\n",
       "      <td>26</td>\n",
       "      <td>0.270833</td>\n",
       "    </tr>\n",
       "    <tr>\n",
       "      <th>4</th>\n",
       "      <td>CA</td>\n",
       "      <td>39</td>\n",
       "      <td>10</td>\n",
       "      <td>0.256410</td>\n",
       "    </tr>\n",
       "    <tr>\n",
       "      <th>47</th>\n",
       "      <td>WA</td>\n",
       "      <td>80</td>\n",
       "      <td>18</td>\n",
       "      <td>0.225000</td>\n",
       "    </tr>\n",
       "    <tr>\n",
       "      <th>20</th>\n",
       "      <td>MD</td>\n",
       "      <td>86</td>\n",
       "      <td>19</td>\n",
       "      <td>0.220930</td>\n",
       "    </tr>\n",
       "    <tr>\n",
       "      <th>26</th>\n",
       "      <td>MT</td>\n",
       "      <td>80</td>\n",
       "      <td>17</td>\n",
       "      <td>0.212500</td>\n",
       "    </tr>\n",
       "    <tr>\n",
       "      <th>36</th>\n",
       "      <td>OK</td>\n",
       "      <td>78</td>\n",
       "      <td>16</td>\n",
       "      <td>0.205128</td>\n",
       "    </tr>\n",
       "    <tr>\n",
       "      <th>33</th>\n",
       "      <td>NV</td>\n",
       "      <td>83</td>\n",
       "      <td>17</td>\n",
       "      <td>0.204819</td>\n",
       "    </tr>\n",
       "    <tr>\n",
       "      <th>40</th>\n",
       "      <td>SC</td>\n",
       "      <td>72</td>\n",
       "      <td>14</td>\n",
       "      <td>0.194444</td>\n",
       "    </tr>\n",
       "    <tr>\n",
       "      <th>43</th>\n",
       "      <td>TX</td>\n",
       "      <td>98</td>\n",
       "      <td>19</td>\n",
       "      <td>0.193878</td>\n",
       "    </tr>\n",
       "    <tr>\n",
       "      <th>25</th>\n",
       "      <td>MS</td>\n",
       "      <td>82</td>\n",
       "      <td>15</td>\n",
       "      <td>0.182927</td>\n",
       "    </tr>\n",
       "    <tr>\n",
       "      <th>21</th>\n",
       "      <td>ME</td>\n",
       "      <td>89</td>\n",
       "      <td>16</td>\n",
       "      <td>0.179775</td>\n",
       "    </tr>\n",
       "    <tr>\n",
       "      <th>23</th>\n",
       "      <td>MN</td>\n",
       "      <td>108</td>\n",
       "      <td>19</td>\n",
       "      <td>0.175926</td>\n",
       "    </tr>\n",
       "    <tr>\n",
       "      <th>22</th>\n",
       "      <td>MI</td>\n",
       "      <td>87</td>\n",
       "      <td>15</td>\n",
       "      <td>0.172414</td>\n",
       "    </tr>\n",
       "    <tr>\n",
       "      <th>16</th>\n",
       "      <td>KS</td>\n",
       "      <td>87</td>\n",
       "      <td>15</td>\n",
       "      <td>0.172414</td>\n",
       "    </tr>\n",
       "    <tr>\n",
       "      <th>6</th>\n",
       "      <td>CT</td>\n",
       "      <td>88</td>\n",
       "      <td>15</td>\n",
       "      <td>0.170455</td>\n",
       "    </tr>\n",
       "    <tr>\n",
       "      <th>34</th>\n",
       "      <td>NY</td>\n",
       "      <td>96</td>\n",
       "      <td>16</td>\n",
       "      <td>0.166667</td>\n",
       "    </tr>\n",
       "    <tr>\n",
       "      <th>8</th>\n",
       "      <td>DE</td>\n",
       "      <td>80</td>\n",
       "      <td>13</td>\n",
       "      <td>0.162500</td>\n",
       "    </tr>\n",
       "    <tr>\n",
       "      <th>19</th>\n",
       "      <td>MA</td>\n",
       "      <td>89</td>\n",
       "      <td>14</td>\n",
       "      <td>0.157303</td>\n",
       "    </tr>\n",
       "    <tr>\n",
       "      <th>15</th>\n",
       "      <td>IN</td>\n",
       "      <td>83</td>\n",
       "      <td>13</td>\n",
       "      <td>0.156627</td>\n",
       "    </tr>\n",
       "    <tr>\n",
       "      <th>2</th>\n",
       "      <td>AR</td>\n",
       "      <td>71</td>\n",
       "      <td>11</td>\n",
       "      <td>0.154930</td>\n",
       "    </tr>\n",
       "    <tr>\n",
       "      <th>42</th>\n",
       "      <td>TN</td>\n",
       "      <td>79</td>\n",
       "      <td>12</td>\n",
       "      <td>0.151899</td>\n",
       "    </tr>\n",
       "    <tr>\n",
       "      <th>37</th>\n",
       "      <td>OR</td>\n",
       "      <td>99</td>\n",
       "      <td>15</td>\n",
       "      <td>0.151515</td>\n",
       "    </tr>\n",
       "    <tr>\n",
       "      <th>41</th>\n",
       "      <td>SD</td>\n",
       "      <td>75</td>\n",
       "      <td>11</td>\n",
       "      <td>0.146667</td>\n",
       "    </tr>\n",
       "    <tr>\n",
       "      <th>17</th>\n",
       "      <td>KY</td>\n",
       "      <td>85</td>\n",
       "      <td>12</td>\n",
       "      <td>0.141176</td>\n",
       "    </tr>\n",
       "    <tr>\n",
       "      <th>49</th>\n",
       "      <td>WV</td>\n",
       "      <td>139</td>\n",
       "      <td>19</td>\n",
       "      <td>0.136691</td>\n",
       "    </tr>\n",
       "    <tr>\n",
       "      <th>1</th>\n",
       "      <td>AL</td>\n",
       "      <td>101</td>\n",
       "      <td>13</td>\n",
       "      <td>0.128713</td>\n",
       "    </tr>\n",
       "    <tr>\n",
       "      <th>30</th>\n",
       "      <td>NH</td>\n",
       "      <td>78</td>\n",
       "      <td>10</td>\n",
       "      <td>0.128205</td>\n",
       "    </tr>\n",
       "    <tr>\n",
       "      <th>32</th>\n",
       "      <td>NM</td>\n",
       "      <td>78</td>\n",
       "      <td>10</td>\n",
       "      <td>0.128205</td>\n",
       "    </tr>\n",
       "    <tr>\n",
       "      <th>35</th>\n",
       "      <td>OH</td>\n",
       "      <td>95</td>\n",
       "      <td>12</td>\n",
       "      <td>0.126316</td>\n",
       "    </tr>\n",
       "    <tr>\n",
       "      <th>24</th>\n",
       "      <td>MO</td>\n",
       "      <td>80</td>\n",
       "      <td>10</td>\n",
       "      <td>0.125000</td>\n",
       "    </tr>\n",
       "    <tr>\n",
       "      <th>44</th>\n",
       "      <td>UT</td>\n",
       "      <td>97</td>\n",
       "      <td>12</td>\n",
       "      <td>0.123711</td>\n",
       "    </tr>\n",
       "    <tr>\n",
       "      <th>38</th>\n",
       "      <td>PA</td>\n",
       "      <td>67</td>\n",
       "      <td>8</td>\n",
       "      <td>0.119403</td>\n",
       "    </tr>\n",
       "    <tr>\n",
       "      <th>9</th>\n",
       "      <td>FL</td>\n",
       "      <td>76</td>\n",
       "      <td>9</td>\n",
       "      <td>0.118421</td>\n",
       "    </tr>\n",
       "    <tr>\n",
       "      <th>46</th>\n",
       "      <td>VT</td>\n",
       "      <td>86</td>\n",
       "      <td>10</td>\n",
       "      <td>0.116279</td>\n",
       "    </tr>\n",
       "    <tr>\n",
       "      <th>13</th>\n",
       "      <td>ID</td>\n",
       "      <td>106</td>\n",
       "      <td>12</td>\n",
       "      <td>0.113208</td>\n",
       "    </tr>\n",
       "    <tr>\n",
       "      <th>12</th>\n",
       "      <td>IA</td>\n",
       "      <td>62</td>\n",
       "      <td>7</td>\n",
       "      <td>0.112903</td>\n",
       "    </tr>\n",
       "    <tr>\n",
       "      <th>5</th>\n",
       "      <td>CO</td>\n",
       "      <td>80</td>\n",
       "      <td>9</td>\n",
       "      <td>0.112500</td>\n",
       "    </tr>\n",
       "    <tr>\n",
       "      <th>7</th>\n",
       "      <td>DC</td>\n",
       "      <td>72</td>\n",
       "      <td>8</td>\n",
       "      <td>0.111111</td>\n",
       "    </tr>\n",
       "    <tr>\n",
       "      <th>10</th>\n",
       "      <td>GA</td>\n",
       "      <td>64</td>\n",
       "      <td>7</td>\n",
       "      <td>0.109375</td>\n",
       "    </tr>\n",
       "    <tr>\n",
       "      <th>50</th>\n",
       "      <td>WY</td>\n",
       "      <td>95</td>\n",
       "      <td>10</td>\n",
       "      <td>0.105263</td>\n",
       "    </tr>\n",
       "    <tr>\n",
       "      <th>18</th>\n",
       "      <td>LA</td>\n",
       "      <td>69</td>\n",
       "      <td>7</td>\n",
       "      <td>0.101449</td>\n",
       "    </tr>\n",
       "    <tr>\n",
       "      <th>3</th>\n",
       "      <td>AZ</td>\n",
       "      <td>77</td>\n",
       "      <td>7</td>\n",
       "      <td>0.090909</td>\n",
       "    </tr>\n",
       "    <tr>\n",
       "      <th>28</th>\n",
       "      <td>ND</td>\n",
       "      <td>67</td>\n",
       "      <td>6</td>\n",
       "      <td>0.089552</td>\n",
       "    </tr>\n",
       "    <tr>\n",
       "      <th>27</th>\n",
       "      <td>NC</td>\n",
       "      <td>80</td>\n",
       "      <td>7</td>\n",
       "      <td>0.087500</td>\n",
       "    </tr>\n",
       "    <tr>\n",
       "      <th>14</th>\n",
       "      <td>IL</td>\n",
       "      <td>79</td>\n",
       "      <td>6</td>\n",
       "      <td>0.075949</td>\n",
       "    </tr>\n",
       "    <tr>\n",
       "      <th>48</th>\n",
       "      <td>WI</td>\n",
       "      <td>94</td>\n",
       "      <td>7</td>\n",
       "      <td>0.074468</td>\n",
       "    </tr>\n",
       "    <tr>\n",
       "      <th>39</th>\n",
       "      <td>RI</td>\n",
       "      <td>87</td>\n",
       "      <td>6</td>\n",
       "      <td>0.068966</td>\n",
       "    </tr>\n",
       "    <tr>\n",
       "      <th>29</th>\n",
       "      <td>NE</td>\n",
       "      <td>73</td>\n",
       "      <td>5</td>\n",
       "      <td>0.068493</td>\n",
       "    </tr>\n",
       "    <tr>\n",
       "      <th>0</th>\n",
       "      <td>AK</td>\n",
       "      <td>61</td>\n",
       "      <td>4</td>\n",
       "      <td>0.065574</td>\n",
       "    </tr>\n",
       "    <tr>\n",
       "      <th>11</th>\n",
       "      <td>HI</td>\n",
       "      <td>77</td>\n",
       "      <td>4</td>\n",
       "      <td>0.051948</td>\n",
       "    </tr>\n",
       "    <tr>\n",
       "      <th>45</th>\n",
       "      <td>VA</td>\n",
       "      <td>100</td>\n",
       "      <td>5</td>\n",
       "      <td>0.050000</td>\n",
       "    </tr>\n",
       "  </tbody>\n",
       "</table>\n",
       "</div>"
      ],
      "text/plain": [
       "   state  total  churned      rate\n",
       "31    NJ     96       26  0.270833\n",
       "4     CA     39       10  0.256410\n",
       "47    WA     80       18  0.225000\n",
       "20    MD     86       19  0.220930\n",
       "26    MT     80       17  0.212500\n",
       "36    OK     78       16  0.205128\n",
       "33    NV     83       17  0.204819\n",
       "40    SC     72       14  0.194444\n",
       "43    TX     98       19  0.193878\n",
       "25    MS     82       15  0.182927\n",
       "21    ME     89       16  0.179775\n",
       "23    MN    108       19  0.175926\n",
       "22    MI     87       15  0.172414\n",
       "16    KS     87       15  0.172414\n",
       "6     CT     88       15  0.170455\n",
       "34    NY     96       16  0.166667\n",
       "8     DE     80       13  0.162500\n",
       "19    MA     89       14  0.157303\n",
       "15    IN     83       13  0.156627\n",
       "2     AR     71       11  0.154930\n",
       "42    TN     79       12  0.151899\n",
       "37    OR     99       15  0.151515\n",
       "41    SD     75       11  0.146667\n",
       "17    KY     85       12  0.141176\n",
       "49    WV    139       19  0.136691\n",
       "1     AL    101       13  0.128713\n",
       "30    NH     78       10  0.128205\n",
       "32    NM     78       10  0.128205\n",
       "35    OH     95       12  0.126316\n",
       "24    MO     80       10  0.125000\n",
       "44    UT     97       12  0.123711\n",
       "38    PA     67        8  0.119403\n",
       "9     FL     76        9  0.118421\n",
       "46    VT     86       10  0.116279\n",
       "13    ID    106       12  0.113208\n",
       "12    IA     62        7  0.112903\n",
       "5     CO     80        9  0.112500\n",
       "7     DC     72        8  0.111111\n",
       "10    GA     64        7  0.109375\n",
       "50    WY     95       10  0.105263\n",
       "18    LA     69        7  0.101449\n",
       "3     AZ     77        7  0.090909\n",
       "28    ND     67        6  0.089552\n",
       "27    NC     80        7  0.087500\n",
       "14    IL     79        6  0.075949\n",
       "48    WI     94        7  0.074468\n",
       "39    RI     87        6  0.068966\n",
       "29    NE     73        5  0.068493\n",
       "0     AK     61        4  0.065574\n",
       "11    HI     77        4  0.051948\n",
       "45    VA    100        5  0.050000"
      ]
     },
     "execution_count": 140,
     "metadata": {},
     "output_type": "execute_result"
    }
   ],
   "source": [
    "churn_rate['rate']= churn_rate['churned']/churn_rate['total'] \n",
    "churn_rate.sort_values(by='rate',ascending=False)"
   ]
  },
  {
   "cell_type": "markdown",
   "id": "5c480440",
   "metadata": {},
   "source": [
    "##### Skewness"
   ]
  },
  {
   "cell_type": "code",
   "execution_count": 86,
   "id": "e5d60bdc",
   "metadata": {},
   "outputs": [
    {
     "data": {
      "text/plain": [
       "account_length                   0.122327\n",
       "international_plan               2.800109\n",
       "voice_mail_plan                  1.084960\n",
       "number_vmail_messages            1.373091\n",
       "total_day_minutes               -0.006910\n",
       "total_day_calls                 -0.085812\n",
       "total_day_charge                -0.006913\n",
       "total_eve_minutes               -0.030415\n",
       "total_eve_calls                 -0.020812\n",
       "total_eve_charge                -0.030388\n",
       "total_night_minutes              0.008491\n",
       "total_night_calls                0.005273\n",
       "total_night_charge               0.008445\n",
       "total_intl_minutes              -0.241360\n",
       "total_intl_calls                 1.360122\n",
       "total_intl_charge               -0.241671\n",
       "number_customer_service_calls    1.082692\n",
       "dtype: float64"
      ]
     },
     "execution_count": 86,
     "metadata": {},
     "output_type": "execute_result"
    }
   ],
   "source": [
    "df[num_cols].skew()"
   ]
  },
  {
   "cell_type": "markdown",
   "id": "11572f93",
   "metadata": {},
   "source": [
    "##### Variable transformation"
   ]
  },
  {
   "cell_type": "code",
   "execution_count": 90,
   "id": "4ca326db",
   "metadata": {},
   "outputs": [],
   "source": [
    "from scipy.special import boxcox1p\n",
    "\n",
    "skew_cols = ['international_plan', 'number_vmail_messages', 'total_intl_calls']\n",
    "df_logs = df[skew_cols]\n",
    "df_boxcox = df[skew_cols]\n",
    "df_sqr_rt = df[skew_cols]\n",
    "df_cb_rt = df[skew_cols]\n",
    "\n",
    "for i in skew_cols:\n",
    "  df_logs.loc[:,i] = np.log(df_logs[i]+1)\n",
    "  df_sqr_rt.loc[:,i] = np.sqrt(df_sqr_rt)\n",
    "  df_cb_rt.loc[:,i] = np.cbrt(df_cb_rt)\n",
    "  df_boxcox.loc[:,i] = boxcox1p(df_boxcox[i], 0.1)"
   ]
  },
  {
   "cell_type": "code",
   "execution_count": 94,
   "id": "bfee2ccf",
   "metadata": {},
   "outputs": [
    {
     "data": {
      "text/plain": [
       "('---log',\n",
       " international_plan       2.800109\n",
       " number_vmail_messages    1.117554\n",
       " total_intl_calls        -0.176811\n",
       " dtype: float64,\n",
       " '---boxcox',\n",
       " international_plan       2.800109\n",
       " number_vmail_messages    1.128101\n",
       " total_intl_calls        -0.023083\n",
       " dtype: float64,\n",
       " '---sqrt',\n",
       " international_plan       2.800109\n",
       " number_vmail_messages    1.169945\n",
       " total_intl_calls         0.260519\n",
       " dtype: float64,\n",
       " '---cubert',\n",
       " international_plan       2.800109\n",
       " number_vmail_messages    1.125958\n",
       " total_intl_calls        -0.447772\n",
       " dtype: float64)"
      ]
     },
     "execution_count": 94,
     "metadata": {},
     "output_type": "execute_result"
    }
   ],
   "source": [
    "\"---log\", df_logs.skew(), \"---boxcox\", df_boxcox.skew(), \"---sqrt\", df_sqr_rt.skew(), \"---cubert\", df_cb_rt.skew()"
   ]
  },
  {
   "cell_type": "code",
   "execution_count": 97,
   "id": "9a60ae7f",
   "metadata": {},
   "outputs": [],
   "source": [
    "df['number_vmail_messages'] = df_logs['number_vmail_messages']\n",
    "df['international_plan'] = df_logs['international_plan']\n",
    "df['total_intl_calls'] = df_boxcox['total_intl_calls']"
   ]
  },
  {
   "cell_type": "code",
   "execution_count": 170,
   "id": "340acc39",
   "metadata": {},
   "outputs": [],
   "source": [
    "df['state']=df['state'].astype('category')\n",
    "df_dummies= pd.get_dummies(df)"
   ]
  },
  {
   "cell_type": "code",
   "execution_count": 171,
   "id": "cae06ae6",
   "metadata": {},
   "outputs": [
    {
     "data": {
      "text/plain": [
       "Index(['account_length', 'international_plan', 'voice_mail_plan',\n",
       "       'number_vmail_messages', 'total_day_minutes', 'total_day_calls',\n",
       "       'total_day_charge', 'total_eve_minutes', 'total_eve_calls',\n",
       "       'total_eve_charge', 'total_night_minutes', 'total_night_calls',\n",
       "       'total_night_charge', 'total_intl_minutes', 'total_intl_calls',\n",
       "       'total_intl_charge', 'number_customer_service_calls', 'churn',\n",
       "       'state_AK', 'state_AL', 'state_AR', 'state_AZ', 'state_CA', 'state_CO',\n",
       "       'state_CT', 'state_DC', 'state_DE', 'state_FL', 'state_GA', 'state_HI',\n",
       "       'state_IA', 'state_ID', 'state_IL', 'state_IN', 'state_KS', 'state_KY',\n",
       "       'state_LA', 'state_MA', 'state_MD', 'state_ME', 'state_MI', 'state_MN',\n",
       "       'state_MO', 'state_MS', 'state_MT', 'state_NC', 'state_ND', 'state_NE',\n",
       "       'state_NH', 'state_NJ', 'state_NM', 'state_NV', 'state_NY', 'state_OH',\n",
       "       'state_OK', 'state_OR', 'state_PA', 'state_RI', 'state_SC', 'state_SD',\n",
       "       'state_TN', 'state_TX', 'state_UT', 'state_VA', 'state_VT', 'state_WA',\n",
       "       'state_WI', 'state_WV', 'state_WY', 'area_code_area_code_408',\n",
       "       'area_code_area_code_415', 'area_code_area_code_510'],\n",
       "      dtype='object')"
      ]
     },
     "execution_count": 171,
     "metadata": {},
     "output_type": "execute_result"
    }
   ],
   "source": [
    "df_dummies.columns"
   ]
  },
  {
   "cell_type": "code",
   "execution_count": 172,
   "id": "fbc5ae18",
   "metadata": {},
   "outputs": [],
   "source": [
    "shuffled= df_dummies.sample(frac=1).reset_index().drop('index',axis=1)"
   ]
  },
  {
   "cell_type": "markdown",
   "id": "49d5eb5a",
   "metadata": {},
   "source": [
    "### Modelling"
   ]
  },
  {
   "cell_type": "code",
   "execution_count": 158,
   "id": "2823de41",
   "metadata": {},
   "outputs": [],
   "source": [
    "from sklearn.model_selection import GridSearchCV ,RandomizedSearchCV\n",
    "from sklearn.metrics import classification_report\n",
    "from sklearn.metrics import confusion_matrix\n",
    "from sklearn import metrics\n",
    "from sklearn.model_selection import cross_val_score\n",
    "from sklearn.svm import SVC\n",
    "from sklearn.model_selection import train_test_split , KFold\n",
    "from sklearn.preprocessing import StandardScaler               "
   ]
  },
  {
   "cell_type": "code",
   "execution_count": 173,
   "id": "1463705a",
   "metadata": {},
   "outputs": [],
   "source": [
    "train_x= shuffled.loc[0:3850,:].drop('churn',axis=1)\n",
    "test_x= shuffled.loc[3851:,:].drop('churn',axis=1)\n",
    "train_y= shuffled.loc[0:3850,'churn']\n",
    "test_y= shuffled.loc[3851:,'churn']    "
   ]
  },
  {
   "cell_type": "code",
   "execution_count": 174,
   "id": "56096648",
   "metadata": {},
   "outputs": [],
   "source": [
    "import statsmodels.api as sm"
   ]
  },
  {
   "cell_type": "code",
   "execution_count": 175,
   "id": "c21d702a",
   "metadata": {},
   "outputs": [
    {
     "name": "stdout",
     "output_type": "stream",
     "text": [
      "Optimization terminated successfully.\n",
      "         Current function value: 0.301294\n",
      "         Iterations 8\n"
     ]
    }
   ],
   "source": [
    "model_logit= sm.Logit(train_y,sm.add_constant(train_x.astype(float))).fit() "
   ]
  },
  {
   "cell_type": "code",
   "execution_count": 176,
   "id": "4392d8f4",
   "metadata": {},
   "outputs": [
    {
     "name": "stdout",
     "output_type": "stream",
     "text": [
      "                           Logit Regression Results                           \n",
      "==============================================================================\n",
      "Dep. Variable:                  churn   No. Observations:                 3851\n",
      "Model:                          Logit   Df Residuals:                     3781\n",
      "Method:                           MLE   Df Model:                           69\n",
      "Date:                Tue, 05 Dec 2023   Pseudo R-squ.:                  0.2610\n",
      "Time:                        16:00:11   Log-Likelihood:                -1160.3\n",
      "converged:                       True   LL-Null:                       -1570.1\n",
      "Covariance Type:            nonrobust   LLR p-value:                7.398e-129\n",
      "=================================================================================================\n",
      "                                    coef    std err          z      P>|z|      [0.025      0.975]\n",
      "-------------------------------------------------------------------------------------------------\n",
      "const                            -6.5413   4.32e+06  -1.51e-06      1.000   -8.47e+06    8.47e+06\n",
      "account_length                    0.0010      0.001      0.725      0.468      -0.002       0.004\n",
      "international_plan                2.1958      0.147     14.956      0.000       1.908       2.484\n",
      "voice_mail_plan                  -2.0768      0.590     -3.521      0.000      -3.233      -0.921\n",
      "number_vmail_messages             0.0292      0.019      1.571      0.116      -0.007       0.066\n",
      "total_day_minutes                 2.6870      3.219      0.835      0.404      -3.622       8.996\n",
      "total_day_calls                   0.0032      0.003      1.188      0.235      -0.002       0.009\n",
      "total_day_charge                -15.7189     18.935     -0.830      0.406     -52.830      21.392\n",
      "total_eve_minutes                 0.1382      1.596      0.087      0.931      -2.991       3.267\n",
      "total_eve_calls                  -0.0006      0.003     -0.212      0.832      -0.006       0.005\n",
      "total_eve_charge                 -1.5490     18.780     -0.082      0.934     -38.358      35.260\n",
      "total_night_minutes               0.4139      0.852      0.486      0.627      -1.256       2.083\n",
      "total_night_calls                -0.0033      0.003     -1.223      0.221      -0.009       0.002\n",
      "total_night_charge               -9.1032     18.928     -0.481      0.631     -46.201      27.995\n",
      "total_intl_minutes                0.0132      5.147      0.003      0.998     -10.076      10.102\n",
      "total_intl_calls                 -0.0427      0.023     -1.858      0.063      -0.088       0.002\n",
      "total_intl_charge                 0.2896     19.065      0.015      0.988     -37.077      37.656\n",
      "number_customer_service_calls     0.5693      0.039     14.603      0.000       0.493       0.646\n",
      "state_AK                         -0.8357   7.85e+06  -1.06e-07      1.000   -1.54e+07    1.54e+07\n",
      "state_AL                         -0.0125   7.92e+06  -1.58e-09      1.000   -1.55e+07    1.55e+07\n",
      "state_AR                          0.2313    7.9e+06   2.93e-08      1.000   -1.55e+07    1.55e+07\n",
      "state_AZ                         -0.7576   7.92e+06  -9.57e-08      1.000   -1.55e+07    1.55e+07\n",
      "state_CA                          1.2503   7.92e+06   1.58e-07      1.000   -1.55e+07    1.55e+07\n",
      "state_CO                         -0.6395    7.9e+06   -8.1e-08      1.000   -1.55e+07    1.55e+07\n",
      "state_CT                          0.2271   7.89e+06   2.88e-08      1.000   -1.55e+07    1.55e+07\n",
      "state_DC                         -0.0783   7.89e+06  -9.93e-09      1.000   -1.55e+07    1.55e+07\n",
      "state_DE                         -0.2026   7.91e+06  -2.56e-08      1.000   -1.55e+07    1.55e+07\n",
      "state_FL                         -0.0856   7.89e+06  -1.08e-08      1.000   -1.55e+07    1.55e+07\n",
      "state_GA                         -0.4755   7.93e+06     -6e-08      1.000   -1.55e+07    1.55e+07\n",
      "state_HI                         -1.5334   7.88e+06  -1.95e-07      1.000   -1.54e+07    1.54e+07\n",
      "state_IA                         -0.4651   7.93e+06  -5.86e-08      1.000   -1.55e+07    1.55e+07\n",
      "state_ID                         -0.2986   7.88e+06  -3.79e-08      1.000   -1.54e+07    1.54e+07\n",
      "state_IL                         -1.1040   7.88e+06   -1.4e-07      1.000   -1.55e+07    1.55e+07\n",
      "state_IN                         -0.1903   7.89e+06  -2.41e-08      1.000   -1.55e+07    1.55e+07\n",
      "state_KS                          0.0517   7.88e+06   6.56e-09      1.000   -1.54e+07    1.54e+07\n",
      "state_KY                          0.2487   7.87e+06   3.16e-08      1.000   -1.54e+07    1.54e+07\n",
      "state_LA                          0.1270    7.9e+06   1.61e-08      1.000   -1.55e+07    1.55e+07\n",
      "state_MA                          0.2862   7.89e+06   3.63e-08      1.000   -1.55e+07    1.55e+07\n",
      "state_MD                          0.2010    7.9e+06   2.55e-08      1.000   -1.55e+07    1.55e+07\n",
      "state_ME                          0.3375   7.89e+06   4.28e-08      1.000   -1.55e+07    1.55e+07\n",
      "state_MI                          0.4027    7.9e+06    5.1e-08      1.000   -1.55e+07    1.55e+07\n",
      "state_MN                          0.3244   7.89e+06   4.11e-08      1.000   -1.55e+07    1.55e+07\n",
      "state_MO                         -0.0990   7.89e+06  -1.25e-08      1.000   -1.55e+07    1.55e+07\n",
      "state_MS                          0.2479   7.93e+06   3.13e-08      1.000   -1.55e+07    1.55e+07\n",
      "state_MT                          0.8836   7.89e+06   1.12e-07      1.000   -1.55e+07    1.55e+07\n",
      "state_NC                         -0.9225   7.89e+06  -1.17e-07      1.000   -1.55e+07    1.55e+07\n",
      "state_ND                         -0.5213   7.91e+06  -6.59e-08      1.000   -1.55e+07    1.55e+07\n",
      "state_NE                         -0.6728   7.88e+06  -8.53e-08      1.000   -1.55e+07    1.55e+07\n",
      "state_NH                         -0.1718   7.86e+06  -2.18e-08      1.000   -1.54e+07    1.54e+07\n",
      "state_NJ                          0.8057   7.87e+06   1.02e-07      1.000   -1.54e+07    1.54e+07\n",
      "state_NM                         -0.2076   7.88e+06  -2.63e-08      1.000   -1.55e+07    1.55e+07\n",
      "state_NV                          0.3384   7.88e+06   4.29e-08      1.000   -1.54e+07    1.54e+07\n",
      "state_NY                          0.1079   7.87e+06   1.37e-08      1.000   -1.54e+07    1.54e+07\n",
      "state_OH                         -0.0073   7.91e+06  -9.24e-10      1.000   -1.55e+07    1.55e+07\n",
      "state_OK                          0.1293   7.91e+06   1.63e-08      1.000   -1.55e+07    1.55e+07\n",
      "state_OR                         -0.1846    7.9e+06  -2.34e-08      1.000   -1.55e+07    1.55e+07\n",
      "state_PA                          0.0095   7.89e+06    1.2e-09      1.000   -1.55e+07    1.55e+07\n",
      "state_RI                         -1.1188   7.92e+06  -1.41e-07      1.000   -1.55e+07    1.55e+07\n",
      "state_SC                          0.6247    7.9e+06    7.9e-08      1.000   -1.55e+07    1.55e+07\n",
      "state_SD                          0.0110   7.91e+06   1.39e-09      1.000   -1.55e+07    1.55e+07\n",
      "state_TN                         -0.1890   7.88e+06   -2.4e-08      1.000   -1.54e+07    1.54e+07\n",
      "state_TX                          0.2550   7.89e+06   3.23e-08      1.000   -1.55e+07    1.55e+07\n",
      "state_UT                         -0.7473   7.86e+06  -9.51e-08      1.000   -1.54e+07    1.54e+07\n",
      "state_VA                         -1.2810   7.91e+06  -1.62e-07      1.000   -1.55e+07    1.55e+07\n",
      "state_VT                         -0.6954   7.91e+06   -8.8e-08      1.000   -1.55e+07    1.55e+07\n",
      "state_WA                          0.7792   7.89e+06   9.88e-08      1.000   -1.55e+07    1.55e+07\n",
      "state_WI                         -0.3557   7.91e+06   -4.5e-08      1.000   -1.55e+07    1.55e+07\n",
      "state_WV                         -0.0065   7.88e+06  -8.29e-10      1.000   -1.55e+07    1.55e+07\n",
      "state_WY                         -0.5620    7.9e+06  -7.11e-08      1.000   -1.55e+07    1.55e+07\n",
      "area_code_area_code_408          -2.0977        nan        nan        nan         nan         nan\n",
      "area_code_area_code_415          -2.2661        nan        nan        nan         nan         nan\n",
      "area_code_area_code_510          -2.1775        nan        nan        nan         nan         nan\n",
      "=================================================================================================\n"
     ]
    }
   ],
   "source": [
    "print(model_logit.summary())"
   ]
  },
  {
   "cell_type": "markdown",
   "id": "d9cfb156",
   "metadata": {},
   "source": [
    "### Model Evaluation"
   ]
  },
  {
   "cell_type": "code",
   "execution_count": 177,
   "id": "7b3bda0f",
   "metadata": {},
   "outputs": [],
   "source": [
    "yhat= model_logit.predict(sm.add_constant(test_x.astype(float)))"
   ]
  },
  {
   "cell_type": "code",
   "execution_count": 178,
   "id": "d0a825db",
   "metadata": {},
   "outputs": [],
   "source": [
    "y_all= list(map(round,yhat))"
   ]
  },
  {
   "cell_type": "code",
   "execution_count": 179,
   "id": "a4a5e620",
   "metadata": {},
   "outputs": [],
   "source": [
    "from sklearn.metrics import (confusion_matrix,accuracy_score)"
   ]
  },
  {
   "cell_type": "code",
   "execution_count": 180,
   "id": "f21fd686",
   "metadata": {},
   "outputs": [
    {
     "name": "stdout",
     "output_type": "stream",
     "text": [
      "tn: 335 fp: 11 fn: 38 fp: 15\n",
      "accuracy: 0.8771929824561403\n",
      "precision 0.5769230769230769\n",
      "recall 0.2830188679245283\n"
     ]
    }
   ],
   "source": [
    "tn, fp, fn, tp = confusion_matrix(test_y,y_all).ravel()\n",
    "print(\"tn:\",tn, \"fp:\", fp,\"fn:\", fn, \"fp:\", tp)\n",
    "accuracy = accuracy_score(test_y,y_all)\n",
    "print(\"accuracy:\", accuracy)\n",
    "## precision and recall\n",
    "precision= tp/(tp+fp)\n",
    "print(\"precision\",precision) \n",
    "recall= tp/(tp+fn) \n",
    "print(\"recall\", recall)"
   ]
  },
  {
   "cell_type": "markdown",
   "id": "60c6c7c7",
   "metadata": {},
   "source": [
    "##### Increasing recall"
   ]
  },
  {
   "cell_type": "code",
   "execution_count": 182,
   "id": "6d9224fe",
   "metadata": {},
   "outputs": [],
   "source": [
    "y_lower_th= [ 1 if x >= 0.4 else 0 for x in yhat]\n",
    "tn1, fp1, fn1, tp1 = confusion_matrix(test_y,y_lower_th).ravel()"
   ]
  },
  {
   "cell_type": "code",
   "execution_count": 183,
   "id": "5e911c33",
   "metadata": {},
   "outputs": [
    {
     "name": "stdout",
     "output_type": "stream",
     "text": [
      "recall1 0.41509433962264153\n",
      "precision 0.4888888888888889\n"
     ]
    }
   ],
   "source": [
    "recall1= tp1/(tp1+fn1) \n",
    "print(\"recall1\", recall1) \n",
    "precision1 = tp1/(tp1+fp1)\n",
    "print(\"precision\",precision1)"
   ]
  },
  {
   "cell_type": "code",
   "execution_count": 187,
   "id": "0a96183e",
   "metadata": {},
   "outputs": [
    {
     "data": {
      "text/plain": [
       "(323, 23, 31, 22)"
      ]
     },
     "execution_count": 187,
     "metadata": {},
     "output_type": "execute_result"
    }
   ],
   "source": [
    "(tn1, fp1, fn1, tp1)"
   ]
  },
  {
   "cell_type": "code",
   "execution_count": 186,
   "id": "95bdb3d9",
   "metadata": {},
   "outputs": [
    {
     "data": {
      "text/plain": [
       "(335, 11, 38, 15)"
      ]
     },
     "execution_count": 186,
     "metadata": {},
     "output_type": "execute_result"
    }
   ],
   "source": [
    "(tn,fp,fn,tp)"
   ]
  },
  {
   "cell_type": "code",
   "execution_count": 188,
   "id": "b47ed22f",
   "metadata": {},
   "outputs": [
    {
     "name": "stdout",
     "output_type": "stream",
     "text": [
      "accuracy: 0.8646616541353384\n"
     ]
    }
   ],
   "source": [
    "print(\"accuracy:\",accuracy_score(test_y,y_lower_th))"
   ]
  },
  {
   "cell_type": "markdown",
   "id": "07a6bc47",
   "metadata": {},
   "source": [
    "### Specifying the formula for the model (smf.logit())"
   ]
  },
  {
   "cell_type": "code",
   "execution_count": 191,
   "id": "757cf691",
   "metadata": {},
   "outputs": [],
   "source": [
    "train_small= train_x.iloc[:,0:3]\n",
    "train_small['account_length']=pd.to_numeric(train_small['account_length'])\n",
    "train_small['international_plan']=pd.to_numeric(train_small['international_plan'])\n",
    "train_small['voice_mail_plan']=pd.to_numeric(train_small['voice_mail_plan'])"
   ]
  },
  {
   "cell_type": "code",
   "execution_count": 196,
   "id": "9d18d2c1",
   "metadata": {},
   "outputs": [
    {
     "name": "stdout",
     "output_type": "stream",
     "text": [
      "Optimization terminated successfully.\n",
      "         Current function value: 0.373124\n",
      "         Iterations 7\n"
     ]
    }
   ],
   "source": [
    "model_small= smf.logit(formula='churn~ account_length+international_plan+voice_mail_plan',data=df_dummies).fit()"
   ]
  },
  {
   "cell_type": "code",
   "execution_count": 197,
   "id": "526d5bce",
   "metadata": {},
   "outputs": [
    {
     "name": "stdout",
     "output_type": "stream",
     "text": [
      "                           Logit Regression Results                           \n",
      "==============================================================================\n",
      "Dep. Variable:                  churn   No. Observations:                 4250\n",
      "Model:                          Logit   Df Residuals:                     4246\n",
      "Method:                           MLE   Df Model:                            3\n",
      "Date:                Tue, 05 Dec 2023   Pseudo R-squ.:                 0.08152\n",
      "Time:                        18:07:55   Log-Likelihood:                -1585.8\n",
      "converged:                       True   LL-Null:                       -1726.5\n",
      "Covariance Type:            nonrobust   LLR p-value:                 9.976e-61\n",
      "======================================================================================\n",
      "                         coef    std err          z      P>|z|      [0.025      0.975]\n",
      "--------------------------------------------------------------------------------------\n",
      "Intercept             -1.9882      0.129    -15.365      0.000      -2.242      -1.735\n",
      "account_length         0.0011      0.001      0.905      0.365      -0.001       0.003\n",
      "international_plan     1.7979      0.116     15.461      0.000       1.570       2.026\n",
      "voice_mail_plan       -0.9699      0.129     -7.545      0.000      -1.222      -0.718\n",
      "======================================================================================\n"
     ]
    }
   ],
   "source": [
    "print(model_small.summary())                    "
   ]
  },
  {
   "cell_type": "code",
   "execution_count": 198,
   "id": "cb6de1da",
   "metadata": {},
   "outputs": [],
   "source": [
    "df=pd.read_html(model_small.summary().tables[1].as_html(),header=0,index_col=0)[0]"
   ]
  },
  {
   "cell_type": "code",
   "execution_count": 199,
   "id": "f8d7c417",
   "metadata": {},
   "outputs": [
    {
     "data": {
      "text/html": [
       "<div>\n",
       "<style scoped>\n",
       "    .dataframe tbody tr th:only-of-type {\n",
       "        vertical-align: middle;\n",
       "    }\n",
       "\n",
       "    .dataframe tbody tr th {\n",
       "        vertical-align: top;\n",
       "    }\n",
       "\n",
       "    .dataframe thead th {\n",
       "        text-align: right;\n",
       "    }\n",
       "</style>\n",
       "<table border=\"1\" class=\"dataframe\">\n",
       "  <thead>\n",
       "    <tr style=\"text-align: right;\">\n",
       "      <th></th>\n",
       "      <th>coef</th>\n",
       "      <th>std err</th>\n",
       "      <th>z</th>\n",
       "      <th>P&gt;|z|</th>\n",
       "      <th>[0.025</th>\n",
       "      <th>0.975]</th>\n",
       "    </tr>\n",
       "  </thead>\n",
       "  <tbody>\n",
       "    <tr>\n",
       "      <th>Intercept</th>\n",
       "      <td>-1.9882</td>\n",
       "      <td>0.129</td>\n",
       "      <td>-15.365</td>\n",
       "      <td>0.000</td>\n",
       "      <td>-2.242</td>\n",
       "      <td>-1.735</td>\n",
       "    </tr>\n",
       "    <tr>\n",
       "      <th>account_length</th>\n",
       "      <td>0.0011</td>\n",
       "      <td>0.001</td>\n",
       "      <td>0.905</td>\n",
       "      <td>0.365</td>\n",
       "      <td>-0.001</td>\n",
       "      <td>0.003</td>\n",
       "    </tr>\n",
       "    <tr>\n",
       "      <th>international_plan</th>\n",
       "      <td>1.7979</td>\n",
       "      <td>0.116</td>\n",
       "      <td>15.461</td>\n",
       "      <td>0.000</td>\n",
       "      <td>1.570</td>\n",
       "      <td>2.026</td>\n",
       "    </tr>\n",
       "    <tr>\n",
       "      <th>voice_mail_plan</th>\n",
       "      <td>-0.9699</td>\n",
       "      <td>0.129</td>\n",
       "      <td>-7.545</td>\n",
       "      <td>0.000</td>\n",
       "      <td>-1.222</td>\n",
       "      <td>-0.718</td>\n",
       "    </tr>\n",
       "  </tbody>\n",
       "</table>\n",
       "</div>"
      ],
      "text/plain": [
       "                      coef  std err       z  P>|z|  [0.025  0.975]\n",
       "Intercept          -1.9882    0.129 -15.365  0.000  -2.242  -1.735\n",
       "account_length      0.0011    0.001   0.905  0.365  -0.001   0.003\n",
       "international_plan  1.7979    0.116  15.461  0.000   1.570   2.026\n",
       "voice_mail_plan    -0.9699    0.129  -7.545  0.000  -1.222  -0.718"
      ]
     },
     "execution_count": 199,
     "metadata": {},
     "output_type": "execute_result"
    }
   ],
   "source": [
    "df"
   ]
  },
  {
   "cell_type": "code",
   "execution_count": 200,
   "id": "cb53ea58",
   "metadata": {},
   "outputs": [
    {
     "data": {
      "text/plain": [
       "-1.9882"
      ]
     },
     "execution_count": 200,
     "metadata": {},
     "output_type": "execute_result"
    }
   ],
   "source": [
    "df.loc['Intercept','coef']"
   ]
  },
  {
   "cell_type": "code",
   "execution_count": 201,
   "id": "796722c1",
   "metadata": {},
   "outputs": [
    {
     "data": {
      "text/plain": [
       "0.1329757690960741"
      ]
     },
     "execution_count": 201,
     "metadata": {},
     "output_type": "execute_result"
    }
   ],
   "source": [
    "### linear egrression = ax+b\n",
    "\n",
    "## exp(ax+b)/1+exp(ax+b)\n",
    "\n",
    "np.exp(df.loc['Intercept','coef']+df.loc['account_length','coef']* train_small.loc[0,'account_length']+\n",
    "      +df.loc['international_plan','coef']* train_small.loc[0,'international_plan']+\n",
    "      +df.loc['voice_mail_plan','coef']* train_small.loc[0,'voice_mail_plan'])/(1+np.exp(df.loc['Intercept','coef']+df.loc['account_length','coef']* train_small.loc[0,'account_length']+\n",
    "      +df.loc['international_plan','coef']* train_small.loc[0,'international_plan']+\n",
    "      +df.loc['voice_mail_plan','coef']* train_small.loc[0,'voice_mail_plan']))\n",
    "\n",
    "\n",
    "\n"
   ]
  },
  {
   "cell_type": "markdown",
   "id": "e9508418",
   "metadata": {},
   "source": [
    "### Odds Ratio  \n",
    "\n",
    "Probability Odds = (Successful Outcomes) / Total Outcomes"
   ]
  },
  {
   "cell_type": "code",
   "execution_count": 202,
   "id": "aadd714a",
   "metadata": {},
   "outputs": [
    {
     "data": {
      "text/plain": [
       "1.0011006052218943"
      ]
     },
     "execution_count": 202,
     "metadata": {},
     "output_type": "execute_result"
    }
   ],
   "source": [
    "### what is the odds ratio that a customer will churn if I increase the account lenght by one month\n",
    "\n",
    "np.exp(df.loc['account_length','coef'])\n"
   ]
  },
  {
   "cell_type": "code",
   "execution_count": 203,
   "id": "e547038e",
   "metadata": {},
   "outputs": [
    {
     "data": {
      "text/plain": [
       "0.37912094830268755"
      ]
     },
     "execution_count": 203,
     "metadata": {},
     "output_type": "execute_result"
    }
   ],
   "source": [
    "### what is the odds ratio that a customer will churn if I have a voice mail plan\n",
    "np.exp(df.loc['voice_mail_plan','coef'])\n"
   ]
  },
  {
   "cell_type": "markdown",
   "id": "4f52d7b5",
   "metadata": {},
   "source": [
    "### References \n",
    "\n",
    "* https://baremetrics.com/academy/churn-prediction-can-improve-business \n",
    "* https://www.udemy.com/course/ra-retail-customer-analytics-and-trade-area-modeling/ \n",
    "* https://userpilot.com/blog/churn-analytics/  "
   ]
  },
  {
   "cell_type": "code",
   "execution_count": null,
   "id": "f9d6ba92",
   "metadata": {},
   "outputs": [],
   "source": []
  }
 ],
 "metadata": {
  "kernelspec": {
   "display_name": "Python 3 (ipykernel)",
   "language": "python",
   "name": "python3"
  },
  "language_info": {
   "codemirror_mode": {
    "name": "ipython",
    "version": 3
   },
   "file_extension": ".py",
   "mimetype": "text/x-python",
   "name": "python",
   "nbconvert_exporter": "python",
   "pygments_lexer": "ipython3",
   "version": "3.11.5"
  }
 },
 "nbformat": 4,
 "nbformat_minor": 5
}
